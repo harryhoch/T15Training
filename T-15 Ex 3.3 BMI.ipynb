{
 "cells": [
  {
   "cell_type": "markdown",
   "metadata": {},
   "source": [
    "# The Indiana Training Program in Public and Population Health Informatics\n",
    "## EXERCISE 3  - BMI calculation using height and weight\n",
    "### 3.3 Creating BMI values from weight and height information, visualization \n",
    "*Competencies addressed*  \n",
    " \n",
    " 1. ...\n",
    " 2. ...\n",
    " 3. Acquire skills related to visualize data to discover patterns (II.1.3)"
   ]
  },
  {
   "cell_type": "markdown",
   "metadata": {},
   "source": [
    "*Learning objectives*  \n",
    " At the end of this module the student will be able to do the following:\n",
    "<s>\n",
    "1. Set up the working environment in R\n",
    "2. Read the dataset prior to loading it into R\n",
    "3. Import a text delimited dataset into R  </s>\n",
    "4. Perform basic transformation of the dataset in multiple ways\n",
    "5. Create derived variables using several vector transformations\n",
    "6. Create visualizations to describe the data\n"
   ]
  },
  {
   "cell_type": "markdown",
   "metadata": {},
   "source": [
    "In this exercise we will  enhance the BMI information of the patients using the height and weight records we purged from the clinical_vars.csv file. With the addition of newly calculated BMI, we will be able to observe BMI change over time (age) as well. \n",
    "\n",
    "Before we start working on R, we need to set the working directory. We will then check folder contents and load the \"wt_ht_wide\" data we created in exercise 3.2."
   ]
  },
  {
   "cell_type": "markdown",
   "metadata": {},
   "source": [
    "### Let's pick up from where we left of at the end of Exercise 3.2\n",
    "we will load the \"wt_ht_wide\" data."
   ]
  },
  {
   "cell_type": "code",
   "execution_count": 1,
   "metadata": {
    "collapsed": false
   },
   "outputs": [
    {
     "data": {
      "text/html": [
       "'/N/dc2/projects/T15/Sample'"
      ],
      "text/latex": [
       "'/N/dc2/projects/T15/Sample'"
      ],
      "text/markdown": [
       "'/N/dc2/projects/T15/Sample'"
      ],
      "text/plain": [
       "[1] \"/N/dc2/projects/T15/Sample\""
      ]
     },
     "metadata": {},
     "output_type": "display_data"
    },
    {
     "data": {
      "text/html": [
       "<ol class=list-inline>\n",
       "\t<li>'1-Descriptives.R'</li>\n",
       "\t<li>'2.1-Sampling.R'</li>\n",
       "\t<li>'2.2-Pertubration.R'</li>\n",
       "\t<li>'3-Exercises 1.R'</li>\n",
       "\t<li>'3-Exercises 32 Algorithm Check.R'</li>\n",
       "\t<li>'T-15 Ex 1 RACE.ipynb'</li>\n",
       "\t<li>'T-15 Ex 2 NDC.ipynb'</li>\n",
       "\t<li>'T-15 Ex 3 .1 BMI.ipynb'</li>\n",
       "\t<li>'T-15 Ex 3.2 BMI.ipynb'</li>\n",
       "\t<li>'T-15 Ex 3.3 BMI.ipynb'</li>\n",
       "\t<li>'Untitled.ipynb'</li>\n",
       "\t<li>'Untitled1.ipynb'</li>\n",
       "\t<li>'clinical_vars.csv'</li>\n",
       "\t<li>'diagnosis.csv'</li>\n",
       "\t<li>'encounters.csv'</li>\n",
       "\t<li>'ht_summary.csv'</li>\n",
       "\t<li>'medication.csv'</li>\n",
       "\t<li>'patients.csv'</li>\n",
       "\t<li>'t2d Exercises 1.ipynb'</li>\n",
       "\t<li>'unindc.dta'</li>\n",
       "\t<li>'wt_ht.RDATA'</li>\n",
       "\t<li>'wt_ht_final.RDATA'</li>\n",
       "\t<li>'wt_ht_wide.RDATA'</li>\n",
       "</ol>\n"
      ],
      "text/latex": [
       "\\begin{enumerate*}\n",
       "\\item '1-Descriptives.R'\n",
       "\\item '2.1-Sampling.R'\n",
       "\\item '2.2-Pertubration.R'\n",
       "\\item '3-Exercises 1.R'\n",
       "\\item '3-Exercises 32 Algorithm Check.R'\n",
       "\\item 'T-15 Ex 1 RACE.ipynb'\n",
       "\\item 'T-15 Ex 2 NDC.ipynb'\n",
       "\\item 'T-15 Ex 3 .1 BMI.ipynb'\n",
       "\\item 'T-15 Ex 3.2 BMI.ipynb'\n",
       "\\item 'T-15 Ex 3.3 BMI.ipynb'\n",
       "\\item 'Untitled.ipynb'\n",
       "\\item 'Untitled1.ipynb'\n",
       "\\item 'clinical\\_vars.csv'\n",
       "\\item 'diagnosis.csv'\n",
       "\\item 'encounters.csv'\n",
       "\\item 'ht\\_summary.csv'\n",
       "\\item 'medication.csv'\n",
       "\\item 'patients.csv'\n",
       "\\item 't2d Exercises 1.ipynb'\n",
       "\\item 'unindc.dta'\n",
       "\\item 'wt\\_ht.RDATA'\n",
       "\\item 'wt\\_ht\\_final.RDATA'\n",
       "\\item 'wt\\_ht\\_wide.RDATA'\n",
       "\\end{enumerate*}\n"
      ],
      "text/markdown": [
       "1. '1-Descriptives.R'\n",
       "2. '2.1-Sampling.R'\n",
       "3. '2.2-Pertubration.R'\n",
       "4. '3-Exercises 1.R'\n",
       "5. '3-Exercises 32 Algorithm Check.R'\n",
       "6. 'T-15 Ex 1 RACE.ipynb'\n",
       "7. 'T-15 Ex 2 NDC.ipynb'\n",
       "8. 'T-15 Ex 3 .1 BMI.ipynb'\n",
       "9. 'T-15 Ex 3.2 BMI.ipynb'\n",
       "10. 'T-15 Ex 3.3 BMI.ipynb'\n",
       "11. 'Untitled.ipynb'\n",
       "12. 'Untitled1.ipynb'\n",
       "13. 'clinical_vars.csv'\n",
       "14. 'diagnosis.csv'\n",
       "15. 'encounters.csv'\n",
       "16. 'ht_summary.csv'\n",
       "17. 'medication.csv'\n",
       "18. 'patients.csv'\n",
       "19. 't2d Exercises 1.ipynb'\n",
       "20. 'unindc.dta'\n",
       "21. 'wt_ht.RDATA'\n",
       "22. 'wt_ht_final.RDATA'\n",
       "23. 'wt_ht_wide.RDATA'\n",
       "\n",
       "\n"
      ],
      "text/plain": [
       " [1] \"1-Descriptives.R\"                 \"2.1-Sampling.R\"                  \n",
       " [3] \"2.2-Pertubration.R\"               \"3-Exercises 1.R\"                 \n",
       " [5] \"3-Exercises 32 Algorithm Check.R\" \"T-15 Ex 1 RACE.ipynb\"            \n",
       " [7] \"T-15 Ex 2 NDC.ipynb\"              \"T-15 Ex 3 .1 BMI.ipynb\"          \n",
       " [9] \"T-15 Ex 3.2 BMI.ipynb\"            \"T-15 Ex 3.3 BMI.ipynb\"           \n",
       "[11] \"Untitled.ipynb\"                   \"Untitled1.ipynb\"                 \n",
       "[13] \"clinical_vars.csv\"                \"diagnosis.csv\"                   \n",
       "[15] \"encounters.csv\"                   \"ht_summary.csv\"                  \n",
       "[17] \"medication.csv\"                   \"patients.csv\"                    \n",
       "[19] \"t2d Exercises 1.ipynb\"            \"unindc.dta\"                      \n",
       "[21] \"wt_ht.RDATA\"                      \"wt_ht_final.RDATA\"               \n",
       "[23] \"wt_ht_wide.RDATA\"                "
      ]
     },
     "metadata": {},
     "output_type": "display_data"
    },
    {
     "data": {
      "text/html": [
       "<table>\n",
       "<thead><tr><th></th><th scope=col>size</th><th scope=col>isdir</th><th scope=col>mode</th><th scope=col>mtime</th><th scope=col>ctime</th><th scope=col>atime</th><th scope=col>uid</th><th scope=col>gid</th><th scope=col>uname</th><th scope=col>grname</th></tr></thead>\n",
       "<tbody>\n",
       "\t<tr><th scope=row>wt_ht_wide.RDATA</th><td>567537             </td><td>FALSE              </td><td>660                </td><td>2018-10-21 14:14:55</td><td>2018-10-21 14:14:55</td><td>2018-10-23 02:29:14</td><td>498945             </td><td>1297               </td><td>ukirbiyi           </td><td>T15                </td></tr>\n",
       "</tbody>\n",
       "</table>\n"
      ],
      "text/latex": [
       "\\begin{tabular}{r|llllllllll}\n",
       "  & size & isdir & mode & mtime & ctime & atime & uid & gid & uname & grname\\\\\n",
       "\\hline\n",
       "\twt\\_ht\\_wide.RDATA & 567537              & FALSE               & 660                 & 2018-10-21 14:14:55 & 2018-10-21 14:14:55 & 2018-10-23 02:29:14 & 498945              & 1297                & ukirbiyi            & T15                \\\\\n",
       "\\end{tabular}\n"
      ],
      "text/markdown": [
       "\n",
       "| <!--/--> | size | isdir | mode | mtime | ctime | atime | uid | gid | uname | grname | \n",
       "|---|\n",
       "| wt_ht_wide.RDATA | 567537              | FALSE               | 660                 | 2018-10-21 14:14:55 | 2018-10-21 14:14:55 | 2018-10-23 02:29:14 | 498945              | 1297                | ukirbiyi            | T15                 | \n",
       "\n",
       "\n"
      ],
      "text/plain": [
       "                 size   isdir mode mtime               ctime              \n",
       "wt_ht_wide.RDATA 567537 FALSE 660  2018-10-21 14:14:55 2018-10-21 14:14:55\n",
       "                 atime               uid    gid  uname    grname\n",
       "wt_ht_wide.RDATA 2018-10-23 02:29:14 498945 1297 ukirbiyi T15   "
      ]
     },
     "metadata": {},
     "output_type": "display_data"
    }
   ],
   "source": [
    "getwd()  #check current directory\n",
    "setwd(\"/N/dc2/projects/T15/Sample\") # setting working folder\n",
    "list.files()\n",
    "file.info(\"wt_ht_wide.RDATA\")\n",
    "load(file = \"wt_ht_wide.RDATA\")"
   ]
  },
  {
   "cell_type": "markdown",
   "metadata": {},
   "source": [
    "### Joining metric & imperial measurements\n",
    "### Checking double entries (metric & imperial) for the same day for the same patient\n",
    "As observed above for the same observation types, we can expect disaggreements among the \"metric\" and \"imperial\" measurements of the same kind (heigh in metric and in imperial and weigh in metric and in imperial). \n",
    "Let's tage the same type observations recorded for the same daya (for the same patient). We will  mark these rows by creating columns named \"ht_double\" and \"wt_double\". We will assign the value \"1\" for double meassurement and \"0\" otherwise. The sum of these columns will give us the number of double measurements. "
   ]
  },
  {
   "cell_type": "code",
   "execution_count": 2,
   "metadata": {
    "collapsed": false
   },
   "outputs": [
    {
     "name": "stderr",
     "output_type": "stream",
     "text": [
      "-- Attaching packages --------------------------------------- tidyverse 1.2.1 --\n",
      "<U+221A> ggplot2 3.0.0     <U+221A> purrr   0.2.5\n",
      "<U+221A> tibble  1.4.2     <U+221A> dplyr   0.7.6\n",
      "<U+221A> tidyr   0.8.1     <U+221A> stringr 1.3.1\n",
      "<U+221A> readr   1.1.1     <U+221A> forcats 0.3.0\n",
      "-- Conflicts ------------------------------------------ tidyverse_conflicts() --\n",
      "x dplyr::filter() masks stats::filter()\n",
      "x dplyr::lag()    masks stats::lag()\n"
     ]
    }
   ],
   "source": [
    "#Let's start the tidyverse library (if not done before)\n",
    "library(tidyverse)"
   ]
  },
  {
   "cell_type": "code",
   "execution_count": 3,
   "metadata": {
    "collapsed": false
   },
   "outputs": [
    {
     "data": {
      "text/html": [
       "3010"
      ],
      "text/latex": [
       "3010"
      ],
      "text/markdown": [
       "3010"
      ],
      "text/plain": [
       "[1] 3010"
      ]
     },
     "metadata": {},
     "output_type": "display_data"
    },
    {
     "data": {
      "text/html": [
       "17286"
      ],
      "text/latex": [
       "17286"
      ],
      "text/markdown": [
       "17286"
      ],
      "text/plain": [
       "[1] 17286"
      ]
     },
     "metadata": {},
     "output_type": "display_data"
    },
    {
     "data": {
      "text/html": [
       "2649"
      ],
      "text/latex": [
       "2649"
      ],
      "text/markdown": [
       "2649"
      ],
      "text/plain": [
       "[1] 2649"
      ]
     },
     "metadata": {},
     "output_type": "display_data"
    }
   ],
   "source": [
    "wt_ht_wide$ht_double <- ifelse( !is.na(wt_ht_wide$`Height Metric`) & \n",
    "                               !is.na(wt_ht_wide$`Height(In)`),\n",
    "                             1, 0)\n",
    "sum(wt_ht_wide$ht_double) # same day height measurements that are both in imperial and metric\n",
    "\n",
    "wt_ht_wide$wt_double <- ifelse( !is.na(wt_ht_wide$`Weight Metric`) & \n",
    "                               !is.na(wt_ht_wide$`Weight Lbs`),\n",
    "                             1, 0)\n",
    "sum(wt_ht_wide$wt_double) # same day weight measurements that are both in imperial and metric\n",
    "\n",
    "# out of curiosity \n",
    "#observations that have all 4 measurements on the same day \n",
    "nrow(wt_ht_wide %>% filter(ht_double ==1, wt_double ==1))\n"
   ]
  },
  {
   "cell_type": "markdown",
   "metadata": {},
   "source": [
    "### Checking the differences among metric and imperial measurements\n",
    "Now we have marked double measurement types, we can query the number of observations that exceed a set value difference. For height we will use 3cm and and weight 3kg, and calculate the number of instances that exceed these differences. \n",
    "We will also mark these observations by creating a column named \"err\" and assign \"1\" for error and \"0\" otherwise. \n",
    "The two differnt codes below give the same values; one using the `filter` function(from dplyr), the other, base R.  "
   ]
  },
  {
   "cell_type": "code",
   "execution_count": 4,
   "metadata": {
    "collapsed": false
   },
   "outputs": [
    {
     "data": {
      "text/html": [
       "766"
      ],
      "text/latex": [
       "766"
      ],
      "text/markdown": [
       "766"
      ],
      "text/plain": [
       "[1] 766"
      ]
     },
     "metadata": {},
     "output_type": "display_data"
    },
    {
     "data": {
      "text/html": [
       "766"
      ],
      "text/latex": [
       "766"
      ],
      "text/markdown": [
       "766"
      ],
      "text/plain": [
       "[1] 766"
      ]
     },
     "metadata": {},
     "output_type": "display_data"
    },
    {
     "data": {
      "text/html": [
       "4359"
      ],
      "text/latex": [
       "4359"
      ],
      "text/markdown": [
       "4359"
      ],
      "text/plain": [
       "[1] 4359"
      ]
     },
     "metadata": {},
     "output_type": "display_data"
    },
    {
     "data": {
      "text/html": [
       "4359"
      ],
      "text/latex": [
       "4359"
      ],
      "text/markdown": [
       "4359"
      ],
      "text/plain": [
       "[1] 4359"
      ]
     },
     "metadata": {},
     "output_type": "display_data"
    }
   ],
   "source": [
    "#Number of same-day height measurements that differ more than 3cm (for the same patient)\n",
    "nrow(wt_ht_wide %>% filter(ht_double==1, `Height Metric`- `Height(In)`*2.54 > 3 ))\n",
    "# Tagging large differences as err variable\n",
    "wt_ht_wide$ht_err <- ifelse(wt_ht_wide$ht_double==1 \n",
    "                         & wt_ht_wide$`Height Metric`- wt_ht_wide$`Height(In)`*2.54 > 3,\n",
    "                         1,0)\n",
    "sum(wt_ht_wide$ht_err) \n",
    "                    \n",
    "\n",
    "#Number of same-day weight measurements that differ more than 3kg (for the same patient)\n",
    "nrow(wt_ht_wide %>% filter(wt_double==1, `Weight Metric`- `Weight Lbs`*.4536 > 3 ))\n",
    "wt_ht_wide$wt_err <- ifelse(wt_ht_wide$wt_double==1 \n",
    "                         & wt_ht_wide$`Weight Metric`- wt_ht_wide$`Weight Lbs`*.4536> 3,\n",
    "                         1,0)\n",
    "sum(wt_ht_wide$wt_err)"
   ]
  },
  {
   "cell_type": "markdown",
   "metadata": {},
   "source": [
    "### Remove the err's with large difference (more than 3cm or 3kg)\n",
    "Note that we use the dplyr `filter` function and only keep the rows with NO \"err\" (either for height or weight)"
   ]
  },
  {
   "cell_type": "code",
   "execution_count": 5,
   "metadata": {
    "collapsed": false
   },
   "outputs": [
    {
     "data": {
      "text/html": [
       "<table>\n",
       "<thead><tr><th scope=col>STUDYID</th><th scope=col>DAYS_VIS_INDEX</th><th scope=col>BMI</th><th scope=col>Height Metric</th><th scope=col>Height(In)</th><th scope=col>Weight Lbs</th><th scope=col>Weight Metric</th><th scope=col>ht_double</th><th scope=col>wt_double</th><th scope=col>ht_err</th><th scope=col>wt_err</th></tr></thead>\n",
       "<tbody>\n",
       "\t<tr><td>16  </td><td>-392</td><td>NA  </td><td>NA  </td><td>NA  </td><td>144 </td><td>NA  </td><td>0   </td><td>0   </td><td>0   </td><td>0   </td></tr>\n",
       "\t<tr><td>16  </td><td>-382</td><td>NA  </td><td>NA  </td><td>NA  </td><td>148 </td><td>NA  </td><td>0   </td><td>0   </td><td>0   </td><td>0   </td></tr>\n",
       "\t<tr><td>16  </td><td>-266</td><td>NA  </td><td>NA  </td><td>NA  </td><td>145 </td><td>NA  </td><td>0   </td><td>0   </td><td>0   </td><td>0   </td></tr>\n",
       "\t<tr><td>16  </td><td>-245</td><td>NA  </td><td>NA  </td><td>NA  </td><td>152 </td><td>NA  </td><td>0   </td><td>0   </td><td>0   </td><td>0   </td></tr>\n",
       "\t<tr><td>16  </td><td>-200</td><td>NA  </td><td>NA  </td><td>NA  </td><td>144 </td><td>NA  </td><td>0   </td><td>0   </td><td>0   </td><td>0   </td></tr>\n",
       "\t<tr><td>16  </td><td>-154</td><td>NA  </td><td>NA  </td><td>NA  </td><td>145 </td><td>NA  </td><td>0   </td><td>0   </td><td>0   </td><td>0   </td></tr>\n",
       "</tbody>\n",
       "</table>\n"
      ],
      "text/latex": [
       "\\begin{tabular}{r|lllllllllll}\n",
       " STUDYID & DAYS\\_VIS\\_INDEX & BMI & Height Metric & Height(In) & Weight Lbs & Weight Metric & ht\\_double & wt\\_double & ht\\_err & wt\\_err\\\\\n",
       "\\hline\n",
       "\t 16   & -392 & NA   & NA   & NA   & 144  & NA   & 0    & 0    & 0    & 0   \\\\\n",
       "\t 16   & -382 & NA   & NA   & NA   & 148  & NA   & 0    & 0    & 0    & 0   \\\\\n",
       "\t 16   & -266 & NA   & NA   & NA   & 145  & NA   & 0    & 0    & 0    & 0   \\\\\n",
       "\t 16   & -245 & NA   & NA   & NA   & 152  & NA   & 0    & 0    & 0    & 0   \\\\\n",
       "\t 16   & -200 & NA   & NA   & NA   & 144  & NA   & 0    & 0    & 0    & 0   \\\\\n",
       "\t 16   & -154 & NA   & NA   & NA   & 145  & NA   & 0    & 0    & 0    & 0   \\\\\n",
       "\\end{tabular}\n"
      ],
      "text/markdown": [
       "\n",
       "STUDYID | DAYS_VIS_INDEX | BMI | Height Metric | Height(In) | Weight Lbs | Weight Metric | ht_double | wt_double | ht_err | wt_err | \n",
       "|---|---|---|---|---|---|\n",
       "| 16   | -392 | NA   | NA   | NA   | 144  | NA   | 0    | 0    | 0    | 0    | \n",
       "| 16   | -382 | NA   | NA   | NA   | 148  | NA   | 0    | 0    | 0    | 0    | \n",
       "| 16   | -266 | NA   | NA   | NA   | 145  | NA   | 0    | 0    | 0    | 0    | \n",
       "| 16   | -245 | NA   | NA   | NA   | 152  | NA   | 0    | 0    | 0    | 0    | \n",
       "| 16   | -200 | NA   | NA   | NA   | 144  | NA   | 0    | 0    | 0    | 0    | \n",
       "| 16   | -154 | NA   | NA   | NA   | 145  | NA   | 0    | 0    | 0    | 0    | \n",
       "\n",
       "\n"
      ],
      "text/plain": [
       "  STUDYID DAYS_VIS_INDEX BMI Height Metric Height(In) Weight Lbs Weight Metric\n",
       "1 16      -392           NA  NA            NA         144        NA           \n",
       "2 16      -382           NA  NA            NA         148        NA           \n",
       "3 16      -266           NA  NA            NA         145        NA           \n",
       "4 16      -245           NA  NA            NA         152        NA           \n",
       "5 16      -200           NA  NA            NA         144        NA           \n",
       "6 16      -154           NA  NA            NA         145        NA           \n",
       "  ht_double wt_double ht_err wt_err\n",
       "1 0         0         0      0     \n",
       "2 0         0         0      0     \n",
       "3 0         0         0      0     \n",
       "4 0         0         0      0     \n",
       "5 0         0         0      0     \n",
       "6 0         0         0      0     "
      ]
     },
     "metadata": {},
     "output_type": "display_data"
    }
   ],
   "source": [
    "wt_ht_wide <- wt_ht_wide %>% filter(ht_err == 0 & wt_err == 0) \n",
    "head(wt_ht_wide)"
   ]
  },
  {
   "cell_type": "markdown",
   "metadata": {},
   "source": [
    "### Consolidating the metric and imperial values into one field, height and weight \n",
    "We will be using the `mutate` function from the dplyr package. Note that the code below overwrites the height value whenever there is a double entry. We will correct this by taking the average of the two values (after conversion to metric). We can easily find these rows since we have marked them with the \"ht_double\" and \"wt_double\" variables created. We can do a quick check with the `head` function."
   ]
  },
  {
   "cell_type": "code",
   "execution_count": 6,
   "metadata": {
    "collapsed": false
   },
   "outputs": [
    {
     "data": {
      "text/html": [
       "<ol class=list-inline>\n",
       "\t<li>162.56</li>\n",
       "\t<li>162.56</li>\n",
       "\t<li>172.72</li>\n",
       "\t<li>160.02</li>\n",
       "\t<li>185.42</li>\n",
       "\t<li>177.8</li>\n",
       "</ol>\n"
      ],
      "text/latex": [
       "\\begin{enumerate*}\n",
       "\\item 162.56\n",
       "\\item 162.56\n",
       "\\item 172.72\n",
       "\\item 160.02\n",
       "\\item 185.42\n",
       "\\item 177.8\n",
       "\\end{enumerate*}\n"
      ],
      "text/markdown": [
       "1. 162.56\n",
       "2. 162.56\n",
       "3. 172.72\n",
       "4. 160.02\n",
       "5. 185.42\n",
       "6. 177.8\n",
       "\n",
       "\n"
      ],
      "text/plain": [
       "[1] 162.56 162.56 172.72 160.02 185.42 177.80"
      ]
     },
     "metadata": {},
     "output_type": "display_data"
    },
    {
     "data": {
      "text/html": [
       "<ol class=list-inline>\n",
       "\t<li>162.28</li>\n",
       "\t<li>162.28</li>\n",
       "\t<li>167.86</li>\n",
       "\t<li>160.01</li>\n",
       "\t<li>185.21</li>\n",
       "\t<li>172.9</li>\n",
       "</ol>\n"
      ],
      "text/latex": [
       "\\begin{enumerate*}\n",
       "\\item 162.28\n",
       "\\item 162.28\n",
       "\\item 167.86\n",
       "\\item 160.01\n",
       "\\item 185.21\n",
       "\\item 172.9\n",
       "\\end{enumerate*}\n"
      ],
      "text/markdown": [
       "1. 162.28\n",
       "2. 162.28\n",
       "3. 167.86\n",
       "4. 160.01\n",
       "5. 185.21\n",
       "6. 172.9\n",
       "\n",
       "\n"
      ],
      "text/plain": [
       "[1] 162.28 162.28 167.86 160.01 185.21 172.90"
      ]
     },
     "metadata": {},
     "output_type": "display_data"
    }
   ],
   "source": [
    "# (transforming values to metric system)\n",
    "wt_ht_wide <- mutate(wt_ht_wide, height = `Height Metric`, height = 2.54 *`Height(In)`)\n",
    "wt_ht_wide <- mutate(wt_ht_wide, weight = `Weight Metric`, weight = `Weight Lbs`*.4536)\n",
    "\n",
    "# Of those who has close measurements for the same day, \n",
    "# height and weight values replaced by average of the two measurements\n",
    "head(wt_ht_wide$height[wt_ht_wide$ht_double ==1])\n",
    "wt_ht_wide$height <- ifelse(wt_ht_wide$ht_double==1, \n",
    "                            (wt_ht_wide[,4]+wt_ht_wide[,5]*2.54)/2, wt_ht_wide$height)\n",
    "\n",
    "#Let's look at initial height values\n",
    "head(wt_ht_wide$height[wt_ht_wide$ht_double ==1])"
   ]
  },
  {
   "cell_type": "markdown",
   "metadata": {},
   "source": [
    "### Cleaning\n",
    "Let's remove the \"ht_err\", \"wt_err\", \"ht_double\" and \"wt_double\" columns since we don't need them anymore. "
   ]
  },
  {
   "cell_type": "code",
   "execution_count": 7,
   "metadata": {
    "collapsed": false
   },
   "outputs": [
    {
     "data": {
      "text/html": [
       "<table>\n",
       "<thead><tr><th scope=col>STUDYID</th><th scope=col>DAYS_VIS_INDEX</th><th scope=col>BMI</th><th scope=col>Height Metric</th><th scope=col>Height(In)</th><th scope=col>Weight Lbs</th><th scope=col>Weight Metric</th><th scope=col>height</th><th scope=col>weight</th></tr></thead>\n",
       "<tbody>\n",
       "\t<tr><td>16     </td><td>-392   </td><td>NA     </td><td>NA     </td><td>NA     </td><td>144    </td><td>NA     </td><td>NA     </td><td>65.3184</td></tr>\n",
       "\t<tr><td>16     </td><td>-382   </td><td>NA     </td><td>NA     </td><td>NA     </td><td>148    </td><td>NA     </td><td>NA     </td><td>67.1328</td></tr>\n",
       "\t<tr><td>16     </td><td>-266   </td><td>NA     </td><td>NA     </td><td>NA     </td><td>145    </td><td>NA     </td><td>NA     </td><td>65.7720</td></tr>\n",
       "\t<tr><td>16     </td><td>-245   </td><td>NA     </td><td>NA     </td><td>NA     </td><td>152    </td><td>NA     </td><td>NA     </td><td>68.9472</td></tr>\n",
       "\t<tr><td>16     </td><td>-200   </td><td>NA     </td><td>NA     </td><td>NA     </td><td>144    </td><td>NA     </td><td>NA     </td><td>65.3184</td></tr>\n",
       "\t<tr><td>16     </td><td>-154   </td><td>NA     </td><td>NA     </td><td>NA     </td><td>145    </td><td>NA     </td><td>NA     </td><td>65.7720</td></tr>\n",
       "</tbody>\n",
       "</table>\n"
      ],
      "text/latex": [
       "\\begin{tabular}{r|lllllllll}\n",
       " STUDYID & DAYS\\_VIS\\_INDEX & BMI & Height Metric & Height(In) & Weight Lbs & Weight Metric & height & weight\\\\\n",
       "\\hline\n",
       "\t 16      & -392    & NA      & NA      & NA      & 144     & NA      & NA      & 65.3184\\\\\n",
       "\t 16      & -382    & NA      & NA      & NA      & 148     & NA      & NA      & 67.1328\\\\\n",
       "\t 16      & -266    & NA      & NA      & NA      & 145     & NA      & NA      & 65.7720\\\\\n",
       "\t 16      & -245    & NA      & NA      & NA      & 152     & NA      & NA      & 68.9472\\\\\n",
       "\t 16      & -200    & NA      & NA      & NA      & 144     & NA      & NA      & 65.3184\\\\\n",
       "\t 16      & -154    & NA      & NA      & NA      & 145     & NA      & NA      & 65.7720\\\\\n",
       "\\end{tabular}\n"
      ],
      "text/markdown": [
       "\n",
       "STUDYID | DAYS_VIS_INDEX | BMI | Height Metric | Height(In) | Weight Lbs | Weight Metric | height | weight | \n",
       "|---|---|---|---|---|---|\n",
       "| 16      | -392    | NA      | NA      | NA      | 144     | NA      | NA      | 65.3184 | \n",
       "| 16      | -382    | NA      | NA      | NA      | 148     | NA      | NA      | 67.1328 | \n",
       "| 16      | -266    | NA      | NA      | NA      | 145     | NA      | NA      | 65.7720 | \n",
       "| 16      | -245    | NA      | NA      | NA      | 152     | NA      | NA      | 68.9472 | \n",
       "| 16      | -200    | NA      | NA      | NA      | 144     | NA      | NA      | 65.3184 | \n",
       "| 16      | -154    | NA      | NA      | NA      | 145     | NA      | NA      | 65.7720 | \n",
       "\n",
       "\n"
      ],
      "text/plain": [
       "  STUDYID DAYS_VIS_INDEX BMI Height Metric Height(In) Weight Lbs Weight Metric\n",
       "1 16      -392           NA  NA            NA         144        NA           \n",
       "2 16      -382           NA  NA            NA         148        NA           \n",
       "3 16      -266           NA  NA            NA         145        NA           \n",
       "4 16      -245           NA  NA            NA         152        NA           \n",
       "5 16      -200           NA  NA            NA         144        NA           \n",
       "6 16      -154           NA  NA            NA         145        NA           \n",
       "  height weight \n",
       "1 NA     65.3184\n",
       "2 NA     67.1328\n",
       "3 NA     65.7720\n",
       "4 NA     68.9472\n",
       "5 NA     65.3184\n",
       "6 NA     65.7720"
      ]
     },
     "metadata": {},
     "output_type": "display_data"
    }
   ],
   "source": [
    "#cleaning\n",
    "wt_ht_wide$ht_err <- NULL\n",
    "wt_ht_wide$wt_err <- NULL\n",
    "wt_ht_wide$ht_double <- NULL\n",
    "wt_ht_wide$wt_double <- NULL\n",
    "head(wt_ht_wide) \n"
   ]
  },
  {
   "cell_type": "markdown",
   "metadata": {},
   "source": [
    "### Calculating (summarizing) the height value for each patient\n",
    "While the weight value changes relatively often, the height value stays tmostly the same. For our purposes, to calculate BMI, we will consider patient's height constant. We will create a second dataset that summarizes each patients the mean, median, standart deviation and count (including non-NA count) of the height values. \n",
    "We will be using dplyr's `group_by` and `summarise` function in a piping faschion. "
   ]
  },
  {
   "cell_type": "code",
   "execution_count": 8,
   "metadata": {
    "collapsed": false
   },
   "outputs": [
    {
     "data": {
      "text/html": [
       "9079"
      ],
      "text/latex": [
       "9079"
      ],
      "text/markdown": [
       "9079"
      ],
      "text/plain": [
       "[1] 9079"
      ]
     },
     "metadata": {},
     "output_type": "display_data"
    },
    {
     "data": {
      "text/html": [
       "<table>\n",
       "<thead><tr><th scope=col>STUDYID</th><th scope=col>ht_mean</th><th scope=col>ht_median</th><th scope=col>ht_sd</th><th scope=col>n</th><th scope=col>ht_non_NA_n</th></tr></thead>\n",
       "<tbody>\n",
       "\t<tr><td> 16     </td><td>147.3200</td><td>147.32  </td><td>      NA</td><td> 14     </td><td> 1      </td></tr>\n",
       "\t<tr><td>103     </td><td>157.4800</td><td>157.48  </td><td>      NA</td><td>  9     </td><td> 1      </td></tr>\n",
       "\t<tr><td>179     </td><td>182.2174</td><td>185.42  </td><td>7.966836</td><td> 32     </td><td>23      </td></tr>\n",
       "\t<tr><td>195     </td><td>158.7500</td><td>154.94  </td><td>5.773497</td><td>102     </td><td>10      </td></tr>\n",
       "\t<tr><td>239     </td><td>178.4626</td><td>180.34  </td><td>8.872413</td><td>246     </td><td>23      </td></tr>\n",
       "\t<tr><td>251     </td><td>163.4067</td><td>162.56  </td><td>6.392193</td><td> 20     </td><td> 3      </td></tr>\n",
       "</tbody>\n",
       "</table>\n"
      ],
      "text/latex": [
       "\\begin{tabular}{r|llllll}\n",
       " STUDYID & ht\\_mean & ht\\_median & ht\\_sd & n & ht\\_non\\_NA\\_n\\\\\n",
       "\\hline\n",
       "\t  16      & 147.3200 & 147.32   &       NA &  14      &  1      \\\\\n",
       "\t 103      & 157.4800 & 157.48   &       NA &   9      &  1      \\\\\n",
       "\t 179      & 182.2174 & 185.42   & 7.966836 &  32      & 23      \\\\\n",
       "\t 195      & 158.7500 & 154.94   & 5.773497 & 102      & 10      \\\\\n",
       "\t 239      & 178.4626 & 180.34   & 8.872413 & 246      & 23      \\\\\n",
       "\t 251      & 163.4067 & 162.56   & 6.392193 &  20      &  3      \\\\\n",
       "\\end{tabular}\n"
      ],
      "text/markdown": [
       "\n",
       "STUDYID | ht_mean | ht_median | ht_sd | n | ht_non_NA_n | \n",
       "|---|---|---|---|---|---|\n",
       "|  16      | 147.3200 | 147.32   |       NA |  14      |  1       | \n",
       "| 103      | 157.4800 | 157.48   |       NA |   9      |  1       | \n",
       "| 179      | 182.2174 | 185.42   | 7.966836 |  32      | 23       | \n",
       "| 195      | 158.7500 | 154.94   | 5.773497 | 102      | 10       | \n",
       "| 239      | 178.4626 | 180.34   | 8.872413 | 246      | 23       | \n",
       "| 251      | 163.4067 | 162.56   | 6.392193 |  20      |  3       | \n",
       "\n",
       "\n"
      ],
      "text/plain": [
       "  STUDYID ht_mean  ht_median ht_sd    n   ht_non_NA_n\n",
       "1  16     147.3200 147.32          NA  14  1         \n",
       "2 103     157.4800 157.48          NA   9  1         \n",
       "3 179     182.2174 185.42    7.966836  32 23         \n",
       "4 195     158.7500 154.94    5.773497 102 10         \n",
       "5 239     178.4626 180.34    8.872413 246 23         \n",
       "6 251     163.4067 162.56    6.392193  20  3         "
      ]
     },
     "metadata": {},
     "output_type": "display_data"
    }
   ],
   "source": [
    "#Summarizing height by patients\n",
    "length(unique(wt_ht_wide$STUDYID)) # number of unique patients\n",
    "ht_summary <- wt_ht_wide %>% group_by(STUDYID) %>% \n",
    "                    summarise(ht_mean= mean(height, na.rm = TRUE), \n",
    "                              ht_median = median(height, na.rm = TRUE),\n",
    "                              ht_sd = sd(height, na.rm = TRUE),\n",
    "                              n= n(), ht_non_NA_n= sum(!is.na(height)))\n",
    "head(ht_summary)"
   ]
  },
  {
   "cell_type": "markdown",
   "metadata": {},
   "source": [
    "#### Transfer the median height information to wt_ht_wide dataset\n",
    "Now we have found the height values for each patient we can now move it to our dataset. Normaly the height values follow a normal distribution however there are still rare unsusual measurements in patients height data. Median is more immune to these kind of changes and should be close to mean values in a normally distributed data. "
   ]
  },
  {
   "cell_type": "code",
   "execution_count": 9,
   "metadata": {
    "collapsed": false
   },
   "outputs": [
    {
     "data": {
      "text/html": [
       "<table>\n",
       "<thead><tr><th scope=col>STUDYID</th><th scope=col>DAYS_VIS_INDEX</th><th scope=col>BMI</th><th scope=col>Height Metric</th><th scope=col>Height(In)</th><th scope=col>Weight Lbs</th><th scope=col>Weight Metric</th><th scope=col>height</th><th scope=col>weight</th><th scope=col>n</th><th scope=col>ht_mean</th></tr></thead>\n",
       "<tbody>\n",
       "\t<tr><td>16     </td><td>-392   </td><td>NA     </td><td>NA     </td><td>NA     </td><td>144    </td><td>NA     </td><td>NA     </td><td>65.3184</td><td>14     </td><td>147.32 </td></tr>\n",
       "\t<tr><td>16     </td><td>-382   </td><td>NA     </td><td>NA     </td><td>NA     </td><td>148    </td><td>NA     </td><td>NA     </td><td>67.1328</td><td>14     </td><td>147.32 </td></tr>\n",
       "\t<tr><td>16     </td><td>-266   </td><td>NA     </td><td>NA     </td><td>NA     </td><td>145    </td><td>NA     </td><td>NA     </td><td>65.7720</td><td>14     </td><td>147.32 </td></tr>\n",
       "\t<tr><td>16     </td><td>-245   </td><td>NA     </td><td>NA     </td><td>NA     </td><td>152    </td><td>NA     </td><td>NA     </td><td>68.9472</td><td>14     </td><td>147.32 </td></tr>\n",
       "\t<tr><td>16     </td><td>-200   </td><td>NA     </td><td>NA     </td><td>NA     </td><td>144    </td><td>NA     </td><td>NA     </td><td>65.3184</td><td>14     </td><td>147.32 </td></tr>\n",
       "\t<tr><td>16     </td><td>-154   </td><td>NA     </td><td>NA     </td><td>NA     </td><td>145    </td><td>NA     </td><td>NA     </td><td>65.7720</td><td>14     </td><td>147.32 </td></tr>\n",
       "</tbody>\n",
       "</table>\n"
      ],
      "text/latex": [
       "\\begin{tabular}{r|lllllllllll}\n",
       " STUDYID & DAYS\\_VIS\\_INDEX & BMI & Height Metric & Height(In) & Weight Lbs & Weight Metric & height & weight & n & ht\\_mean\\\\\n",
       "\\hline\n",
       "\t 16      & -392    & NA      & NA      & NA      & 144     & NA      & NA      & 65.3184 & 14      & 147.32 \\\\\n",
       "\t 16      & -382    & NA      & NA      & NA      & 148     & NA      & NA      & 67.1328 & 14      & 147.32 \\\\\n",
       "\t 16      & -266    & NA      & NA      & NA      & 145     & NA      & NA      & 65.7720 & 14      & 147.32 \\\\\n",
       "\t 16      & -245    & NA      & NA      & NA      & 152     & NA      & NA      & 68.9472 & 14      & 147.32 \\\\\n",
       "\t 16      & -200    & NA      & NA      & NA      & 144     & NA      & NA      & 65.3184 & 14      & 147.32 \\\\\n",
       "\t 16      & -154    & NA      & NA      & NA      & 145     & NA      & NA      & 65.7720 & 14      & 147.32 \\\\\n",
       "\\end{tabular}\n"
      ],
      "text/markdown": [
       "\n",
       "STUDYID | DAYS_VIS_INDEX | BMI | Height Metric | Height(In) | Weight Lbs | Weight Metric | height | weight | n | ht_mean | \n",
       "|---|---|---|---|---|---|\n",
       "| 16      | -392    | NA      | NA      | NA      | 144     | NA      | NA      | 65.3184 | 14      | 147.32  | \n",
       "| 16      | -382    | NA      | NA      | NA      | 148     | NA      | NA      | 67.1328 | 14      | 147.32  | \n",
       "| 16      | -266    | NA      | NA      | NA      | 145     | NA      | NA      | 65.7720 | 14      | 147.32  | \n",
       "| 16      | -245    | NA      | NA      | NA      | 152     | NA      | NA      | 68.9472 | 14      | 147.32  | \n",
       "| 16      | -200    | NA      | NA      | NA      | 144     | NA      | NA      | 65.3184 | 14      | 147.32  | \n",
       "| 16      | -154    | NA      | NA      | NA      | 145     | NA      | NA      | 65.7720 | 14      | 147.32  | \n",
       "\n",
       "\n"
      ],
      "text/plain": [
       "  STUDYID DAYS_VIS_INDEX BMI Height Metric Height(In) Weight Lbs Weight Metric\n",
       "1 16      -392           NA  NA            NA         144        NA           \n",
       "2 16      -382           NA  NA            NA         148        NA           \n",
       "3 16      -266           NA  NA            NA         145        NA           \n",
       "4 16      -245           NA  NA            NA         152        NA           \n",
       "5 16      -200           NA  NA            NA         144        NA           \n",
       "6 16      -154           NA  NA            NA         145        NA           \n",
       "  height weight  n  ht_mean\n",
       "1 NA     65.3184 14 147.32 \n",
       "2 NA     67.1328 14 147.32 \n",
       "3 NA     65.7720 14 147.32 \n",
       "4 NA     68.9472 14 147.32 \n",
       "5 NA     65.3184 14 147.32 \n",
       "6 NA     65.7720 14 147.32 "
      ]
     },
     "metadata": {},
     "output_type": "display_data"
    }
   ],
   "source": [
    "#Transfer height(from summary) to wt_ht_wide data\n",
    "wt_ht_wide <- merge(x = wt_ht_wide, y = ht_summary[,c(\"STUDYID\", \"n\", \"ht_mean\")], \n",
    "                    by = \"STUDYID\", all.x= TRUE) \n",
    "head(wt_ht_wide)"
   ]
  },
  {
   "cell_type": "markdown",
   "metadata": {},
   "source": [
    "### Creating final dataset (Cleaning)\n",
    "Removing height columns other than \"mean of height (ht_mean)\", ie  columns 4, 5 , 8\n",
    "Removing weight metric & imperial colums 6, 7"
   ]
  },
  {
   "cell_type": "code",
   "execution_count": 10,
   "metadata": {
    "collapsed": false
   },
   "outputs": [
    {
     "data": {
      "text/html": [
       "<table>\n",
       "<thead><tr><th scope=col>STUDYID</th><th scope=col>DAYS_VIS_INDEX</th><th scope=col>BMI</th><th scope=col>weight</th><th scope=col>n</th><th scope=col>ht_mean</th></tr></thead>\n",
       "<tbody>\n",
       "\t<tr><td>16     </td><td>-392   </td><td>NA     </td><td>65.3184</td><td>14     </td><td>147.32 </td></tr>\n",
       "\t<tr><td>16     </td><td>-382   </td><td>NA     </td><td>67.1328</td><td>14     </td><td>147.32 </td></tr>\n",
       "\t<tr><td>16     </td><td>-266   </td><td>NA     </td><td>65.7720</td><td>14     </td><td>147.32 </td></tr>\n",
       "\t<tr><td>16     </td><td>-245   </td><td>NA     </td><td>68.9472</td><td>14     </td><td>147.32 </td></tr>\n",
       "\t<tr><td>16     </td><td>-200   </td><td>NA     </td><td>65.3184</td><td>14     </td><td>147.32 </td></tr>\n",
       "\t<tr><td>16     </td><td>-154   </td><td>NA     </td><td>65.7720</td><td>14     </td><td>147.32 </td></tr>\n",
       "</tbody>\n",
       "</table>\n"
      ],
      "text/latex": [
       "\\begin{tabular}{r|llllll}\n",
       " STUDYID & DAYS\\_VIS\\_INDEX & BMI & weight & n & ht\\_mean\\\\\n",
       "\\hline\n",
       "\t 16      & -392    & NA      & 65.3184 & 14      & 147.32 \\\\\n",
       "\t 16      & -382    & NA      & 67.1328 & 14      & 147.32 \\\\\n",
       "\t 16      & -266    & NA      & 65.7720 & 14      & 147.32 \\\\\n",
       "\t 16      & -245    & NA      & 68.9472 & 14      & 147.32 \\\\\n",
       "\t 16      & -200    & NA      & 65.3184 & 14      & 147.32 \\\\\n",
       "\t 16      & -154    & NA      & 65.7720 & 14      & 147.32 \\\\\n",
       "\\end{tabular}\n"
      ],
      "text/markdown": [
       "\n",
       "STUDYID | DAYS_VIS_INDEX | BMI | weight | n | ht_mean | \n",
       "|---|---|---|---|---|---|\n",
       "| 16      | -392    | NA      | 65.3184 | 14      | 147.32  | \n",
       "| 16      | -382    | NA      | 67.1328 | 14      | 147.32  | \n",
       "| 16      | -266    | NA      | 65.7720 | 14      | 147.32  | \n",
       "| 16      | -245    | NA      | 68.9472 | 14      | 147.32  | \n",
       "| 16      | -200    | NA      | 65.3184 | 14      | 147.32  | \n",
       "| 16      | -154    | NA      | 65.7720 | 14      | 147.32  | \n",
       "\n",
       "\n"
      ],
      "text/plain": [
       "  STUDYID DAYS_VIS_INDEX BMI weight  n  ht_mean\n",
       "1 16      -392           NA  65.3184 14 147.32 \n",
       "2 16      -382           NA  67.1328 14 147.32 \n",
       "3 16      -266           NA  65.7720 14 147.32 \n",
       "4 16      -245           NA  68.9472 14 147.32 \n",
       "5 16      -200           NA  65.3184 14 147.32 \n",
       "6 16      -154           NA  65.7720 14 147.32 "
      ]
     },
     "metadata": {},
     "output_type": "display_data"
    }
   ],
   "source": [
    "wt_ht_final <- wt_ht_wide[, -c(4:8)]\n",
    "head(wt_ht_final)"
   ]
  },
  {
   "cell_type": "markdown",
   "metadata": {},
   "source": [
    "### Adding Age to the observation \n",
    "using DAYS_VIS_INDEX and INDEX_AGE (from patients data)\n",
    "We will be merging the patient dataset with our wt_ht_final dataset. "
   ]
  },
  {
   "cell_type": "code",
   "execution_count": 11,
   "metadata": {
    "collapsed": false
   },
   "outputs": [
    {
     "data": {
      "text/html": [
       "<table>\n",
       "<thead><tr><th scope=col>STUDYID</th><th scope=col>DAYS_VIS_INDEX</th><th scope=col>BMI</th><th scope=col>weight</th><th scope=col>n</th><th scope=col>ht_mean</th><th scope=col>INDEX_AGE</th></tr></thead>\n",
       "<tbody>\n",
       "\t<tr><td>16     </td><td>-392   </td><td>NA     </td><td>65.3184</td><td>14     </td><td>147.32 </td><td>76     </td></tr>\n",
       "\t<tr><td>16     </td><td>-382   </td><td>NA     </td><td>67.1328</td><td>14     </td><td>147.32 </td><td>76     </td></tr>\n",
       "\t<tr><td>16     </td><td>-266   </td><td>NA     </td><td>65.7720</td><td>14     </td><td>147.32 </td><td>76     </td></tr>\n",
       "\t<tr><td>16     </td><td>-245   </td><td>NA     </td><td>68.9472</td><td>14     </td><td>147.32 </td><td>76     </td></tr>\n",
       "\t<tr><td>16     </td><td>-200   </td><td>NA     </td><td>65.3184</td><td>14     </td><td>147.32 </td><td>76     </td></tr>\n",
       "\t<tr><td>16     </td><td>-154   </td><td>NA     </td><td>65.7720</td><td>14     </td><td>147.32 </td><td>76     </td></tr>\n",
       "</tbody>\n",
       "</table>\n"
      ],
      "text/latex": [
       "\\begin{tabular}{r|lllllll}\n",
       " STUDYID & DAYS\\_VIS\\_INDEX & BMI & weight & n & ht\\_mean & INDEX\\_AGE\\\\\n",
       "\\hline\n",
       "\t 16      & -392    & NA      & 65.3184 & 14      & 147.32  & 76     \\\\\n",
       "\t 16      & -382    & NA      & 67.1328 & 14      & 147.32  & 76     \\\\\n",
       "\t 16      & -266    & NA      & 65.7720 & 14      & 147.32  & 76     \\\\\n",
       "\t 16      & -245    & NA      & 68.9472 & 14      & 147.32  & 76     \\\\\n",
       "\t 16      & -200    & NA      & 65.3184 & 14      & 147.32  & 76     \\\\\n",
       "\t 16      & -154    & NA      & 65.7720 & 14      & 147.32  & 76     \\\\\n",
       "\\end{tabular}\n"
      ],
      "text/markdown": [
       "\n",
       "STUDYID | DAYS_VIS_INDEX | BMI | weight | n | ht_mean | INDEX_AGE | \n",
       "|---|---|---|---|---|---|\n",
       "| 16      | -392    | NA      | 65.3184 | 14      | 147.32  | 76      | \n",
       "| 16      | -382    | NA      | 67.1328 | 14      | 147.32  | 76      | \n",
       "| 16      | -266    | NA      | 65.7720 | 14      | 147.32  | 76      | \n",
       "| 16      | -245    | NA      | 68.9472 | 14      | 147.32  | 76      | \n",
       "| 16      | -200    | NA      | 65.3184 | 14      | 147.32  | 76      | \n",
       "| 16      | -154    | NA      | 65.7720 | 14      | 147.32  | 76      | \n",
       "\n",
       "\n"
      ],
      "text/plain": [
       "  STUDYID DAYS_VIS_INDEX BMI weight  n  ht_mean INDEX_AGE\n",
       "1 16      -392           NA  65.3184 14 147.32  76       \n",
       "2 16      -382           NA  67.1328 14 147.32  76       \n",
       "3 16      -266           NA  65.7720 14 147.32  76       \n",
       "4 16      -245           NA  68.9472 14 147.32  76       \n",
       "5 16      -200           NA  65.3184 14 147.32  76       \n",
       "6 16      -154           NA  65.7720 14 147.32  76       "
      ]
     },
     "metadata": {},
     "output_type": "display_data"
    }
   ],
   "source": [
    "# Joining \"age at index\" values from patient file with wt_ht_final columns\n",
    "patients <- read.csv(\"patients.csv\", header= TRUE)\n",
    "\n",
    "wt_ht_final <- merge(x = wt_ht_final, y = patients[,c(\"STUDYID\", \"INDEX_AGE\")], \n",
    "           by = \"STUDYID\", all.x= TRUE) \n",
    "rm (patients)\n",
    "head(wt_ht_final)"
   ]
  },
  {
   "cell_type": "markdown",
   "metadata": {},
   "source": [
    "### Creating final dataset (adding Age at observation and BMI calculated)\n",
    "These two are the final variables for our final dataset. We will be using the `mutate` function from the dplyr package. "
   ]
  },
  {
   "cell_type": "code",
   "execution_count": 12,
   "metadata": {
    "collapsed": false,
    "scrolled": true
   },
   "outputs": [
    {
     "data": {
      "text/html": [
       "<table>\n",
       "<thead><tr><th scope=col>STUDYID</th><th scope=col>DAYS_VIS_INDEX</th><th scope=col>BMI</th><th scope=col>weight</th><th scope=col>n</th><th scope=col>ht_mean</th><th scope=col>INDEX_AGE</th><th scope=col>AGE</th><th scope=col>BMI_calc</th></tr></thead>\n",
       "<tbody>\n",
       "\t<tr><td>16      </td><td>-392    </td><td>NA      </td><td>65.3184 </td><td>14      </td><td>147.32  </td><td>76      </td><td>74.92676</td><td>30.09623</td></tr>\n",
       "\t<tr><td>16      </td><td>-382    </td><td>NA      </td><td>67.1328 </td><td>14      </td><td>147.32  </td><td>76      </td><td>74.95414</td><td>30.93224</td></tr>\n",
       "\t<tr><td>16      </td><td>-266    </td><td>NA      </td><td>65.7720 </td><td>14      </td><td>147.32  </td><td>76      </td><td>75.27173</td><td>30.30523</td></tr>\n",
       "\t<tr><td>16      </td><td>-245    </td><td>NA      </td><td>68.9472 </td><td>14      </td><td>147.32  </td><td>76      </td><td>75.32923</td><td>31.76824</td></tr>\n",
       "\t<tr><td>16      </td><td>-200    </td><td>NA      </td><td>65.3184 </td><td>14      </td><td>147.32  </td><td>76      </td><td>75.45243</td><td>30.09623</td></tr>\n",
       "\t<tr><td>16      </td><td>-154    </td><td>NA      </td><td>65.7720 </td><td>14      </td><td>147.32  </td><td>76      </td><td>75.57837</td><td>30.30523</td></tr>\n",
       "</tbody>\n",
       "</table>\n"
      ],
      "text/latex": [
       "\\begin{tabular}{r|lllllllll}\n",
       " STUDYID & DAYS\\_VIS\\_INDEX & BMI & weight & n & ht\\_mean & INDEX\\_AGE & AGE & BMI\\_calc\\\\\n",
       "\\hline\n",
       "\t 16       & -392     & NA       & 65.3184  & 14       & 147.32   & 76       & 74.92676 & 30.09623\\\\\n",
       "\t 16       & -382     & NA       & 67.1328  & 14       & 147.32   & 76       & 74.95414 & 30.93224\\\\\n",
       "\t 16       & -266     & NA       & 65.7720  & 14       & 147.32   & 76       & 75.27173 & 30.30523\\\\\n",
       "\t 16       & -245     & NA       & 68.9472  & 14       & 147.32   & 76       & 75.32923 & 31.76824\\\\\n",
       "\t 16       & -200     & NA       & 65.3184  & 14       & 147.32   & 76       & 75.45243 & 30.09623\\\\\n",
       "\t 16       & -154     & NA       & 65.7720  & 14       & 147.32   & 76       & 75.57837 & 30.30523\\\\\n",
       "\\end{tabular}\n"
      ],
      "text/markdown": [
       "\n",
       "STUDYID | DAYS_VIS_INDEX | BMI | weight | n | ht_mean | INDEX_AGE | AGE | BMI_calc | \n",
       "|---|---|---|---|---|---|\n",
       "| 16       | -392     | NA       | 65.3184  | 14       | 147.32   | 76       | 74.92676 | 30.09623 | \n",
       "| 16       | -382     | NA       | 67.1328  | 14       | 147.32   | 76       | 74.95414 | 30.93224 | \n",
       "| 16       | -266     | NA       | 65.7720  | 14       | 147.32   | 76       | 75.27173 | 30.30523 | \n",
       "| 16       | -245     | NA       | 68.9472  | 14       | 147.32   | 76       | 75.32923 | 31.76824 | \n",
       "| 16       | -200     | NA       | 65.3184  | 14       | 147.32   | 76       | 75.45243 | 30.09623 | \n",
       "| 16       | -154     | NA       | 65.7720  | 14       | 147.32   | 76       | 75.57837 | 30.30523 | \n",
       "\n",
       "\n"
      ],
      "text/plain": [
       "  STUDYID DAYS_VIS_INDEX BMI weight  n  ht_mean INDEX_AGE AGE      BMI_calc\n",
       "1 16      -392           NA  65.3184 14 147.32  76        74.92676 30.09623\n",
       "2 16      -382           NA  67.1328 14 147.32  76        74.95414 30.93224\n",
       "3 16      -266           NA  65.7720 14 147.32  76        75.27173 30.30523\n",
       "4 16      -245           NA  68.9472 14 147.32  76        75.32923 31.76824\n",
       "5 16      -200           NA  65.3184 14 147.32  76        75.45243 30.09623\n",
       "6 16      -154           NA  65.7720 14 147.32  76        75.57837 30.30523"
      ]
     },
     "metadata": {},
     "output_type": "display_data"
    }
   ],
   "source": [
    "#Calculating age at observed weight\n",
    "wt_ht_final <- wt_ht_final %>% mutate(AGE = INDEX_AGE + DAYS_VIS_INDEX/365.25) \n",
    "# Calculating BMI with the observed weight\n",
    "wt_ht_final <- wt_ht_final %>% mutate(BMI_calc = weight/(ht_mean/100)^2) \n",
    "head(wt_ht_final)"
   ]
  },
  {
   "cell_type": "markdown",
   "metadata": {},
   "source": [
    "### Saving the `wt_ht_final` data in RDATA format at the end of Ex 3.3"
   ]
  },
  {
   "cell_type": "code",
   "execution_count": 13,
   "metadata": {
    "collapsed": false
   },
   "outputs": [
    {
     "data": {
      "text/html": [
       "<table>\n",
       "<thead><tr><th></th><th scope=col>size</th><th scope=col>isdir</th><th scope=col>mode</th><th scope=col>mtime</th><th scope=col>ctime</th><th scope=col>atime</th><th scope=col>uid</th><th scope=col>gid</th><th scope=col>uname</th><th scope=col>grname</th></tr></thead>\n",
       "<tbody>\n",
       "\t<tr><th scope=row>wt_ht_final.RDATA</th><td>1168411            </td><td>FALSE              </td><td>660                </td><td>2018-10-23 02:39:40</td><td>2018-10-23 02:39:40</td><td>2018-10-23 02:31:26</td><td>498945             </td><td>1297               </td><td>ukirbiyi           </td><td>T15                </td></tr>\n",
       "</tbody>\n",
       "</table>\n"
      ],
      "text/latex": [
       "\\begin{tabular}{r|llllllllll}\n",
       "  & size & isdir & mode & mtime & ctime & atime & uid & gid & uname & grname\\\\\n",
       "\\hline\n",
       "\twt\\_ht\\_final.RDATA & 1168411             & FALSE               & 660                 & 2018-10-23 02:39:40 & 2018-10-23 02:39:40 & 2018-10-23 02:31:26 & 498945              & 1297                & ukirbiyi            & T15                \\\\\n",
       "\\end{tabular}\n"
      ],
      "text/markdown": [
       "\n",
       "| <!--/--> | size | isdir | mode | mtime | ctime | atime | uid | gid | uname | grname | \n",
       "|---|\n",
       "| wt_ht_final.RDATA | 1168411             | FALSE               | 660                 | 2018-10-23 02:39:40 | 2018-10-23 02:39:40 | 2018-10-23 02:31:26 | 498945              | 1297                | ukirbiyi            | T15                 | \n",
       "\n",
       "\n"
      ],
      "text/plain": [
       "                  size    isdir mode mtime               ctime              \n",
       "wt_ht_final.RDATA 1168411 FALSE 660  2018-10-23 02:39:40 2018-10-23 02:39:40\n",
       "                  atime               uid    gid  uname    grname\n",
       "wt_ht_final.RDATA 2018-10-23 02:31:26 498945 1297 ukirbiyi T15   "
      ]
     },
     "metadata": {},
     "output_type": "display_data"
    }
   ],
   "source": [
    "save(wt_ht_final, file =\"wt_ht_final.RDATA\")\n",
    "file.info(\"wt_ht_final.RDATA\")"
   ]
  },
  {
   "cell_type": "markdown",
   "metadata": {},
   "source": [
    "### Visualizing all BMI over age data \n",
    "We will be using the hexbin plot  "
   ]
  },
  {
   "cell_type": "code",
   "execution_count": 14,
   "metadata": {
    "collapsed": false
   },
   "outputs": [
    {
     "name": "stderr",
     "output_type": "stream",
     "text": [
      "Installing package into '/gpfs/home/u/k/ukirbiyi/Carbonate/R/x86_64-pc-linux-gnu-library/3.3'\n",
      "(as 'lib' is unspecified)\n",
      "Warning message in install.packages(\"hexbin\"):\n",
      "\"installation of package 'hexbin' had non-zero exit status\""
     ]
    }
   ],
   "source": [
    "#install.packages(\"hexbin\") #if you haven't already\n",
    "library(hexbin)"
   ]
  },
  {
   "cell_type": "code",
   "execution_count": 15,
   "metadata": {
    "collapsed": false
   },
   "outputs": [
    {
     "data": {
      "image/png": "[encoded data removed]",
      "text/plain": [
       "plot without title"
      ]
     },
     "metadata": {},
     "output_type": "display_data"
    }
   ],
   "source": [
    "cols <- colorRampPalette(c(\"darkorchid4\",\"darkblue\",\"green\",\"yellow\", \"red\") )\n",
    "hbin <- hexbin(wt_ht_final$AGE, wt_ht_final$BMI_calc)\n",
    "#Purple color\n",
    "plot(hbin, main=\"BMI calculated\", colorcut = seq(0,1,length.out=24),\n",
    "     colramp = function(n) cols(24) ) # , legend = 0 )\n"
   ]
  },
  {
   "cell_type": "markdown",
   "metadata": {},
   "source": [
    "== End of Ex 3.3 =="
   ]
  }
 ],
 "metadata": {
  "kernelspec": {
   "display_name": "R 3.3.1",
   "language": "R",
   "name": "ir"
  },
  "language_info": {
   "codemirror_mode": "r",
   "file_extension": ".r",
   "mimetype": "text/x-r-source",
   "name": "R",
   "pygments_lexer": "r",
   "version": "3.3.1"
  }
 },
 "nbformat": 4,
 "nbformat_minor": 2
}
