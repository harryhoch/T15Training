{
 "cells": [
  {
   "cell_type": "markdown",
   "metadata": {
    "nbpresent": {
     "id": "21dd43d7-89fa-40f3-b6bf-10508bdb4f98"
    }
   },
   "source": [
    "# The Indiana Training Program in Public and Population Health Informatics\n",
    "\n",
    "\n",
    "## Exercise 2\n",
    "\n",
    "*Competencies addressed*   \n",
    "\n",
    "1. Apply data merging/linking and reshaping methods  (I.1.3)\n",
    "2. Develop an understanding of processing different kinds of data (e.g. string processing)  (I.1.5)\n",
    "3. Demonstrate the ability to describe data (find means, standard deviations, outliers, evaluate correlations etc.) (II.1.2)"
   ]
  },
  {
   "cell_type": "markdown",
   "metadata": {
    "nbpresent": {
     "id": "c921fe06-3643-439e-a307-fd723f61c49e"
    }
   },
   "source": [
    "*Learning objectives*  \n",
    " At the end of this module the student will be able to do the following:\n",
    "\n",
    "1. Set up the working environment in R\n",
    "2. Read the dataset prior to loading it into R\n",
    "3. Import a text delimited dataset into R\n",
    "4. Run summary statistics\n",
    "5. Make a dataset more meaningful by linking the multiple datasets\n",
    "6. Import a stata file into R\n",
    "7. Understand the significance of choosing the right variable type when importing a dataset into R\n",
    "\n",
    "\n",
    "This exercise uses the medication data from the Type-2 Diabetes population data file. The medication data contains detailed information on the various medications prescribed to the patients. Additional information on dosage and when the medications were prescribed is also available. We first start by loading the data into R. Once the dataset is loaded, we use `head` to view the first few rows to get an idea of what this dataset looks like."
   ]
  },
  {
   "cell_type": "code",
   "execution_count": 2,
   "metadata": {
    "collapsed": false,
    "nbpresent": {
     "id": "73af78c4-9a50-4cbf-a935-27df9105901b"
    }
   },
   "outputs": [
    {
     "data": {
      "text/html": [
       "'/N/dc2/projects/T15/Sample'"
      ],
      "text/latex": [
       "'/N/dc2/projects/T15/Sample'"
      ],
      "text/markdown": [
       "'/N/dc2/projects/T15/Sample'"
      ],
      "text/plain": [
       "[1] \"/N/dc2/projects/T15/Sample\""
      ]
     },
     "metadata": {},
     "output_type": "display_data"
    },
    {
     "data": {
      "text/html": [
       "<table>\n",
       "<thead><tr><th scope=col>STUDYID</th><th scope=col>DAYS_MED_INDEX</th><th scope=col>DRUG_NAME</th><th scope=col>NDC_CODE</th><th scope=col>STRENGTH</th><th scope=col>DISPENSE_AMOUNT</th><th scope=col>NUMBER_OF_DAYS_SUPPLY</th></tr></thead>\n",
       "<tbody>\n",
       "\t<tr><td>103                   </td><td>2757                  </td><td>GLIPIZIDE 5 MG TABLET </td><td>51079081020           </td><td>NA                    </td><td> 60                   </td><td> 30                   </td></tr>\n",
       "\t<tr><td>239                   </td><td>6871                  </td><td>NOVOLIN N             </td><td>  169183411           </td><td>NA                    </td><td>-50                   </td><td>-55                   </td></tr>\n",
       "\t<tr><td>239                   </td><td> 811                  </td><td>HUMULIN N             </td><td>    2831501           </td><td>NA                    </td><td> NA                   </td><td> NA                   </td></tr>\n",
       "\t<tr><td>239                   </td><td>3751                  </td><td>HUMULIN N    INJ U-100</td><td>    2831501           </td><td>NA                    </td><td>  1                   </td><td> 60                   </td></tr>\n",
       "\t<tr><td>239                   </td><td>3819                  </td><td>HUMULIN R    INJ U-100</td><td>    2821501           </td><td>NA                    </td><td>  1                   </td><td> 60                   </td></tr>\n",
       "\t<tr><td>239                   </td><td>1128                  </td><td>HUMULIN N             </td><td>    2831501           </td><td>NA                    </td><td>  1                   </td><td> NA                   </td></tr>\n",
       "</tbody>\n",
       "</table>\n"
      ],
      "text/latex": [
       "\\begin{tabular}{r|lllllll}\n",
       " STUDYID & DAYS\\_MED\\_INDEX & DRUG\\_NAME & NDC\\_CODE & STRENGTH & DISPENSE\\_AMOUNT & NUMBER\\_OF\\_DAYS\\_SUPPLY\\\\\n",
       "\\hline\n",
       "\t 103                    & 2757                   & GLIPIZIDE 5 MG TABLET  & 51079081020            & NA                     &  60                    &  30                   \\\\\n",
       "\t 239                    & 6871                   & NOVOLIN N              &   169183411            & NA                     & -50                    & -55                   \\\\\n",
       "\t 239                    &  811                   & HUMULIN N              &     2831501            & NA                     &  NA                    &  NA                   \\\\\n",
       "\t 239                    & 3751                   & HUMULIN N    INJ U-100 &     2831501            & NA                     &   1                    &  60                   \\\\\n",
       "\t 239                    & 3819                   & HUMULIN R    INJ U-100 &     2821501            & NA                     &   1                    &  60                   \\\\\n",
       "\t 239                    & 1128                   & HUMULIN N              &     2831501            & NA                     &   1                    &  NA                   \\\\\n",
       "\\end{tabular}\n"
      ],
      "text/markdown": [
       "\n",
       "STUDYID | DAYS_MED_INDEX | DRUG_NAME | NDC_CODE | STRENGTH | DISPENSE_AMOUNT | NUMBER_OF_DAYS_SUPPLY | \n",
       "|---|---|---|---|---|---|\n",
       "| 103                    | 2757                   | GLIPIZIDE 5 MG TABLET  | 51079081020            | NA                     |  60                    |  30                    | \n",
       "| 239                    | 6871                   | NOVOLIN N              |   169183411            | NA                     | -50                    | -55                    | \n",
       "| 239                    |  811                   | HUMULIN N              |     2831501            | NA                     |  NA                    |  NA                    | \n",
       "| 239                    | 3751                   | HUMULIN N    INJ U-100 |     2831501            | NA                     |   1                    |  60                    | \n",
       "| 239                    | 3819                   | HUMULIN R    INJ U-100 |     2821501            | NA                     |   1                    |  60                    | \n",
       "| 239                    | 1128                   | HUMULIN N              |     2831501            | NA                     |   1                    |  NA                    | \n",
       "\n",
       "\n"
      ],
      "text/plain": [
       "  STUDYID DAYS_MED_INDEX DRUG_NAME              NDC_CODE    STRENGTH\n",
       "1 103     2757           GLIPIZIDE 5 MG TABLET  51079081020 NA      \n",
       "2 239     6871           NOVOLIN N                169183411 NA      \n",
       "3 239      811           HUMULIN N                  2831501 NA      \n",
       "4 239     3751           HUMULIN N    INJ U-100     2831501 NA      \n",
       "5 239     3819           HUMULIN R    INJ U-100     2821501 NA      \n",
       "6 239     1128           HUMULIN N                  2831501 NA      \n",
       "  DISPENSE_AMOUNT NUMBER_OF_DAYS_SUPPLY\n",
       "1  60              30                  \n",
       "2 -50             -55                  \n",
       "3  NA              NA                  \n",
       "4   1              60                  \n",
       "5   1              60                  \n",
       "6   1              NA                  "
      ]
     },
     "metadata": {},
     "output_type": "display_data"
    },
    {
     "data": {
      "text/plain": [
       "    STUDYID        DAYS_MED_INDEX                        DRUG_NAME     \n",
       " Min.   :    103   Min.   :-4834   METFORMIN HCL              : 99710  \n",
       " 1st Qu.: 261123   1st Qu.:  329   METFORMIN HCL 500 MG TABLET: 35672  \n",
       " Median : 513041   Median :  971   METFORMIN HCL ER           : 34704  \n",
       " Mean   : 549969   Mean   : 1302   ACTOS                      : 26168  \n",
       " 3rd Qu.: 830052   3rd Qu.: 1970   GLIMEPIRIDE                : 24595  \n",
       " Max.   :1256011   Max.   : 7264   METFORMIN    TAB 500MG     : 23854  \n",
       "                                   (Other)                    :465041  \n",
       "    NDC_CODE            STRENGTH      DISPENSE_AMOUNT   NUMBER_OF_DAYS_SUPPLY\n",
       " Min.   :2.751e+06   Min.   :   0.0   Min.   :-473.00   Min.   :-100.00      \n",
       " 1st Qu.:9.310e+07   1st Qu.:  10.0   1st Qu.:  30.00   1st Qu.:  30.00      \n",
       " Median :5.911e+08   Median : 100.0   Median :  60.00   Median :  30.00      \n",
       " Mean   :2.621e+10   Mean   : 307.8   Mean   :  69.85   Mean   :  44.06      \n",
       " 3rd Qu.:6.276e+10   3rd Qu.: 500.0   3rd Qu.:  90.00   3rd Qu.:  60.00      \n",
       " Max.   :6.865e+10   Max.   :2700.0   Max.   :6000.00   Max.   : 660.00      \n",
       "                     NA's   :495414   NA's   :246682    NA's   :27049        "
      ]
     },
     "metadata": {},
     "output_type": "display_data"
    }
   ],
   "source": [
    "\n",
    " Change this path to the location where YOUR files aregetwd()  # Check the current directory.\n",
    "setwd(\"/N/dc2/projects/T15/Sample\") # Set the working folder. Change this path to the location where YOUR files are.\n",
    "medication <- read.csv(\"medication.csv\", header= TRUE)\n",
    "head(medication)\n",
    "summary(medication)"
   ]
  },
  {
   "cell_type": "markdown",
   "metadata": {
    "nbpresent": {
     "id": "bf028f8c-fac4-4106-af97-1b034dfbcc27"
    }
   },
   "source": [
    "Now we know that this dataset has 7 variables:\n",
    "\n",
    "* Studyid(`STUDYID`)\n",
    "* Days from or to the index date (`DAYS_MED_INDEX`)\n",
    "* Name of the drug (`DRUG_NAME`)\n",
    "* National drug code (`NDC_CODE`)\n",
    "* Strength of the medication (`STRENGTH`)\n",
    "* Number of pills given out (`DISPENSE_AMOUNT`)\n",
    "* Number of days supply (`NUMBER OF DAYS SUPPLY`)\n",
    "\n",
    "The medication data is useful for examining the drugs that are being prescribed to patients and we first examine the frequency distribution of the drugs using the `table` function. <br>\n",
    "The `as.data.frame` formats the table and the `head` function limits the rows to first 6 rows. "
   ]
  },
  {
   "cell_type": "code",
   "execution_count": 3,
   "metadata": {
    "collapsed": false,
    "nbpresent": {
     "id": "647fe07b-51f8-4925-911a-fac1549e2a6f"
    },
    "scrolled": false
   },
   "outputs": [
    {
     "data": {
      "text/html": [
       "<table>\n",
       "<thead><tr><th scope=col>Var1</th><th scope=col>Freq</th></tr></thead>\n",
       "<tbody>\n",
       "\t<tr><td>53746017810                   </td><td>  2                           </td></tr>\n",
       "\t<tr><td>ACARBOSE                      </td><td>279                           </td></tr>\n",
       "\t<tr><td>ACARBOSE     TAB 100MG        </td><td> 18                           </td></tr>\n",
       "\t<tr><td>ACARBOSE     TAB 100MGACARBOSE</td><td>  3                           </td></tr>\n",
       "\t<tr><td>ACARBOSE     TAB 25MG         </td><td> 57                           </td></tr>\n",
       "\t<tr><td>ACARBOSE     TAB 25MGACARBOSE </td><td> 27                           </td></tr>\n",
       "</tbody>\n",
       "</table>\n"
      ],
      "text/latex": [
       "\\begin{tabular}{r|ll}\n",
       " Var1 & Freq\\\\\n",
       "\\hline\n",
       "\t 53746017810                    &   2                           \\\\\n",
       "\t ACARBOSE                       & 279                           \\\\\n",
       "\t ACARBOSE     TAB 100MG         &  18                           \\\\\n",
       "\t ACARBOSE     TAB 100MGACARBOSE &   3                           \\\\\n",
       "\t ACARBOSE     TAB 25MG          &  57                           \\\\\n",
       "\t ACARBOSE     TAB 25MGACARBOSE  &  27                           \\\\\n",
       "\\end{tabular}\n"
      ],
      "text/markdown": [
       "\n",
       "Var1 | Freq | \n",
       "|---|---|---|---|---|---|\n",
       "| 53746017810                    |   2                            | \n",
       "| ACARBOSE                       | 279                            | \n",
       "| ACARBOSE     TAB 100MG         |  18                            | \n",
       "| ACARBOSE     TAB 100MGACARBOSE |   3                            | \n",
       "| ACARBOSE     TAB 25MG          |  57                            | \n",
       "| ACARBOSE     TAB 25MGACARBOSE  |  27                            | \n",
       "\n",
       "\n"
      ],
      "text/plain": [
       "  Var1                           Freq\n",
       "1 53746017810                      2 \n",
       "2 ACARBOSE                       279 \n",
       "3 ACARBOSE     TAB 100MG          18 \n",
       "4 ACARBOSE     TAB 100MGACARBOSE   3 \n",
       "5 ACARBOSE     TAB 25MG           57 \n",
       "6 ACARBOSE     TAB 25MGACARBOSE   27 "
      ]
     },
     "metadata": {},
     "output_type": "display_data"
    }
   ],
   "source": [
    "head(as.data.frame(table(medication$DRUG_NAME)))"
   ]
  },
  {
   "cell_type": "markdown",
   "metadata": {
    "nbpresent": {
     "id": "ab289035-dff6-45dc-8e03-c0409901d241"
    }
   },
   "source": [
    "What we find here is that given that our drugs are identified by the specific generic drug and formulation combination, we see multiple entries for the same type of drug e.g. Acarbose, Acarbose Tab 100mg, Acarbose Tab 25 mg etc. Further, even variations in spellings result in the drugs being considered distinct. This highly granular information is of little use from a research standpoint when examining most research questions. It would be helpful to aggregate these drugs into more meaningful categories, such as combining acarbose, actoplus, and all other similar drugs into the \"Anti-diabetic medication\" category. In order to do so, we will merge this data with a crosswalk that provides categories of drugs.\n",
    "\n",
    "The crosswalk dataset to be used is the unindc.dta data file available in the curricular materials. \n",
    "\n",
    "The crosswalk was created in a different statistical software called Stata and exists as a .dta file. Thus, a different library will be used to bring the cross walk into R.\n",
    "\n",
    "In the following cells, we will load the `haven` library, use it to read the unindc.dta data file into R, and view the first few rows."
   ]
  },
  {
   "cell_type": "code",
   "execution_count": 7,
   "metadata": {
    "collapsed": false,
    "nbpresent": {
     "id": "4fe31969-7fb8-41df-83f5-de2ea129ddc7"
    },
    "scrolled": true
   },
   "outputs": [
    {
     "name": "stderr",
     "output_type": "stream",
     "text": [
      "Warning message in install.packages(\"haven\"):\n",
      "\"'lib = \"/gpfs/hps/soft/rhel7/r/3.3.1/lib64/R/library\"' is not writable\""
     ]
    },
    {
     "ename": "ERROR",
     "evalue": "Error in install.packages(\"haven\"): unable to install packages\n",
     "output_type": "error",
     "traceback": [
      "Error in install.packages(\"haven\"): unable to install packages\nTraceback:\n",
      "1. install.packages(\"haven\")",
      "2. stop(\"unable to install packages\")"
     ]
    }
   ],
   "source": [
    "# Install the haven package using following code if it is not already installed.\n",
    "install.packages(\"haven\") \n",
    "library(\"haven\")\n",
    "\n",
    "# Load the unindc.dta data file.\n",
    "unindc <- read_dta(\"unindc.dta\") # Read the STATA file. \n",
    "cat(\"Dimensions (rows columns/variables):\",dim(unindc)) # Query the number of rows and columns/variables.\n",
    "head(unindc) "
   ]
  },
  {
   "cell_type": "markdown",
   "metadata": {
    "nbpresent": {
     "id": "a335c488-98e3-4776-b387-c687280258d4"
    }
   },
   "source": [
    "The crosswalk file: unindc.dta consists of 429,473 rows and the following 9 variables:\n",
    "\n",
    "* National Drug code (`ndc`)\n",
    "* Drug name (`drug`)\n",
    "* RxNorm clinical drug concept (`rxncui`)\n",
    "* Concept name (`concept_name`)\n",
    "* WHO/ATC code (`cscode`)\n",
    "* Drug class (`drug_class`)\n",
    "* Therapeutic subgroup (`sgthr`)\n",
    "* Pharmacological subgroup (`sgphr`)\n",
    "* Chemical subgroup (`sgchem`) \n",
    "\n",
    "For our purposes, we can use the various subgroups (`sgthr`-`sgchem`) to aggregate medications. Note that the `drug_class` variable, while valid for aggregation, does not provide meaningful categories.\n",
    "\n",
    "The `ndc` variable uniquely identifies all observations in the crosswalk and can thus be used for a many-to-one merge.\n",
    "\n",
    "### Merge\n",
    "We now merge this file with our medications file using the `ndc` variable which is common to both the croswalk and the T2D medications file. However, this variable is named differently in both datasets; in the crosswalk it is called `ndc`, while in the medications dataset it is called `NDC_CODE`. Merging requires that the variable to be merged on have the same name and this is the first step in merging."
   ]
  },
  {
   "cell_type": "code",
   "execution_count": 8,
   "metadata": {
    "collapsed": false,
    "nbpresent": {
     "id": "9578b417-38be-4162-8ad2-e8b7e9ebc955"
    },
    "scrolled": true
   },
   "outputs": [
    {
     "name": "stdout",
     "output_type": "stream",
     "text": [
      "[1] \"List of variables in medication data in the order they appear\"\n"
     ]
    },
    {
     "data": {
      "text/html": [
       "<ol class=list-inline>\n",
       "\t<li>'STUDYID'</li>\n",
       "\t<li>'DAYS_MED_INDEX'</li>\n",
       "\t<li>'DRUG_NAME'</li>\n",
       "\t<li>'NDC_CODE'</li>\n",
       "\t<li>'STRENGTH'</li>\n",
       "\t<li>'DISPENSE_AMOUNT'</li>\n",
       "\t<li>'NUMBER_OF_DAYS_SUPPLY'</li>\n",
       "</ol>\n"
      ],
      "text/latex": [
       "\\begin{enumerate*}\n",
       "\\item 'STUDYID'\n",
       "\\item 'DAYS\\_MED\\_INDEX'\n",
       "\\item 'DRUG\\_NAME'\n",
       "\\item 'NDC\\_CODE'\n",
       "\\item 'STRENGTH'\n",
       "\\item 'DISPENSE\\_AMOUNT'\n",
       "\\item 'NUMBER\\_OF\\_DAYS\\_SUPPLY'\n",
       "\\end{enumerate*}\n"
      ],
      "text/markdown": [
       "1. 'STUDYID'\n",
       "2. 'DAYS_MED_INDEX'\n",
       "3. 'DRUG_NAME'\n",
       "4. 'NDC_CODE'\n",
       "5. 'STRENGTH'\n",
       "6. 'DISPENSE_AMOUNT'\n",
       "7. 'NUMBER_OF_DAYS_SUPPLY'\n",
       "\n",
       "\n"
      ],
      "text/plain": [
       "[1] \"STUDYID\"               \"DAYS_MED_INDEX\"        \"DRUG_NAME\"            \n",
       "[4] \"NDC_CODE\"              \"STRENGTH\"              \"DISPENSE_AMOUNT\"      \n",
       "[7] \"NUMBER_OF_DAYS_SUPPLY\""
      ]
     },
     "metadata": {},
     "output_type": "display_data"
    },
    {
     "ename": "ERROR",
     "evalue": "Error in colnames(unindc)[1] <- \"NDC_CODE\": object 'unindc' not found\n",
     "output_type": "error",
     "traceback": [
      "Error in colnames(unindc)[1] <- \"NDC_CODE\": object 'unindc' not found\nTraceback:\n"
     ]
    }
   ],
   "source": [
    "# Matching the NDC column name for merging. \n",
    "print(\"List of variables in medication data in the order they appear\")\n",
    "names(medication) # Query the names of the variables, output is the names of the variables in order they appear in data.\n",
    "colnames(unindc)[1] <- \"NDC_CODE\" # Renames the first var in crosswalk to match the corresponding variable name in medications data.\n",
    "print(\"ndc variable in crosswalk changed to match variable name in medications dataset\")\n",
    "names(unindc)"
   ]
  },
  {
   "cell_type": "markdown",
   "metadata": {
    "nbpresent": {
     "id": "a0def0db-e1ee-4f19-8c68-92a3469d644b"
    }
   },
   "source": [
    "We `merge` by matching all drug codes in the medications file with corresponding drugs in the crosswalk as follows:"
   ]
  },
  {
   "cell_type": "code",
   "execution_count": 9,
   "metadata": {
    "collapsed": false,
    "nbpresent": {
     "id": "18453bce-54d7-4dfc-bfb2-02132f8bd80c"
    }
   },
   "outputs": [
    {
     "ename": "ERROR",
     "evalue": "Error in as.data.frame(y): object 'unindc' not found\n",
     "output_type": "error",
     "traceback": [
      "Error in as.data.frame(y): object 'unindc' not found\nTraceback:\n",
      "1. merge(x = medication, y = unindc, by = \"NDC_CODE\", all.x = TRUE)",
      "2. merge.data.frame(x = medication, y = unindc, by = \"NDC_CODE\", \n .     all.x = TRUE)",
      "3. nrow(y <- as.data.frame(y))",
      "4. as.data.frame(y)"
     ]
    }
   ],
   "source": [
    "medication_unindc <- merge(x=medication, y=unindc, by= \"NDC_CODE\", all.x= TRUE)\n",
    "head(medication_unindc)\n",
    "cat(\"Dimensions (rows columns/variables):\",dim(medication_unindc))\n",
    "summary(medication_unindc)"
   ]
  },
  {
   "cell_type": "markdown",
   "metadata": {
    "nbpresent": {
     "id": "54f14b46-47fc-4eed-8b5a-9656e9657c5e"
    }
   },
   "source": [
    "### Match statistics"
   ]
  },
  {
   "cell_type": "code",
   "execution_count": 10,
   "metadata": {
    "collapsed": false,
    "nbpresent": {
     "id": "8fde8c0e-5268-44ed-ba6a-0ece2c96edfb"
    },
    "scrolled": true
   },
   "outputs": [
    {
     "ename": "ERROR",
     "evalue": "Error in cat(\"Drugs that could not be matched:\", sum(is.na(medication_unindc$drug))): object 'medication_unindc' not found\n",
     "output_type": "error",
     "traceback": [
      "Error in cat(\"Drugs that could not be matched:\", sum(is.na(medication_unindc$drug))): object 'medication_unindc' not found\nTraceback:\n",
      "1. cat(\"Drugs that could not be matched:\", sum(is.na(medication_unindc$drug)))"
     ]
    }
   ],
   "source": [
    "cat(\"Drugs that could not be matched:\", sum(is.na(medication_unindc$drug)))  # This shows non-matching counts.  \n",
    "cat(\"\\nTotal number of unique drugs matched:\",length(unique(medication_unindc$drug))) # Number of unique drugs matched. \n",
    "as.data.frame(table(medication_unindc$sgthr)) # The list of the drugs."
   ]
  },
  {
   "cell_type": "markdown",
   "metadata": {
    "collapsed": false,
    "nbpresent": {
     "id": "7def6b59-b6f1-43fe-8cbf-66126a3aabfb"
    }
   },
   "source": [
    "As mentioned above, only 87 unique drugs were matched, resulting in a total of 405,949 drugs being <b>not</b> matched to a corresponding drug in the crosswalk. Why does this happen?\n",
    "\n",
    "The ndc is an 11-digit code, i.e. it consists solely of numbers. If we examine the medications file, we find that the ndc code is a string variable with leading zeroes in some codes. When we read the medications file, R tries to automatically assign variable types based on the contents of each column. Given that ndc codes are all numbers, R designates the ndc code in the medication dataset as a numeric variable dropping the leading zeros. \n",
    "\n",
    "Why does the crosswalk file not experience the same error?\n",
    "The crosswalk file was a Stata file and includes class settings in the meta data. When the haven library imports this file, this allows R to preserve the class settings for all variables. "
   ]
  },
  {
   "cell_type": "code",
   "execution_count": 11,
   "metadata": {
    "collapsed": false,
    "nbpresent": {
     "id": "6e9ec0a2-3fe9-4275-a1e9-e1a131b1e650"
    },
    "scrolled": true
   },
   "outputs": [
    {
     "ename": "ERROR",
     "evalue": "Error in cat(\"NDC class in crosswalk dataset:\", class(unindc$NDC_CODE)): object 'unindc' not found\n",
     "output_type": "error",
     "traceback": [
      "Error in cat(\"NDC class in crosswalk dataset:\", class(unindc$NDC_CODE)): object 'unindc' not found\nTraceback:\n",
      "1. cat(\"NDC class in crosswalk dataset:\", class(unindc$NDC_CODE))"
     ]
    }
   ],
   "source": [
    "cat(\"NDC class in crosswalk dataset:\",class(unindc$NDC_CODE))\n",
    "cat(\"\\nNDC class in medications dataset:\", class(medication$NDC_CODE))"
   ]
  },
  {
   "cell_type": "markdown",
   "metadata": {
    "nbpresent": {
     "id": "5cbdffe9-6051-4c17-b5c1-6a623a89a785"
    }
   },
   "source": [
    "To fix the error above, we force R to read the medications file while preserving the drug codes as a string or character variable."
   ]
  },
  {
   "cell_type": "code",
   "execution_count": 12,
   "metadata": {
    "collapsed": false,
    "nbpresent": {
     "id": "377cfffd-bc39-485e-ac21-a650b5c86956"
    }
   },
   "outputs": [
    {
     "data": {
      "text/plain": [
       "   STUDYID          DAYS_MED_INDEX   DRUG_NAME           NDC_CODE        \n",
       " Length:709744      Min.   :-4834   Length:709744      Length:709744     \n",
       " Class :character   1st Qu.:  329   Class :character   Class :character  \n",
       " Mode  :character   Median :  971   Mode  :character   Mode  :character  \n",
       "                    Mean   : 1302                                        \n",
       "                    3rd Qu.: 1970                                        \n",
       "                    Max.   : 7264                                        \n",
       "                                                                         \n",
       "    STRENGTH      DISPENSE_AMOUNT   NUMBER_OF_DAYS_SUPPLY\n",
       " Min.   :   0.0   Min.   :-473.00   Min.   :-100.00      \n",
       " 1st Qu.:  10.0   1st Qu.:  30.00   1st Qu.:  30.00      \n",
       " Median : 100.0   Median :  60.00   Median :  30.00      \n",
       " Mean   : 307.8   Mean   :  69.85   Mean   :  44.06      \n",
       " 3rd Qu.: 500.0   3rd Qu.:  90.00   3rd Qu.:  60.00      \n",
       " Max.   :2700.0   Max.   :6000.00   Max.   : 660.00      \n",
       " NA's   :495414   NA's   :246682    NA's   :27049        "
      ]
     },
     "metadata": {},
     "output_type": "display_data"
    },
    {
     "data": {
      "text/html": [
       "<table>\n",
       "<thead><tr><th scope=col>STUDYID</th><th scope=col>DAYS_MED_INDEX</th><th scope=col>DRUG_NAME</th><th scope=col>NDC_CODE</th><th scope=col>STRENGTH</th><th scope=col>DISPENSE_AMOUNT</th><th scope=col>NUMBER_OF_DAYS_SUPPLY</th></tr></thead>\n",
       "<tbody>\n",
       "\t<tr><td>103                   </td><td>2757                  </td><td>GLIPIZIDE 5 MG TABLET </td><td>51079081020           </td><td>NA                    </td><td> 60                   </td><td> 30                   </td></tr>\n",
       "\t<tr><td>239                   </td><td>6871                  </td><td>NOVOLIN N             </td><td>00169183411           </td><td>NA                    </td><td>-50                   </td><td>-55                   </td></tr>\n",
       "\t<tr><td>239                   </td><td> 811                  </td><td>HUMULIN N             </td><td>00002831501           </td><td>NA                    </td><td> NA                   </td><td> NA                   </td></tr>\n",
       "\t<tr><td>239                   </td><td>3751                  </td><td>HUMULIN N    INJ U-100</td><td>00002831501           </td><td>NA                    </td><td>  1                   </td><td> 60                   </td></tr>\n",
       "\t<tr><td>239                   </td><td>3819                  </td><td>HUMULIN R    INJ U-100</td><td>00002821501           </td><td>NA                    </td><td>  1                   </td><td> 60                   </td></tr>\n",
       "\t<tr><td>239                   </td><td>1128                  </td><td>HUMULIN N             </td><td>00002831501           </td><td>NA                    </td><td>  1                   </td><td> NA                   </td></tr>\n",
       "\t<tr><td>239                   </td><td>1219                  </td><td>HUMULIN N             </td><td>00002831501           </td><td>NA                    </td><td>  1                   </td><td> NA                   </td></tr>\n",
       "\t<tr><td>239                   </td><td>2076                  </td><td>HUMULIN N    INJ U-100</td><td>00002831501           </td><td>NA                    </td><td>  1                   </td><td> NA                   </td></tr>\n",
       "\t<tr><td>239                   </td><td>3819                  </td><td>HUMULIN N    INJ U-100</td><td>00002831501           </td><td>NA                    </td><td>  1                   </td><td> 60                   </td></tr>\n",
       "\t<tr><td>239                   </td><td> 811                  </td><td>HUMULIN N             </td><td>00002831501           </td><td>NA                    </td><td> -1                   </td><td> NA                   </td></tr>\n",
       "</tbody>\n",
       "</table>\n"
      ],
      "text/latex": [
       "\\begin{tabular}{r|lllllll}\n",
       " STUDYID & DAYS\\_MED\\_INDEX & DRUG\\_NAME & NDC\\_CODE & STRENGTH & DISPENSE\\_AMOUNT & NUMBER\\_OF\\_DAYS\\_SUPPLY\\\\\n",
       "\\hline\n",
       "\t 103                    & 2757                   & GLIPIZIDE 5 MG TABLET  & 51079081020            & NA                     &  60                    &  30                   \\\\\n",
       "\t 239                    & 6871                   & NOVOLIN N              & 00169183411            & NA                     & -50                    & -55                   \\\\\n",
       "\t 239                    &  811                   & HUMULIN N              & 00002831501            & NA                     &  NA                    &  NA                   \\\\\n",
       "\t 239                    & 3751                   & HUMULIN N    INJ U-100 & 00002831501            & NA                     &   1                    &  60                   \\\\\n",
       "\t 239                    & 3819                   & HUMULIN R    INJ U-100 & 00002821501            & NA                     &   1                    &  60                   \\\\\n",
       "\t 239                    & 1128                   & HUMULIN N              & 00002831501            & NA                     &   1                    &  NA                   \\\\\n",
       "\t 239                    & 1219                   & HUMULIN N              & 00002831501            & NA                     &   1                    &  NA                   \\\\\n",
       "\t 239                    & 2076                   & HUMULIN N    INJ U-100 & 00002831501            & NA                     &   1                    &  NA                   \\\\\n",
       "\t 239                    & 3819                   & HUMULIN N    INJ U-100 & 00002831501            & NA                     &   1                    &  60                   \\\\\n",
       "\t 239                    &  811                   & HUMULIN N              & 00002831501            & NA                     &  -1                    &  NA                   \\\\\n",
       "\\end{tabular}\n"
      ],
      "text/markdown": [
       "\n",
       "STUDYID | DAYS_MED_INDEX | DRUG_NAME | NDC_CODE | STRENGTH | DISPENSE_AMOUNT | NUMBER_OF_DAYS_SUPPLY | \n",
       "|---|---|---|---|---|---|---|---|---|---|\n",
       "| 103                    | 2757                   | GLIPIZIDE 5 MG TABLET  | 51079081020            | NA                     |  60                    |  30                    | \n",
       "| 239                    | 6871                   | NOVOLIN N              | 00169183411            | NA                     | -50                    | -55                    | \n",
       "| 239                    |  811                   | HUMULIN N              | 00002831501            | NA                     |  NA                    |  NA                    | \n",
       "| 239                    | 3751                   | HUMULIN N    INJ U-100 | 00002831501            | NA                     |   1                    |  60                    | \n",
       "| 239                    | 3819                   | HUMULIN R    INJ U-100 | 00002821501            | NA                     |   1                    |  60                    | \n",
       "| 239                    | 1128                   | HUMULIN N              | 00002831501            | NA                     |   1                    |  NA                    | \n",
       "| 239                    | 1219                   | HUMULIN N              | 00002831501            | NA                     |   1                    |  NA                    | \n",
       "| 239                    | 2076                   | HUMULIN N    INJ U-100 | 00002831501            | NA                     |   1                    |  NA                    | \n",
       "| 239                    | 3819                   | HUMULIN N    INJ U-100 | 00002831501            | NA                     |   1                    |  60                    | \n",
       "| 239                    |  811                   | HUMULIN N              | 00002831501            | NA                     |  -1                    |  NA                    | \n",
       "\n",
       "\n"
      ],
      "text/plain": [
       "   STUDYID DAYS_MED_INDEX DRUG_NAME              NDC_CODE    STRENGTH\n",
       "1  103     2757           GLIPIZIDE 5 MG TABLET  51079081020 NA      \n",
       "2  239     6871           NOVOLIN N              00169183411 NA      \n",
       "3  239      811           HUMULIN N              00002831501 NA      \n",
       "4  239     3751           HUMULIN N    INJ U-100 00002831501 NA      \n",
       "5  239     3819           HUMULIN R    INJ U-100 00002821501 NA      \n",
       "6  239     1128           HUMULIN N              00002831501 NA      \n",
       "7  239     1219           HUMULIN N              00002831501 NA      \n",
       "8  239     2076           HUMULIN N    INJ U-100 00002831501 NA      \n",
       "9  239     3819           HUMULIN N    INJ U-100 00002831501 NA      \n",
       "10 239      811           HUMULIN N              00002831501 NA      \n",
       "   DISPENSE_AMOUNT NUMBER_OF_DAYS_SUPPLY\n",
       "1   60              30                  \n",
       "2  -50             -55                  \n",
       "3   NA              NA                  \n",
       "4    1              60                  \n",
       "5    1              60                  \n",
       "6    1              NA                  \n",
       "7    1              NA                  \n",
       "8    1              NA                  \n",
       "9    1              60                  \n",
       "10  -1              NA                  "
      ]
     },
     "metadata": {},
     "output_type": "display_data"
    }
   ],
   "source": [
    "medication <- read.csv(\"medication.csv\", header= TRUE, \n",
    "                      colClasses=c(\"character\", \"numeric\", \"character\", \"character\", rep(\"numeric\",3)) )\n",
    "summary(medication)\n",
    "head(medication, n= 10)"
   ]
  },
  {
   "cell_type": "markdown",
   "metadata": {
    "nbpresent": {
     "id": "c2841012-d43f-4a2c-a588-a20f4aff82f9"
    }
   },
   "source": [
    "Now that we fixed the NDC code and confirm that leading zeros are preserved, we proceed with the merge as before."
   ]
  },
  {
   "cell_type": "code",
   "execution_count": 13,
   "metadata": {
    "collapsed": false,
    "nbpresent": {
     "id": "8729966d-de50-40c2-be1b-51cb6f26281d"
    }
   },
   "outputs": [
    {
     "ename": "ERROR",
     "evalue": "Error in as.data.frame(y): object 'unindc' not found\n",
     "output_type": "error",
     "traceback": [
      "Error in as.data.frame(y): object 'unindc' not found\nTraceback:\n",
      "1. merge(x = medication, y = unindc, by = \"NDC_CODE\", all.x = TRUE)",
      "2. merge.data.frame(x = medication, y = unindc, by = \"NDC_CODE\", \n .     all.x = TRUE)",
      "3. nrow(y <- as.data.frame(y))",
      "4. as.data.frame(y)"
     ]
    }
   ],
   "source": [
    " \n",
    "medication_unindc <- merge(x= medication, y= unindc, by= \"NDC_CODE\", all.x= TRUE)\n",
    "head(medication_unindc)\n",
    "summary(medication_unindc)\n"
   ]
  },
  {
   "cell_type": "code",
   "execution_count": 14,
   "metadata": {
    "collapsed": false,
    "nbpresent": {
     "id": "db8dda78-26ca-4c03-94ca-7fd71fa74d11"
    },
    "scrolled": true
   },
   "outputs": [
    {
     "ename": "ERROR",
     "evalue": "Error in cat(\"Drugs that could not be matched:\", sum(is.na(medication_unindc$drug))): object 'medication_unindc' not found\n",
     "output_type": "error",
     "traceback": [
      "Error in cat(\"Drugs that could not be matched:\", sum(is.na(medication_unindc$drug))): object 'medication_unindc' not found\nTraceback:\n",
      "1. cat(\"Drugs that could not be matched:\", sum(is.na(medication_unindc$drug)))"
     ]
    }
   ],
   "source": [
    "# The drugs field that did not match (NA count) is 12 now (successful matches are 720,889).\n",
    "cat(\"Drugs that could not be matched:\", sum(is.na(medication_unindc$drug)))  # This shows the non-matching count.  \n",
    "cat(\"\\nTotal number of unique drugs matched:\",length(unique(medication_unindc$drug))) # Number of unique drugs matched."
   ]
  },
  {
   "cell_type": "markdown",
   "metadata": {
    "nbpresent": {
     "id": "3b9bff7c-a005-4e99-bd77-aa8706fe25f8"
    }
   },
   "source": [
    "After fixing the error, only 12 drugs are not matched compared to over 400,000 before. Also, compared to 87 unique drugs that were matched now we have 215 unique drugs that were matched."
   ]
  },
  {
   "cell_type": "markdown",
   "metadata": {},
   "source": [
    "### Let's take a look at the diabetes drugs prescribed"
   ]
  },
  {
   "cell_type": "code",
   "execution_count": 15,
   "metadata": {
    "collapsed": false,
    "nbpresent": {
     "id": "dca09906-b9f6-482e-9ab0-39d9a0707141"
    }
   },
   "outputs": [
    {
     "ename": "ERROR",
     "evalue": "Error in table(medication_unindc$sgthr): object 'medication_unindc' not found\n",
     "output_type": "error",
     "traceback": [
      "Error in table(medication_unindc$sgthr): object 'medication_unindc' not found\nTraceback:\n",
      "1. as.data.frame(table(medication_unindc$sgthr))",
      "2. table(medication_unindc$sgthr)"
     ]
    }
   ],
   "source": [
    "as.data.frame(table(medication_unindc$sgthr))\n",
    "as.data.frame(table(medication_unindc$sgchem[medication_unindc$sgthr == \"Drugs Used In Diabetes\"]))\n",
    "as.data.frame(table(medication_unindc$drug_class[medication_unindc$sgthr == \"Drugs Used In Diabetes\"]))\n"
   ]
  },
  {
   "cell_type": "markdown",
   "metadata": {
    "nbpresent": {
     "id": "ca222770-9822-4578-a6e5-524c68ff0f47"
    }
   },
   "source": [
    "Finally, the frequency table provides much more useful information when we use the therapeutic subgroups. How does this compare to the pharmacological subgroups and the chemical subgroup?"
   ]
  },
  {
   "cell_type": "markdown",
   "metadata": {},
   "source": [
    "### Let's save the enriched medication file (in R format)\n",
    "To load the file, use the following code: <br>\n",
    "`load(file = \"medication_unindc.RDATA\")`"
   ]
  },
  {
   "cell_type": "code",
   "execution_count": 16,
   "metadata": {
    "collapsed": false
   },
   "outputs": [
    {
     "ename": "ERROR",
     "evalue": "Error in save(medication_unindc, file = \"medication_unindc.RDATA\"): object 'medication_unindc' not found\n",
     "output_type": "error",
     "traceback": [
      "Error in save(medication_unindc, file = \"medication_unindc.RDATA\"): object 'medication_unindc' not found\nTraceback:\n",
      "1. save(medication_unindc, file = \"medication_unindc.RDATA\")",
      "2. stop(sprintf(ngettext(n, \"object %s not found\", \"objects %s not found\"), \n .     paste(sQuote(list[!ok]), collapse = \", \")), domain = NA)"
     ]
    }
   ],
   "source": [
    "save(medication_unindc , file =\"medication_unindc.RDATA\")\n",
    "file.info(\"medication_unindc.RDATA\")"
   ]
  },
  {
   "cell_type": "markdown",
   "metadata": {},
   "source": [
    "== End of Ex 1 =="
   ]
  }
 ],
 "metadata": {
  "kernelspec": {
   "display_name": "R 3.3.1",
   "language": "R",
   "name": "ir"
  },
  "language_info": {
   "codemirror_mode": "r",
   "file_extension": ".r",
   "mimetype": "text/x-r-source",
   "name": "R",
   "pygments_lexer": "r",
   "version": "3.3.1"
  }
 },
 "nbformat": 4,
 "nbformat_minor": 2
}
