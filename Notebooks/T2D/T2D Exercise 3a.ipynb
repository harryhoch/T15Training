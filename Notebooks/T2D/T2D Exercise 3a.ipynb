{
 "cells": [
  {
   "cell_type": "markdown",
   "metadata": {},
   "source": [
    "# The Indiana Training Program in Public and Population Health Informatics\n",
    "## EXERCISE 3  - BMI calculation using height and weight\n",
    "\n",
    "With exercise 3, we will extract and enhance the body mass index information (BMI) of patients. The exercise is set in 3 parts:<br>\n",
    "&nbsp;&nbsp;&nbsp;&nbsp;&nbsp;3a. Exploring the data for keywords related to height, weight, and BMI, subsetting the data<br>\n",
    "&nbsp;&nbsp;&nbsp;&nbsp;&nbsp;3b. Cleaning the subset data, transforming (long to wide) and editing it<br>\n",
    "&nbsp;&nbsp;&nbsp;&nbsp;&nbsp;3c. Creating BMI values from weight and height information, visualization<br> "
   ]
  },
  {
   "cell_type": "raw",
   "metadata": {},
   "source": [
    "*Competencies addressed*\n",
    "1. Identfy as well as access structured electronic data sets ((I)1.1)\n",
    "2. Transformation of raw data to formats more suitable for downstream use cases ((I)1.2)\n",
    "3. Acquire skills related to visualize data to discover patterns ((II)1.3)"
   ]
  },
  {
   "cell_type": "markdown",
   "metadata": {},
   "source": [
    "*Learning objectives*  \n",
    " At the end of these three modules the student will be able to do the following:\n",
    "\n",
    "1. Explore data using string keywords\n",
    "2. Parse and manipulate string data using multiple different methods including the use of regular expressions and the `dplyr` package\n",
    "2. Search for words within the data using string operations including regular expressions\n",
    "3. Subset the data using a criteria based on text strings\n",
    "4. Perform basic transformation of the dataset in multiple ways\n",
    "5. Create derived variables using several vector transformations\n",
    "6. Create visualizations to describe the data"
   ]
  },
  {
   "cell_type": "markdown",
   "metadata": {},
   "source": [
    "### 3a. Exploring the data for keywords related to height, weight, and BMI, subsetting the data \n",
    "In this exercise, we will explore the clinical_var.csv file and select keywords for weight, height and BMI. Additionally, thse keywords will be used to subset the data. \n",
    "\n",
    "Before we start working in R, we need to set the working directory. We will then check folder contents and check the clinical_var data contents without loading it. This is a practical way to inspect large datasets. "
   ]
  },
  {
   "cell_type": "code",
   "execution_count": 1,
   "metadata": {
    "collapsed": false
   },
   "outputs": [
    {
     "data": {
      "text/html": [
       "'/N/dc2/projects/T15/Sample/Notebooks'"
      ],
      "text/latex": [
       "'/N/dc2/projects/T15/Sample/Notebooks'"
      ],
      "text/markdown": [
       "'/N/dc2/projects/T15/Sample/Notebooks'"
      ],
      "text/plain": [
       "[1] \"/N/dc2/projects/T15/Sample/Notebooks\""
      ]
     },
     "metadata": {},
     "output_type": "display_data"
    },
    {
     "data": {
      "text/html": [
       "<ol class=list-inline>\n",
       "\t<li>'1-Descriptives.R'</li>\n",
       "\t<li>'2.1-Sampling.R'</li>\n",
       "\t<li>'2.2-Pertubration.R'</li>\n",
       "\t<li>'3-Exercises 1.R'</li>\n",
       "\t<li>'A1C_BMI_Meds.RDATA'</li>\n",
       "\t<li>'Notebooks'</li>\n",
       "\t<li>'T2D data manuplation.docx'</li>\n",
       "\t<li>'clinical_vars.csv'</li>\n",
       "\t<li>'diagnosis.csv'</li>\n",
       "\t<li>'encounters.csv'</li>\n",
       "\t<li>'first_OBS.RDATA'</li>\n",
       "\t<li>'ht_summary.csv'</li>\n",
       "\t<li>'medication.csv'</li>\n",
       "\t<li>'medication_unindc.RDATA'</li>\n",
       "\t<li>'patients.RDATA'</li>\n",
       "\t<li>'patients.csv'</li>\n",
       "\t<li>'unindc.dta'</li>\n",
       "\t<li>'wt_ht.RDATA'</li>\n",
       "\t<li>'wt_ht_final.RDATA'</li>\n",
       "\t<li>'wt_ht_wide.RDATA'</li>\n",
       "</ol>\n"
      ],
      "text/latex": [
       "\\begin{enumerate*}\n",
       "\\item '1-Descriptives.R'\n",
       "\\item '2.1-Sampling.R'\n",
       "\\item '2.2-Pertubration.R'\n",
       "\\item '3-Exercises 1.R'\n",
       "\\item 'A1C\\_BMI\\_Meds.RDATA'\n",
       "\\item 'Notebooks'\n",
       "\\item 'T2D data manuplation.docx'\n",
       "\\item 'clinical\\_vars.csv'\n",
       "\\item 'diagnosis.csv'\n",
       "\\item 'encounters.csv'\n",
       "\\item 'first\\_OBS.RDATA'\n",
       "\\item 'ht\\_summary.csv'\n",
       "\\item 'medication.csv'\n",
       "\\item 'medication\\_unindc.RDATA'\n",
       "\\item 'patients.RDATA'\n",
       "\\item 'patients.csv'\n",
       "\\item 'unindc.dta'\n",
       "\\item 'wt\\_ht.RDATA'\n",
       "\\item 'wt\\_ht\\_final.RDATA'\n",
       "\\item 'wt\\_ht\\_wide.RDATA'\n",
       "\\end{enumerate*}\n"
      ],
      "text/markdown": [
       "1. '1-Descriptives.R'\n",
       "2. '2.1-Sampling.R'\n",
       "3. '2.2-Pertubration.R'\n",
       "4. '3-Exercises 1.R'\n",
       "5. 'A1C_BMI_Meds.RDATA'\n",
       "6. 'Notebooks'\n",
       "7. 'T2D data manuplation.docx'\n",
       "8. 'clinical_vars.csv'\n",
       "9. 'diagnosis.csv'\n",
       "10. 'encounters.csv'\n",
       "11. 'first_OBS.RDATA'\n",
       "12. 'ht_summary.csv'\n",
       "13. 'medication.csv'\n",
       "14. 'medication_unindc.RDATA'\n",
       "15. 'patients.RDATA'\n",
       "16. 'patients.csv'\n",
       "17. 'unindc.dta'\n",
       "18. 'wt_ht.RDATA'\n",
       "19. 'wt_ht_final.RDATA'\n",
       "20. 'wt_ht_wide.RDATA'\n",
       "\n",
       "\n"
      ],
      "text/plain": [
       " [1] \"1-Descriptives.R\"          \"2.1-Sampling.R\"           \n",
       " [3] \"2.2-Pertubration.R\"        \"3-Exercises 1.R\"          \n",
       " [5] \"A1C_BMI_Meds.RDATA\"        \"Notebooks\"                \n",
       " [7] \"T2D data manuplation.docx\" \"clinical_vars.csv\"        \n",
       " [9] \"diagnosis.csv\"             \"encounters.csv\"           \n",
       "[11] \"first_OBS.RDATA\"           \"ht_summary.csv\"           \n",
       "[13] \"medication.csv\"            \"medication_unindc.RDATA\"  \n",
       "[15] \"patients.RDATA\"            \"patients.csv\"             \n",
       "[17] \"unindc.dta\"                \"wt_ht.RDATA\"              \n",
       "[19] \"wt_ht_final.RDATA\"         \"wt_ht_wide.RDATA\"         "
      ]
     },
     "metadata": {},
     "output_type": "display_data"
    },
    {
     "data": {
      "text/html": [
       "<table>\n",
       "<thead><tr><th></th><th scope=col>size</th><th scope=col>isdir</th><th scope=col>mode</th><th scope=col>mtime</th><th scope=col>ctime</th><th scope=col>atime</th><th scope=col>uid</th><th scope=col>gid</th><th scope=col>uname</th><th scope=col>grname</th></tr></thead>\n",
       "<tbody>\n",
       "\t<tr><th scope=row>clinical_vars.csv</th><td>1410053638         </td><td>FALSE              </td><td>660                </td><td>2018-10-19 00:38:30</td><td>2018-10-19 00:51:32</td><td>2019-03-27 16:30:22</td><td>498945             </td><td>1297               </td><td>ukirbiyi           </td><td>T15                </td></tr>\n",
       "</tbody>\n",
       "</table>\n"
      ],
      "text/latex": [
       "\\begin{tabular}{r|llllllllll}\n",
       "  & size & isdir & mode & mtime & ctime & atime & uid & gid & uname & grname\\\\\n",
       "\\hline\n",
       "\tclinical\\_vars.csv & 1410053638          & FALSE               & 660                 & 2018-10-19 00:38:30 & 2018-10-19 00:51:32 & 2019-03-27 16:30:22 & 498945              & 1297                & ukirbiyi            & T15                \\\\\n",
       "\\end{tabular}\n"
      ],
      "text/markdown": [
       "\n",
       "| <!--/--> | size | isdir | mode | mtime | ctime | atime | uid | gid | uname | grname | \n",
       "|---|\n",
       "| clinical_vars.csv | 1410053638          | FALSE               | 660                 | 2018-10-19 00:38:30 | 2018-10-19 00:51:32 | 2019-03-27 16:30:22 | 498945              | 1297                | ukirbiyi            | T15                 | \n",
       "\n",
       "\n"
      ],
      "text/plain": [
       "                  size       isdir mode mtime               ctime              \n",
       "clinical_vars.csv 1410053638 FALSE 660  2018-10-19 00:38:30 2018-10-19 00:51:32\n",
       "                  atime               uid    gid  uname    grname\n",
       "clinical_vars.csv 2019-03-27 16:30:22 498945 1297 ukirbiyi T15   "
      ]
     },
     "metadata": {},
     "output_type": "display_data"
    }
   ],
   "source": [
    "getwd()  # Check the current directory.\n",
    "setwd(\"/N/dc2/projects/T15/Sample\") # Set the working folder. Change this path to the location where YOUR files are.\n",
    "list.files()\n",
    "file.info(\"clinical_vars.csv\")"
   ]
  },
  {
   "cell_type": "markdown",
   "metadata": {},
   "source": [
    "### Load the clinical_vars.csv data file and check the contents\n",
    "This is a relatively large dataset and may take several minutes to load using base R. \n",
    "We will use the `fread` function from  \"data.table\" package for faster loading. "
   ]
  },
  {
   "cell_type": "code",
   "execution_count": 2,
   "metadata": {
    "collapsed": false,
    "scrolled": true
   },
   "outputs": [
    {
     "name": "stderr",
     "output_type": "stream",
     "text": [
      "Installing package into '/gpfs/home/r/a/rahurkar/Carbonate/R/x86_64-pc-linux-gnu-library/3.3'\n",
      "(as 'lib' is unspecified)\n"
     ]
    }
   ],
   "source": [
    "# If you haven't done so already, install the data.table package using the code below.\n",
    "install.packages(\"data.table\")\n",
    "library(data.table)"
   ]
  },
  {
   "cell_type": "code",
   "execution_count": 3,
   "metadata": {
    "collapsed": false,
    "scrolled": true
   },
   "outputs": [
    {
     "data": {
      "text/html": [
       "<table>\n",
       "<thead><tr><th scope=col>STUDYID</th><th scope=col>OBS</th><th scope=col>TYPE</th><th scope=col>OBSVALUE</th><th scope=col>CODED_CODE</th><th scope=col>CODE_NAME</th><th scope=col>DAYS_VIS_INDEX</th></tr></thead>\n",
       "<tbody>\n",
       "\t<tr><td>16              </td><td>Acetaminophen   </td><td>Medications     </td><td>3783            </td><td>                </td><td>                </td><td>-392            </td></tr>\n",
       "\t<tr><td>16              </td><td>Acetamnphn W/Cod</td><td>Medications     </td><td>  12            </td><td>                </td><td>                </td><td>-392            </td></tr>\n",
       "\t<tr><td>16              </td><td>BP Dias Sitting </td><td>Phenotypes      </td><td>  69            </td><td>                </td><td>                </td><td>-392            </td></tr>\n",
       "\t<tr><td>16              </td><td>BP Sys Sitting  </td><td>Phenotypes      </td><td> 158            </td><td>                </td><td>                </td><td>-392            </td></tr>\n",
       "\t<tr><td>16              </td><td>Clinic Site     </td><td>Other           </td><td>  NA            </td><td>3636            </td><td>MED CL          </td><td>-392            </td></tr>\n",
       "\t<tr><td>16              </td><td>Encounter Site  </td><td>Other           </td><td>  NA            </td><td>3636            </td><td>MED CL          </td><td>-392            </td></tr>\n",
       "</tbody>\n",
       "</table>\n"
      ],
      "text/latex": [
       "\\begin{tabular}{r|lllllll}\n",
       " STUDYID & OBS & TYPE & OBSVALUE & CODED\\_CODE & CODE\\_NAME & DAYS\\_VIS\\_INDEX\\\\\n",
       "\\hline\n",
       "\t 16               & Acetaminophen    & Medications      & 3783             &                  &                  & -392            \\\\\n",
       "\t 16               & Acetamnphn W/Cod & Medications      &   12             &                  &                  & -392            \\\\\n",
       "\t 16               & BP Dias Sitting  & Phenotypes       &   69             &                  &                  & -392            \\\\\n",
       "\t 16               & BP Sys Sitting   & Phenotypes       &  158             &                  &                  & -392            \\\\\n",
       "\t 16               & Clinic Site      & Other            &   NA             & 3636             & MED CL           & -392            \\\\\n",
       "\t 16               & Encounter Site   & Other            &   NA             & 3636             & MED CL           & -392            \\\\\n",
       "\\end{tabular}\n"
      ],
      "text/markdown": [
       "\n",
       "STUDYID | OBS | TYPE | OBSVALUE | CODED_CODE | CODE_NAME | DAYS_VIS_INDEX | \n",
       "|---|---|---|---|---|---|\n",
       "| 16               | Acetaminophen    | Medications      | 3783             |                  |                  | -392             | \n",
       "| 16               | Acetamnphn W/Cod | Medications      |   12             |                  |                  | -392             | \n",
       "| 16               | BP Dias Sitting  | Phenotypes       |   69             |                  |                  | -392             | \n",
       "| 16               | BP Sys Sitting   | Phenotypes       |  158             |                  |                  | -392             | \n",
       "| 16               | Clinic Site      | Other            |   NA             | 3636             | MED CL           | -392             | \n",
       "| 16               | Encounter Site   | Other            |   NA             | 3636             | MED CL           | -392             | \n",
       "\n",
       "\n"
      ],
      "text/plain": [
       "  STUDYID OBS              TYPE        OBSVALUE CODED_CODE CODE_NAME\n",
       "1 16      Acetaminophen    Medications 3783                         \n",
       "2 16      Acetamnphn W/Cod Medications   12                         \n",
       "3 16      BP Dias Sitting  Phenotypes    69                         \n",
       "4 16      BP Sys Sitting   Phenotypes   158                         \n",
       "5 16      Clinic Site      Other         NA     3636       MED CL   \n",
       "6 16      Encounter Site   Other         NA     3636       MED CL   \n",
       "  DAYS_VIS_INDEX\n",
       "1 -392          \n",
       "2 -392          \n",
       "3 -392          \n",
       "4 -392          \n",
       "5 -392          \n",
       "6 -392          "
      ]
     },
     "metadata": {},
     "output_type": "display_data"
    },
    {
     "data": {
      "text/plain": [
       "    STUDYID            OBS                TYPE              OBSVALUE       \n",
       " Min.   :     16   Length:27776723    Length:27776723    Min.   :   -6407  \n",
       " 1st Qu.: 110019   Class :character   Class :character   1st Qu.:       5  \n",
       " Median : 306685   Mode  :character   Mode  :character   Median :      22  \n",
       " Mean   : 384745                                         Mean   :     122  \n",
       " 3rd Qu.: 549386                                         3rd Qu.:      87  \n",
       " Max.   :1256051                                         Max.   :42128382  \n",
       "                                                         NA's   :2329016   \n",
       "  CODED_CODE         CODE_NAME         DAYS_VIS_INDEX   \n",
       " Length:27776723    Length:27776723    Min.   :-7597.0  \n",
       " Class :character   Class :character   1st Qu.:  -10.0  \n",
       " Mode  :character   Mode  :character   Median :  484.0  \n",
       "                                       Mean   :  743.7  \n",
       "                                       3rd Qu.: 1761.0  \n",
       "                                       Max.   : 7635.0  \n",
       "                                                        "
      ]
     },
     "metadata": {},
     "output_type": "display_data"
    }
   ],
   "source": [
    "clinical <- fread(\"clinical_vars.csv\", sep = \",\", header= TRUE)\n",
    "head(clinical)\n",
    "summary(clinical)"
   ]
  },
  {
   "cell_type": "markdown",
   "metadata": {},
   "source": [
    "<b>NOTE:</b>  `fread` loads the OBS variable class as character where Base R loads it as a factor. This affects the way we interact with the data.<br> \n",
    "While character class does not retain levels after subsetting, factor class does. There is a need to switch to character and then back to factor to remove these levels if the file was to be loaded with  Base R (in Ex 3.2).<br>\n",
    "With `fread`, we will convert OBS to factor in Ex 3.2. "
   ]
  },
  {
   "cell_type": "markdown",
   "metadata": {},
   "source": [
    "### Exploring OBS variable levels \n",
    "This is where all the observation and test names are recorded. The correspomding OBSVALUE field contains the recorded value.\n",
    "\n",
    "Let's create the list of all the observation and test names. "
   ]
  },
  {
   "cell_type": "code",
   "execution_count": 4,
   "metadata": {
    "collapsed": false
   },
   "outputs": [
    {
     "data": {
      "text/html": [
       "<ol class=list-inline>\n",
       "\t<li>2134</li>\n",
       "\t<li>2</li>\n",
       "</ol>\n"
      ],
      "text/latex": [
       "\\begin{enumerate*}\n",
       "\\item 2134\n",
       "\\item 2\n",
       "\\end{enumerate*}\n"
      ],
      "text/markdown": [
       "1. 2134\n",
       "2. 2\n",
       "\n",
       "\n"
      ],
      "text/plain": [
       "[1] 2134    2"
      ]
     },
     "metadata": {},
     "output_type": "display_data"
    },
    {
     "data": {
      "text/html": [
       "<table>\n",
       "<thead><tr><th scope=col>Var1</th><th scope=col>Freq</th></tr></thead>\n",
       "<tbody>\n",
       "\t<tr><td># Cells Counted in Diff  </td><td>19017                    </td></tr>\n",
       "\t<tr><td>17 OH Progest SerPl Qn   </td><td>  100                    </td></tr>\n",
       "\t<tr><td>A 1 Antitrypsin SerPl Qn </td><td>  910                    </td></tr>\n",
       "\t<tr><td>A1 Glob Ser Qn Elp       </td><td> 5243                    </td></tr>\n",
       "\t<tr><td>A2 Glob Ser Qn Elp       </td><td> 5267                    </td></tr>\n",
       "\t<tr><td>ABDOMINAL PAIN PAST MONTH</td><td>   15                    </td></tr>\n",
       "</tbody>\n",
       "</table>\n"
      ],
      "text/latex": [
       "\\begin{tabular}{r|ll}\n",
       " Var1 & Freq\\\\\n",
       "\\hline\n",
       "\t \\# Cells Counted in Diff   & 19017                      \\\\\n",
       "\t 17 OH Progest SerPl Qn    &   100                    \\\\\n",
       "\t A 1 Antitrypsin SerPl Qn  &   910                    \\\\\n",
       "\t A1 Glob Ser Qn Elp        &  5243                    \\\\\n",
       "\t A2 Glob Ser Qn Elp        &  5267                    \\\\\n",
       "\t ABDOMINAL PAIN PAST MONTH &    15                    \\\\\n",
       "\\end{tabular}\n"
      ],
      "text/markdown": [
       "\n",
       "Var1 | Freq | \n",
       "|---|---|---|---|---|---|\n",
       "| # Cells Counted in Diff   | 19017                     | \n",
       "| 17 OH Progest SerPl Qn    |   100                     | \n",
       "| A 1 Antitrypsin SerPl Qn  |   910                     | \n",
       "| A1 Glob Ser Qn Elp        |  5243                     | \n",
       "| A2 Glob Ser Qn Elp        |  5267                     | \n",
       "| ABDOMINAL PAIN PAST MONTH |    15                     | \n",
       "\n",
       "\n"
      ],
      "text/plain": [
       "  Var1                      Freq \n",
       "1 # Cells Counted in Diff   19017\n",
       "2 17 OH Progest SerPl Qn      100\n",
       "3 A 1 Antitrypsin SerPl Qn    910\n",
       "4 A1 Glob Ser Qn Elp         5243\n",
       "5 A2 Glob Ser Qn Elp         5267\n",
       "6 ABDOMINAL PAIN PAST MONTH    15"
      ]
     },
     "metadata": {},
     "output_type": "display_data"
    }
   ],
   "source": [
    "obs_data<- as.data.frame(table(clinical$OBS))\n",
    "dim(obs_data)\n",
    "head(obs_data) # Look at the first 6 rows of the OBS table to get a sense of the data."
   ]
  },
  {
   "cell_type": "markdown",
   "metadata": {},
   "source": [
    "There are 2134 names in the list. We need to find \"weight\", \"height\" and \"BMI\" observations within this table. Lets search for \"weight and \"height\"  and \"BMI\" in the obs levels. Because \"weight\" and \" height\" only differ by the first letter, we can search for \"eight\" to find them both. \n",
    "To do the search, we need the `str_detect` function from the stringr package. "
   ]
  },
  {
   "cell_type": "code",
   "execution_count": 5,
   "metadata": {
    "collapsed": false
   },
   "outputs": [
    {
     "name": "stderr",
     "output_type": "stream",
     "text": [
      "Installing package into '/gpfs/home/r/a/rahurkar/Carbonate/R/x86_64-pc-linux-gnu-library/3.3'\n",
      "(as 'lib' is unspecified)\n"
     ]
    },
    {
     "ename": "ERROR",
     "evalue": "Error in library(stringr): Package 'stringr' version 1.3.1 cannot be unloaded\n",
     "output_type": "error",
     "traceback": [
      "Error in library(stringr): Package 'stringr' version 1.3.1 cannot be unloaded\nTraceback:\n",
      "1. library(stringr)",
      "2. stop(gettextf(\"Package %s version %s cannot be unloaded\", sQuote(package), \n .     oldversion), domain = NA)"
     ]
    }
   ],
   "source": [
    "# If you haven't already done so, install the stringr package using the code below.\n",
    "install.packages(\"stringr\")\n",
    "library(stringr)  "
   ]
  },
  {
   "cell_type": "code",
   "execution_count": null,
   "metadata": {
    "collapsed": false,
    "scrolled": true
   },
   "outputs": [],
   "source": [
    "# Create the name_list by appending the two query results.\n",
    "# The option ignore_case is used to disregard upper & lower case versions of letters. \n",
    "eight <- obs_data[str_detect(obs_data$Var1, fixed('eight', ignore_case=TRUE)),]\n",
    "bmi <- obs_data[str_detect(obs_data$Var1, fixed('bmi', ignore_case=TRUE)),]\n",
    "name_list <- rbind(eight,bmi) # Add the rows of the two results. \n",
    "name_list <- name_list[ order ( -name_list$Freq), ] # Order from large to small by frequency.\n",
    "name_list\n",
    "\n",
    "rm(eight, bmi) # This code removes the temporary data created. "
   ]
  },
  {
   "cell_type": "code",
   "execution_count": null,
   "metadata": {
    "collapsed": false
   },
   "outputs": [],
   "source": [
    "# The same result can be achieved with one line of code using a combination of: \n",
    "# Regular Expressions (RegEx) and str_detect\n",
    "# regex('eight|bmi') translates as \"eight\" or \"bmi\" \n",
    "name_list <- obs_data[str_detect(obs_data$Var1, regex('eight|bmi', ignore_case=TRUE)),]\n",
    "name_list <- name_list[ order(-name_list$Freq), ] #order by freq (large to small)\n",
    "as.data.frame(name_list)"
   ]
  },
  {
   "cell_type": "markdown",
   "metadata": {},
   "source": [
    "### Choosing variables of interest \n",
    "The query returns 18 OBS levels. The observations (OBS) with higher frequency and with units are useful for our purposes. So we choose the following fields: \n",
    "* \"Weight Lbs\", \n",
    "* \"Weight Metric\", * \"Height(In)\", \n",
    "* \"Height Metric\", \n",
    "* \"BMI\""
   ]
  },
  {
   "cell_type": "markdown",
   "metadata": {},
   "source": [
    "We will be filtering (subsetting) the dataset using these  OBS values as criteria.  Below, are 3 different approaches to accomplish this: "
   ]
  },
  {
   "cell_type": "markdown",
   "metadata": {},
   "source": [
    "### Method 1- Subsett the dataset into 5 files using the selected OBS values\n",
    "Later, we join these subsets to form our final dataset, wt_ht.  "
   ]
  },
  {
   "cell_type": "code",
   "execution_count": null,
   "metadata": {
    "collapsed": false
   },
   "outputs": [],
   "source": [
    "a <- clinical[clinical$OBS == \"Weight Lbs\",]\n",
    "b <- clinical[clinical$OBS == \"Weight Metric\",]\n",
    "c <- clinical[clinical$OBS == \"Height(In)\",]\n",
    "d <- clinical[clinical$OBS == \"Height Metric\",]\n",
    "e <- clinical[clinical$OBS == \"BMI\",]\n",
    "\n",
    "wt_ht <- rbind(a,b,c,d,e)\n",
    "\n",
    "head(wt_ht)\n",
    "length(unique(wt_ht$STUDYID))\n",
    "rm(a,b,c,d,e) # Delete the temporary variables."
   ]
  },
  {
   "cell_type": "markdown",
   "metadata": {
    "collapsed": true
   },
   "source": [
    "### Method 2- Use Regular Expressions (RegEx) \n",
    "The following RegEx (regular expression) code does the same filtering as above. It uses  the `grep` function and the `subset` function. Here is how the RegEx code translates:\n",
    "\n",
    "`^[wh]+eight+.*(ric$|bs$|\\\\)$)|^bmi$`\n",
    "\n",
    "  All names start with \"w\" or \"h\" followed by \"eight\", after a number of characters (.*), AND <br>\n",
    "  must end with \"ric\" or \"bs\" or \")\"(note that the escape character \"\\\" has to be written twice) <br>\n",
    "OR (|) <br>\n",
    "  names that start and end with \"bmi\" <br>"
   ]
  },
  {
   "cell_type": "code",
   "execution_count": null,
   "metadata": {
    "collapsed": false,
    "scrolled": true
   },
   "outputs": [],
   "source": [
    "# If you would like to try out the regular expressions method for filtering the data, use the code below:\n",
    "\n",
    "# wt_ht <- subset(clinical, grepl(\"^[wh]+eight+.*(ric$|bs$|\\\\)$)|^bmi$\",OBS,ignore.case = TRUE))\n",
    "\n",
    "head(wt_ht)\n",
    "length(unique(wt_ht$STUDYID)) # The number of unique patients.\n",
    "summary(wt_ht)"
   ]
  },
  {
   "cell_type": "markdown",
   "metadata": {
    "collapsed": false
   },
   "source": [
    "### Method 3- Use the `filter` function from Dplyr (quickest)\n",
    "The code below does the criteria search within one string of code. The pipe operator `%>%` is used to apply `filter`  then a second `select` function to select the columns (which we do later).\n",
    "\n",
    "The `filter`, `select` and `%>%` (piping) functions require dplyr, which is a part of the Tidyverse package."
   ]
  },
  {
   "cell_type": "code",
   "execution_count": null,
   "metadata": {
    "collapsed": false
   },
   "outputs": [],
   "source": [
    "# If you haven't already done so, use the code below to install the Tidyverse package. \n",
    "install.packages(\"tidyverse\")\n",
    "library(tidyverse) \n"
   ]
  },
  {
   "cell_type": "code",
   "execution_count": null,
   "metadata": {
    "collapsed": false,
    "scrolled": true
   },
   "outputs": [],
   "source": [
    "# Piping operation \n",
    "wt_ht <- clinical %>% \n",
    "  filter(OBS %in% c(\"Weight Lbs\", \"Weight Metric\", \"Height(In)\", \"Height Metric\", \"BMI\")) %>%\n",
    "  select(c(1,2,4,7))\n",
    "head(wt_ht)\n",
    "length(unique(wt_ht$STUDYID))"
   ]
  },
  {
   "cell_type": "markdown",
   "metadata": {},
   "source": [
    "### Save the data in RDATA format\n",
    "Sometimes it is useful to save the data in different file formats. To save the file in RDATA format, use the code below. To load a file of this type, we use the following code: load(file = \"wt_ht.RDATA\")"
   ]
  },
  {
   "cell_type": "code",
   "execution_count": null,
   "metadata": {
    "collapsed": false
   },
   "outputs": [],
   "source": [
    "save(wt_ht, file =\"wt_ht.RDATA\")\n",
    "file.info(\"wt_ht.RDATA\")"
   ]
  },
  {
   "cell_type": "markdown",
   "metadata": {},
   "source": [
    "****\n",
    "## End of Exercise 3a"
   ]
  }
 ],
 "metadata": {
  "kernelspec": {
   "display_name": "R 3.3.1",
   "language": "R",
   "name": "ir"
  },
  "language_info": {
   "codemirror_mode": "r",
   "file_extension": ".r",
   "mimetype": "text/x-r-source",
   "name": "R",
   "pygments_lexer": "r",
   "version": "3.3.1"
  }
 },
 "nbformat": 4,
 "nbformat_minor": 2
}
