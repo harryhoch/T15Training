{
 "cells": [
  {
   "cell_type": "markdown",
   "metadata": {
    "nbpresent": {
     "id": "21dd43d7-89fa-40f3-b6bf-10508bdb4f98"
    }
   },
   "source": [
    "# The Indiana Training Program in Public and Population Health Informatics\n",
    "\n",
    "\n",
    "## Exercise 2\n",
    "\n",
    "*Competencies addressed*   \n",
    "\n",
    "1. Apply data merging/linking and reshaping methods  (I.1.3)\n",
    "2. Develop an understanding of processing different kinds of data (e.g. string processing)  (I.1.5)\n",
    "3. Demonstrate the ability to describe data (find means, standard deviations, outliers, evaluate correlations etc.) (II.1.2)"
   ]
  },
  {
   "cell_type": "markdown",
   "metadata": {
    "nbpresent": {
     "id": "c921fe06-3643-439e-a307-fd723f61c49e"
    }
   },
   "source": [
    "*Learning objectives*  \n",
    " At the end of this module the student will be able to do the following:\n",
    "\n",
    "1. Set up the working environment in R\n",
    "2. Read the dataset prior to loading it into R\n",
    "3. Import a text delimited dataset into R\n",
    "4. Run summary statistics\n",
    "5. Make a dataset more meaningful by linking the multiple datasets\n",
    "6. Import a stata file into R\n",
    "7. Understand the significance of choosing the right variable type when importing a dataset into R\n",
    "\n",
    "\n",
    "This exercises uses the medication data from the Type-2 Diabetes dataset. The medication data contains detailed information on the various medications prescribed to the patients. Additional information on dosage and when the medications were prescribed is also available. We first start by loading the data into R. Once the dataset is loaded we use `head` to view the first few rows to get an idea of what this dataset looks like."
   ]
  },
  {
   "cell_type": "code",
   "execution_count": 1,
   "metadata": {
    "collapsed": false,
    "nbpresent": {
     "id": "73af78c4-9a50-4cbf-a935-27df9105901b"
    }
   },
   "outputs": [
    {
     "data": {
      "text/html": [
       "'/N/dc2/projects/T15/Sample'"
      ],
      "text/latex": [
       "'/N/dc2/projects/T15/Sample'"
      ],
      "text/markdown": [
       "'/N/dc2/projects/T15/Sample'"
      ],
      "text/plain": [
       "[1] \"/N/dc2/projects/T15/Sample\""
      ]
     },
     "metadata": {},
     "output_type": "display_data"
    },
    {
     "data": {
      "text/html": [
       "<table>\n",
       "<thead><tr><th scope=col>STUDYID</th><th scope=col>DAYS_MED_INDEX</th><th scope=col>DRUG_NAME</th><th scope=col>NDC_CODE</th><th scope=col>STRENGTH</th><th scope=col>DISPENSE_AMOUNT</th><th scope=col>NUMBER_OF_DAYS_SUPPLY</th></tr></thead>\n",
       "<tbody>\n",
       "\t<tr><td>103                   </td><td>2757                  </td><td>GLIPIZIDE 5 MG TABLET </td><td>51079081020           </td><td>NA                    </td><td> 60                   </td><td> 30                   </td></tr>\n",
       "\t<tr><td>239                   </td><td>6871                  </td><td>NOVOLIN N             </td><td>  169183411           </td><td>NA                    </td><td>-50                   </td><td>-55                   </td></tr>\n",
       "\t<tr><td>239                   </td><td> 811                  </td><td>HUMULIN N             </td><td>    2831501           </td><td>NA                    </td><td> NA                   </td><td> NA                   </td></tr>\n",
       "\t<tr><td>239                   </td><td>3751                  </td><td>HUMULIN N    INJ U-100</td><td>    2831501           </td><td>NA                    </td><td>  1                   </td><td> 60                   </td></tr>\n",
       "\t<tr><td>239                   </td><td>3819                  </td><td>HUMULIN R    INJ U-100</td><td>    2821501           </td><td>NA                    </td><td>  1                   </td><td> 60                   </td></tr>\n",
       "\t<tr><td>239                   </td><td>1128                  </td><td>HUMULIN N             </td><td>    2831501           </td><td>NA                    </td><td>  1                   </td><td> NA                   </td></tr>\n",
       "</tbody>\n",
       "</table>\n"
      ],
      "text/latex": [
       "\\begin{tabular}{r|lllllll}\n",
       " STUDYID & DAYS\\_MED\\_INDEX & DRUG\\_NAME & NDC\\_CODE & STRENGTH & DISPENSE\\_AMOUNT & NUMBER\\_OF\\_DAYS\\_SUPPLY\\\\\n",
       "\\hline\n",
       "\t 103                    & 2757                   & GLIPIZIDE 5 MG TABLET  & 51079081020            & NA                     &  60                    &  30                   \\\\\n",
       "\t 239                    & 6871                   & NOVOLIN N              &   169183411            & NA                     & -50                    & -55                   \\\\\n",
       "\t 239                    &  811                   & HUMULIN N              &     2831501            & NA                     &  NA                    &  NA                   \\\\\n",
       "\t 239                    & 3751                   & HUMULIN N    INJ U-100 &     2831501            & NA                     &   1                    &  60                   \\\\\n",
       "\t 239                    & 3819                   & HUMULIN R    INJ U-100 &     2821501            & NA                     &   1                    &  60                   \\\\\n",
       "\t 239                    & 1128                   & HUMULIN N              &     2831501            & NA                     &   1                    &  NA                   \\\\\n",
       "\\end{tabular}\n"
      ],
      "text/markdown": [
       "\n",
       "STUDYID | DAYS_MED_INDEX | DRUG_NAME | NDC_CODE | STRENGTH | DISPENSE_AMOUNT | NUMBER_OF_DAYS_SUPPLY | \n",
       "|---|---|---|---|---|---|\n",
       "| 103                    | 2757                   | GLIPIZIDE 5 MG TABLET  | 51079081020            | NA                     |  60                    |  30                    | \n",
       "| 239                    | 6871                   | NOVOLIN N              |   169183411            | NA                     | -50                    | -55                    | \n",
       "| 239                    |  811                   | HUMULIN N              |     2831501            | NA                     |  NA                    |  NA                    | \n",
       "| 239                    | 3751                   | HUMULIN N    INJ U-100 |     2831501            | NA                     |   1                    |  60                    | \n",
       "| 239                    | 3819                   | HUMULIN R    INJ U-100 |     2821501            | NA                     |   1                    |  60                    | \n",
       "| 239                    | 1128                   | HUMULIN N              |     2831501            | NA                     |   1                    |  NA                    | \n",
       "\n",
       "\n"
      ],
      "text/plain": [
       "  STUDYID DAYS_MED_INDEX DRUG_NAME              NDC_CODE    STRENGTH\n",
       "1 103     2757           GLIPIZIDE 5 MG TABLET  51079081020 NA      \n",
       "2 239     6871           NOVOLIN N                169183411 NA      \n",
       "3 239      811           HUMULIN N                  2831501 NA      \n",
       "4 239     3751           HUMULIN N    INJ U-100     2831501 NA      \n",
       "5 239     3819           HUMULIN R    INJ U-100     2821501 NA      \n",
       "6 239     1128           HUMULIN N                  2831501 NA      \n",
       "  DISPENSE_AMOUNT NUMBER_OF_DAYS_SUPPLY\n",
       "1  60              30                  \n",
       "2 -50             -55                  \n",
       "3  NA              NA                  \n",
       "4   1              60                  \n",
       "5   1              60                  \n",
       "6   1              NA                  "
      ]
     },
     "metadata": {},
     "output_type": "display_data"
    },
    {
     "data": {
      "text/plain": [
       "    STUDYID        DAYS_MED_INDEX                        DRUG_NAME     \n",
       " Min.   :    103   Min.   :-4834   METFORMIN HCL              : 99710  \n",
       " 1st Qu.: 261123   1st Qu.:  329   METFORMIN HCL 500 MG TABLET: 35672  \n",
       " Median : 513041   Median :  971   METFORMIN HCL ER           : 34704  \n",
       " Mean   : 549969   Mean   : 1302   ACTOS                      : 26168  \n",
       " 3rd Qu.: 830052   3rd Qu.: 1970   GLIMEPIRIDE                : 24595  \n",
       " Max.   :1256011   Max.   : 7264   METFORMIN    TAB 500MG     : 23854  \n",
       "                                   (Other)                    :465041  \n",
       "    NDC_CODE            STRENGTH      DISPENSE_AMOUNT   NUMBER_OF_DAYS_SUPPLY\n",
       " Min.   :2.751e+06   Min.   :   0.0   Min.   :-473.00   Min.   :-100.00      \n",
       " 1st Qu.:9.310e+07   1st Qu.:  10.0   1st Qu.:  30.00   1st Qu.:  30.00      \n",
       " Median :5.911e+08   Median : 100.0   Median :  60.00   Median :  30.00      \n",
       " Mean   :2.621e+10   Mean   : 307.8   Mean   :  69.85   Mean   :  44.06      \n",
       " 3rd Qu.:6.276e+10   3rd Qu.: 500.0   3rd Qu.:  90.00   3rd Qu.:  60.00      \n",
       " Max.   :6.865e+10   Max.   :2700.0   Max.   :6000.00   Max.   : 660.00      \n",
       "                     NA's   :495414   NA's   :246682    NA's   :27049        "
      ]
     },
     "metadata": {},
     "output_type": "display_data"
    }
   ],
   "source": [
    "getwd()  #check current directory\n",
    "setwd(\"/N/dc2/projects/T15/Sample\") # setting working folder\n",
    "medication <- read.csv(\"medication.csv\", header= TRUE)\n",
    "head(medication)\n",
    "summary(medication)"
   ]
  },
  {
   "cell_type": "markdown",
   "metadata": {
    "nbpresent": {
     "id": "bf028f8c-fac4-4106-af97-1b034dfbcc27"
    }
   },
   "source": [
    "Now we know that this dataset has 7 variables:\n",
    "\n",
    "* Studyid(`STUDYID`)\n",
    "* Days from or to the index date (`DAYS_MED_INDEX`)\n",
    "* Name of the drug (`DRUG_NAME`)\n",
    "* National drug code (`NDC_CODE`)\n",
    "* Strength of the medication (`STRENGTH`)\n",
    "* Number of pills given out (`DISPENSE_AMOUNT`)\n",
    "* Number of days supply (`NUMBER OF DAYS SUPPLY`)\n",
    "\n",
    "The medication data is useful for examining the drugs that are being prescribed to patients and we first examine the frequency distribution of the drugs using the `table` function. <br>\n",
    "`as.data.frame` formats the table, `heads` function limits the rows to first 6 rows. "
   ]
  },
  {
   "cell_type": "code",
   "execution_count": 2,
   "metadata": {
    "collapsed": false,
    "nbpresent": {
     "id": "647fe07b-51f8-4925-911a-fac1549e2a6f"
    },
    "scrolled": false
   },
   "outputs": [
    {
     "data": {
      "text/html": [
       "<table>\n",
       "<thead><tr><th scope=col>Var1</th><th scope=col>Freq</th></tr></thead>\n",
       "<tbody>\n",
       "\t<tr><td>53746017810                   </td><td>  2                           </td></tr>\n",
       "\t<tr><td>ACARBOSE                      </td><td>279                           </td></tr>\n",
       "\t<tr><td>ACARBOSE     TAB 100MG        </td><td> 18                           </td></tr>\n",
       "\t<tr><td>ACARBOSE     TAB 100MGACARBOSE</td><td>  3                           </td></tr>\n",
       "\t<tr><td>ACARBOSE     TAB 25MG         </td><td> 57                           </td></tr>\n",
       "\t<tr><td>ACARBOSE     TAB 25MGACARBOSE </td><td> 27                           </td></tr>\n",
       "</tbody>\n",
       "</table>\n"
      ],
      "text/latex": [
       "\\begin{tabular}{r|ll}\n",
       " Var1 & Freq\\\\\n",
       "\\hline\n",
       "\t 53746017810                    &   2                           \\\\\n",
       "\t ACARBOSE                       & 279                           \\\\\n",
       "\t ACARBOSE     TAB 100MG         &  18                           \\\\\n",
       "\t ACARBOSE     TAB 100MGACARBOSE &   3                           \\\\\n",
       "\t ACARBOSE     TAB 25MG          &  57                           \\\\\n",
       "\t ACARBOSE     TAB 25MGACARBOSE  &  27                           \\\\\n",
       "\\end{tabular}\n"
      ],
      "text/markdown": [
       "\n",
       "Var1 | Freq | \n",
       "|---|---|---|---|---|---|\n",
       "| 53746017810                    |   2                            | \n",
       "| ACARBOSE                       | 279                            | \n",
       "| ACARBOSE     TAB 100MG         |  18                            | \n",
       "| ACARBOSE     TAB 100MGACARBOSE |   3                            | \n",
       "| ACARBOSE     TAB 25MG          |  57                            | \n",
       "| ACARBOSE     TAB 25MGACARBOSE  |  27                            | \n",
       "\n",
       "\n"
      ],
      "text/plain": [
       "  Var1                           Freq\n",
       "1 53746017810                      2 \n",
       "2 ACARBOSE                       279 \n",
       "3 ACARBOSE     TAB 100MG          18 \n",
       "4 ACARBOSE     TAB 100MGACARBOSE   3 \n",
       "5 ACARBOSE     TAB 25MG           57 \n",
       "6 ACARBOSE     TAB 25MGACARBOSE   27 "
      ]
     },
     "metadata": {},
     "output_type": "display_data"
    }
   ],
   "source": [
    "head(as.data.frame(table(medication$DRUG_NAME)))"
   ]
  },
  {
   "cell_type": "markdown",
   "metadata": {
    "nbpresent": {
     "id": "ab289035-dff6-45dc-8e03-c0409901d241"
    }
   },
   "source": [
    "What we find here is that given that our drugs are identified by the specific generic drug and formulation combination, we see multiple entries for the same type of drug e.g. Acarbose, Acarbose Tab 100mg, Acarbose Tab 25 mg etc. Further, even variations in spellings result in the drugs being considered distinct. This highly granular information is of little use from a research standpoint when examining most research questions. It would be helpful to aggregate these drugs into more meaningful categories such as combining acarbose, actoplus and all other similar drugs into the \"Anti-diabetic medication\" category. In order to do so we will merge this data with a cross walk that provides categories of drugs.\n",
    "\n",
    "The crosswalk dataset to be used is the `<filename>.dta` available in the curricular materials. \n",
    "\n",
    "The crosswalk was created in a different statistical software called Stata and exists as a `.dta` file. Thus, a different library will be used to bring the cross walk into R.\n",
    "\n",
    "In the following cells, we will load the `haven` library, use it to read the `<filename>.dta` into R, and view the first few rows."
   ]
  },
  {
   "cell_type": "code",
   "execution_count": 3,
   "metadata": {
    "collapsed": false,
    "nbpresent": {
     "id": "4fe31969-7fb8-41df-83f5-de2ea129ddc7"
    },
    "scrolled": true
   },
   "outputs": [
    {
     "name": "stdout",
     "output_type": "stream",
     "text": [
      "Dimensions (rows columns/variables): 429473 9"
     ]
    },
    {
     "data": {
      "text/html": [
       "<table>\n",
       "<thead><tr><th scope=col>ndc</th><th scope=col>drug</th><th scope=col>rxncui</th><th scope=col>concept_name</th><th scope=col>cscode</th><th scope=col>drug_class</th><th scope=col>sgthr</th><th scope=col>sgphr</th><th scope=col>sgchem</th></tr></thead>\n",
       "<tbody>\n",
       "\t<tr><td>00002000001                                           </td><td>Ergocalciferol 1.25 Mg Oral Capsule [Deltalin]        </td><td> 4018                                                 </td><td>Vitamin D2                                            </td><td>A11CC01                                               </td><td>Ergocalciferol                                        </td><td>Vitamins                                              </td><td>Vit A And D, Incl. Combinations Of The Two            </td><td>Vitamin D And Analogues                               </td></tr>\n",
       "\t<tr><td>00002000002                                           </td><td>Ergocalciferol 1.25 Mg Oral Capsule [Deltalin]        </td><td> 4018                                                 </td><td>Vitamin D2                                            </td><td>A11CC01                                               </td><td>Ergocalciferol                                        </td><td>Vitamins                                              </td><td>Vit A And D, Incl. Combinations Of The Two            </td><td>Vitamin D And Analogues                               </td></tr>\n",
       "\t<tr><td>00002001402                                           </td><td>Flurandrenolide 0.004 Mg/Sqcm Medicated Tape [Cordran]</td><td> 4500                                                 </td><td>Flurandrenolone                                       </td><td>D07AC07                                               </td><td>Fludroxycortide                                       </td><td>Corticosteroids, Dermatological Preparations          </td><td>Corticosteroids, Plain                                </td><td>Corticosteroids, Potent (Group Iii)                   </td></tr>\n",
       "\t<tr><td>00002001801                                           </td><td>Capreomycin 500 Mg/Ml Injectable Solution [Capastat]  </td><td>78903                                                 </td><td>Capreomycin                                           </td><td>J04AB30                                               </td><td>Capreomycin                                           </td><td>Antimycobacterials                                    </td><td>Drugs For Treatment Of Tuberculosis                   </td><td>Antibiotics                                           </td></tr>\n",
       "\t<tr><td>00002001901                                           </td><td>Cycloserine 250 Mg Oral Capsule [Seromycin]           </td><td> 3007                                                 </td><td>Cycloserine                                           </td><td>J04AB01                                               </td><td>Cycloserine                                           </td><td>Antimycobacterials                                    </td><td>Drugs For Treatment Of Tuberculosis                   </td><td>Antibiotics                                           </td></tr>\n",
       "\t<tr><td>00002003401                                           </td><td>Cephalexin 500 Mg Oral Tablet [Keftab]                </td><td> 2231                                                 </td><td>Cephalexin                                            </td><td>J01DB01                                               </td><td>Cefalexin                                             </td><td>Antibacterials For Systemic Use                       </td><td>Other Beta-Lactam Antibacterials                      </td><td>First-Generation Cephalosporins                       </td></tr>\n",
       "</tbody>\n",
       "</table>\n"
      ],
      "text/latex": [
       "\\begin{tabular}{r|lllllllll}\n",
       " ndc & drug & rxncui & concept\\_name & cscode & drug\\_class & sgthr & sgphr & sgchem\\\\\n",
       "\\hline\n",
       "\t 00002000001                                                & Ergocalciferol 1.25 Mg Oral Capsule {[}Deltalin{]}         &  4018                                                      & Vitamin D2                                                 & A11CC01                                                    & Ergocalciferol                                             & Vitamins                                                   & Vit A And D, Incl. Combinations Of The Two                 & Vitamin D And Analogues                                   \\\\\n",
       "\t 00002000002                                                & Ergocalciferol 1.25 Mg Oral Capsule {[}Deltalin{]}         &  4018                                                      & Vitamin D2                                                 & A11CC01                                                    & Ergocalciferol                                             & Vitamins                                                   & Vit A And D, Incl. Combinations Of The Two                 & Vitamin D And Analogues                                   \\\\\n",
       "\t 00002001402                                                & Flurandrenolide 0.004 Mg/Sqcm Medicated Tape {[}Cordran{]} &  4500                                                      & Flurandrenolone                                            & D07AC07                                                    & Fludroxycortide                                            & Corticosteroids, Dermatological Preparations               & Corticosteroids, Plain                                     & Corticosteroids, Potent (Group Iii)                       \\\\\n",
       "\t 00002001801                                                & Capreomycin 500 Mg/Ml Injectable Solution {[}Capastat{]}   & 78903                                                      & Capreomycin                                                & J04AB30                                                    & Capreomycin                                                & Antimycobacterials                                         & Drugs For Treatment Of Tuberculosis                        & Antibiotics                                               \\\\\n",
       "\t 00002001901                                                & Cycloserine 250 Mg Oral Capsule {[}Seromycin{]}            &  3007                                                      & Cycloserine                                                & J04AB01                                                    & Cycloserine                                                & Antimycobacterials                                         & Drugs For Treatment Of Tuberculosis                        & Antibiotics                                               \\\\\n",
       "\t 00002003401                                                & Cephalexin 500 Mg Oral Tablet {[}Keftab{]}                 &  2231                                                      & Cephalexin                                                 & J01DB01                                                    & Cefalexin                                                  & Antibacterials For Systemic Use                            & Other Beta-Lactam Antibacterials                           & First-Generation Cephalosporins                           \\\\\n",
       "\\end{tabular}\n"
      ],
      "text/markdown": [
       "\n",
       "ndc | drug | rxncui | concept_name | cscode | drug_class | sgthr | sgphr | sgchem | \n",
       "|---|---|---|---|---|---|\n",
       "| 00002000001                                            | Ergocalciferol 1.25 Mg Oral Capsule [Deltalin]         |  4018                                                  | Vitamin D2                                             | A11CC01                                                | Ergocalciferol                                         | Vitamins                                               | Vit A And D, Incl. Combinations Of The Two             | Vitamin D And Analogues                                | \n",
       "| 00002000002                                            | Ergocalciferol 1.25 Mg Oral Capsule [Deltalin]         |  4018                                                  | Vitamin D2                                             | A11CC01                                                | Ergocalciferol                                         | Vitamins                                               | Vit A And D, Incl. Combinations Of The Two             | Vitamin D And Analogues                                | \n",
       "| 00002001402                                            | Flurandrenolide 0.004 Mg/Sqcm Medicated Tape [Cordran] |  4500                                                  | Flurandrenolone                                        | D07AC07                                                | Fludroxycortide                                        | Corticosteroids, Dermatological Preparations           | Corticosteroids, Plain                                 | Corticosteroids, Potent (Group Iii)                    | \n",
       "| 00002001801                                            | Capreomycin 500 Mg/Ml Injectable Solution [Capastat]   | 78903                                                  | Capreomycin                                            | J04AB30                                                | Capreomycin                                            | Antimycobacterials                                     | Drugs For Treatment Of Tuberculosis                    | Antibiotics                                            | \n",
       "| 00002001901                                            | Cycloserine 250 Mg Oral Capsule [Seromycin]            |  3007                                                  | Cycloserine                                            | J04AB01                                                | Cycloserine                                            | Antimycobacterials                                     | Drugs For Treatment Of Tuberculosis                    | Antibiotics                                            | \n",
       "| 00002003401                                            | Cephalexin 500 Mg Oral Tablet [Keftab]                 |  2231                                                  | Cephalexin                                             | J01DB01                                                | Cefalexin                                              | Antibacterials For Systemic Use                        | Other Beta-Lactam Antibacterials                       | First-Generation Cephalosporins                        | \n",
       "\n",
       "\n"
      ],
      "text/plain": [
       "  ndc         drug                                                   rxncui\n",
       "1 00002000001 Ergocalciferol 1.25 Mg Oral Capsule [Deltalin]          4018 \n",
       "2 00002000002 Ergocalciferol 1.25 Mg Oral Capsule [Deltalin]          4018 \n",
       "3 00002001402 Flurandrenolide 0.004 Mg/Sqcm Medicated Tape [Cordran]  4500 \n",
       "4 00002001801 Capreomycin 500 Mg/Ml Injectable Solution [Capastat]   78903 \n",
       "5 00002001901 Cycloserine 250 Mg Oral Capsule [Seromycin]             3007 \n",
       "6 00002003401 Cephalexin 500 Mg Oral Tablet [Keftab]                  2231 \n",
       "  concept_name    cscode  drug_class     \n",
       "1 Vitamin D2      A11CC01 Ergocalciferol \n",
       "2 Vitamin D2      A11CC01 Ergocalciferol \n",
       "3 Flurandrenolone D07AC07 Fludroxycortide\n",
       "4 Capreomycin     J04AB30 Capreomycin    \n",
       "5 Cycloserine     J04AB01 Cycloserine    \n",
       "6 Cephalexin      J01DB01 Cefalexin      \n",
       "  sgthr                                       \n",
       "1 Vitamins                                    \n",
       "2 Vitamins                                    \n",
       "3 Corticosteroids, Dermatological Preparations\n",
       "4 Antimycobacterials                          \n",
       "5 Antimycobacterials                          \n",
       "6 Antibacterials For Systemic Use             \n",
       "  sgphr                                     \n",
       "1 Vit A And D, Incl. Combinations Of The Two\n",
       "2 Vit A And D, Incl. Combinations Of The Two\n",
       "3 Corticosteroids, Plain                    \n",
       "4 Drugs For Treatment Of Tuberculosis       \n",
       "5 Drugs For Treatment Of Tuberculosis       \n",
       "6 Other Beta-Lactam Antibacterials          \n",
       "  sgchem                             \n",
       "1 Vitamin D And Analogues            \n",
       "2 Vitamin D And Analogues            \n",
       "3 Corticosteroids, Potent (Group Iii)\n",
       "4 Antibiotics                        \n",
       "5 Antibiotics                        \n",
       "6 First-Generation Cephalosporins    "
      ]
     },
     "metadata": {},
     "output_type": "display_data"
    }
   ],
   "source": [
    "#Install the haven package using following code if not already installed.\n",
    "#install.packages(\"haven\") \n",
    "library(\"haven\")\n",
    "\n",
    "#Loading .dta (Stata file)\n",
    "unindc <- read_dta(\"unindc.dta\") #reading the STATA file \n",
    "cat(\"Dimensions (rows columns/variables):\",dim(unindc)) #Queries number of rows and columns/variables\n",
    "head(unindc) "
   ]
  },
  {
   "cell_type": "markdown",
   "metadata": {
    "nbpresent": {
     "id": "a335c488-98e3-4776-b387-c687280258d4"
    }
   },
   "source": [
    "The crosswalk file: `<filename.dta>` consists of 429,473 rows and the following 9 variables:\n",
    "\n",
    "* National Drug code (`ndc`)\n",
    "* Drug name (`drug`)\n",
    "* RxNorm clinical drug concept (`rxncui`)\n",
    "* Concept name (`concept_name`)\n",
    "* WHO/ATC code (`cscode`)\n",
    "* Drug class (`drug_class`)\n",
    "* Therapeutic subgroup (`sgthr`)\n",
    "* Pharmacological subgroup (`sgphr`)\n",
    "* Chemical subgroup (`sgchem`) \n",
    "\n",
    "For our purposes, we can use the various subgroups (`sgthr`-`sgchem`) to aggregate medications. Note that the `drug_class` variable while valid for aggregation does not provide meaningful categories.\n",
    "\n",
    "The `ndc` variable uniquely identifies all observations in the crosswalk and can thus be used for a many-to-one merge.\n",
    "\n",
    "### Merge\n",
    "We now merge this file with our medications file using the `ndc` variable which is common to both the croswalk and the T2D medications file. However, this variable is named differently in both datasets, while in the crosswalk it is called `ndc`, in the medications dataset it is called `NDC_CODE`. Merging requires that the variable to be merged on have the same name and this is the first step in merging."
   ]
  },
  {
   "cell_type": "code",
   "execution_count": 4,
   "metadata": {
    "collapsed": false,
    "nbpresent": {
     "id": "9578b417-38be-4162-8ad2-e8b7e9ebc955"
    },
    "scrolled": true
   },
   "outputs": [
    {
     "name": "stdout",
     "output_type": "stream",
     "text": [
      "[1] \"List of variables in medication data in the order they appear\"\n"
     ]
    },
    {
     "data": {
      "text/html": [
       "<ol class=list-inline>\n",
       "\t<li>'STUDYID'</li>\n",
       "\t<li>'DAYS_MED_INDEX'</li>\n",
       "\t<li>'DRUG_NAME'</li>\n",
       "\t<li>'NDC_CODE'</li>\n",
       "\t<li>'STRENGTH'</li>\n",
       "\t<li>'DISPENSE_AMOUNT'</li>\n",
       "\t<li>'NUMBER_OF_DAYS_SUPPLY'</li>\n",
       "</ol>\n"
      ],
      "text/latex": [
       "\\begin{enumerate*}\n",
       "\\item 'STUDYID'\n",
       "\\item 'DAYS\\_MED\\_INDEX'\n",
       "\\item 'DRUG\\_NAME'\n",
       "\\item 'NDC\\_CODE'\n",
       "\\item 'STRENGTH'\n",
       "\\item 'DISPENSE\\_AMOUNT'\n",
       "\\item 'NUMBER\\_OF\\_DAYS\\_SUPPLY'\n",
       "\\end{enumerate*}\n"
      ],
      "text/markdown": [
       "1. 'STUDYID'\n",
       "2. 'DAYS_MED_INDEX'\n",
       "3. 'DRUG_NAME'\n",
       "4. 'NDC_CODE'\n",
       "5. 'STRENGTH'\n",
       "6. 'DISPENSE_AMOUNT'\n",
       "7. 'NUMBER_OF_DAYS_SUPPLY'\n",
       "\n",
       "\n"
      ],
      "text/plain": [
       "[1] \"STUDYID\"               \"DAYS_MED_INDEX\"        \"DRUG_NAME\"            \n",
       "[4] \"NDC_CODE\"              \"STRENGTH\"              \"DISPENSE_AMOUNT\"      \n",
       "[7] \"NUMBER_OF_DAYS_SUPPLY\""
      ]
     },
     "metadata": {},
     "output_type": "display_data"
    },
    {
     "name": "stdout",
     "output_type": "stream",
     "text": [
      "[1] \"ndc variable in crosswalk changed to match variable name in medications dataset\"\n"
     ]
    },
    {
     "data": {
      "text/html": [
       "<ol class=list-inline>\n",
       "\t<li>'NDC_CODE'</li>\n",
       "\t<li>'drug'</li>\n",
       "\t<li>'rxncui'</li>\n",
       "\t<li>'concept_name'</li>\n",
       "\t<li>'cscode'</li>\n",
       "\t<li>'drug_class'</li>\n",
       "\t<li>'sgthr'</li>\n",
       "\t<li>'sgphr'</li>\n",
       "\t<li>'sgchem'</li>\n",
       "</ol>\n"
      ],
      "text/latex": [
       "\\begin{enumerate*}\n",
       "\\item 'NDC\\_CODE'\n",
       "\\item 'drug'\n",
       "\\item 'rxncui'\n",
       "\\item 'concept\\_name'\n",
       "\\item 'cscode'\n",
       "\\item 'drug\\_class'\n",
       "\\item 'sgthr'\n",
       "\\item 'sgphr'\n",
       "\\item 'sgchem'\n",
       "\\end{enumerate*}\n"
      ],
      "text/markdown": [
       "1. 'NDC_CODE'\n",
       "2. 'drug'\n",
       "3. 'rxncui'\n",
       "4. 'concept_name'\n",
       "5. 'cscode'\n",
       "6. 'drug_class'\n",
       "7. 'sgthr'\n",
       "8. 'sgphr'\n",
       "9. 'sgchem'\n",
       "\n",
       "\n"
      ],
      "text/plain": [
       "[1] \"NDC_CODE\"     \"drug\"         \"rxncui\"       \"concept_name\" \"cscode\"      \n",
       "[6] \"drug_class\"   \"sgthr\"        \"sgphr\"        \"sgchem\"      "
      ]
     },
     "metadata": {},
     "output_type": "display_data"
    }
   ],
   "source": [
    "#Matching NDC column name for merging \n",
    "print(\"List of variables in medication data in the order they appear\")\n",
    "names(medication) #query names of the variables, output is the names of the variables in order they appear in data\n",
    "colnames(unindc)[1] <- \"NDC_CODE\" #renames first var in crosswalk to match the corresponding variable name in medications data\n",
    "print(\"ndc variable in crosswalk changed to match variable name in medications dataset\")\n",
    "names(unindc)"
   ]
  },
  {
   "cell_type": "markdown",
   "metadata": {
    "nbpresent": {
     "id": "a0def0db-e1ee-4f19-8c68-92a3469d644b"
    }
   },
   "source": [
    "We `merge` by matching all drug codes in the medications file with corresponding drugs in the crosswalk as follows:"
   ]
  },
  {
   "cell_type": "code",
   "execution_count": 5,
   "metadata": {
    "collapsed": false,
    "nbpresent": {
     "id": "18453bce-54d7-4dfc-bfb2-02132f8bd80c"
    }
   },
   "outputs": [
    {
     "data": {
      "text/html": [
       "<table>\n",
       "<thead><tr><th scope=col>NDC_CODE</th><th scope=col>STUDYID</th><th scope=col>DAYS_MED_INDEX</th><th scope=col>DRUG_NAME</th><th scope=col>STRENGTH</th><th scope=col>DISPENSE_AMOUNT</th><th scope=col>NUMBER_OF_DAYS_SUPPLY</th><th scope=col>drug</th><th scope=col>rxncui</th><th scope=col>concept_name</th><th scope=col>cscode</th><th scope=col>drug_class</th><th scope=col>sgthr</th><th scope=col>sgphr</th><th scope=col>sgchem</th></tr></thead>\n",
       "<tbody>\n",
       "\t<tr><td>2751001                  </td><td>131681                   </td><td>2059                     </td><td>HUMALOG                  </td><td> NA                      </td><td>20                       </td><td>30                       </td><td>NA                       </td><td>NA                       </td><td>NA                       </td><td>NA                       </td><td>NA                       </td><td>NA                       </td><td>NA                       </td><td>NA                       </td></tr>\n",
       "\t<tr><td>2751001                  </td><td>131681                   </td><td>2920                     </td><td>HUMALOG                  </td><td> NA                      </td><td>20                       </td><td>30                       </td><td>NA                       </td><td>NA                       </td><td>NA                       </td><td>NA                       </td><td>NA                       </td><td>NA                       </td><td>NA                       </td><td>NA                       </td></tr>\n",
       "\t<tr><td>2751001                  </td><td>395666                   </td><td>1020                     </td><td>HUMALOG                  </td><td> NA                      </td><td>NA                       </td><td>30                       </td><td>NA                       </td><td>NA                       </td><td>NA                       </td><td>NA                       </td><td>NA                       </td><td>NA                       </td><td>NA                       </td><td>NA                       </td></tr>\n",
       "\t<tr><td>2751001                  </td><td>   686                   </td><td>4647                     </td><td>HUMALOG 100 UNITS/ML VIAL</td><td>100                      </td><td>10                       </td><td>30                       </td><td>NA                       </td><td>NA                       </td><td>NA                       </td><td>NA                       </td><td>NA                       </td><td>NA                       </td><td>NA                       </td><td>NA                       </td></tr>\n",
       "\t<tr><td>2751001                  </td><td>513260                   </td><td>2728                     </td><td>HUMALOG 100 UNITS/ML VIAL</td><td>100                      </td><td>90                       </td><td>90                       </td><td>NA                       </td><td>NA                       </td><td>NA                       </td><td>NA                       </td><td>NA                       </td><td>NA                       </td><td>NA                       </td><td>NA                       </td></tr>\n",
       "\t<tr><td>2751001                  </td><td>  1038                   </td><td> 757                     </td><td>HUMALOG      INJ 100/ML  </td><td> NA                      </td><td> 1                       </td><td>60                       </td><td>NA                       </td><td>NA                       </td><td>NA                       </td><td>NA                       </td><td>NA                       </td><td>NA                       </td><td>NA                       </td><td>NA                       </td></tr>\n",
       "</tbody>\n",
       "</table>\n"
      ],
      "text/latex": [
       "\\begin{tabular}{r|lllllllllllllll}\n",
       " NDC\\_CODE & STUDYID & DAYS\\_MED\\_INDEX & DRUG\\_NAME & STRENGTH & DISPENSE\\_AMOUNT & NUMBER\\_OF\\_DAYS\\_SUPPLY & drug & rxncui & concept\\_name & cscode & drug\\_class & sgthr & sgphr & sgchem\\\\\n",
       "\\hline\n",
       "\t 2751001                   & 131681                    & 2059                      & HUMALOG                   &  NA                       & 20                        & 30                        & NA                        & NA                        & NA                        & NA                        & NA                        & NA                        & NA                        & NA                       \\\\\n",
       "\t 2751001                   & 131681                    & 2920                      & HUMALOG                   &  NA                       & 20                        & 30                        & NA                        & NA                        & NA                        & NA                        & NA                        & NA                        & NA                        & NA                       \\\\\n",
       "\t 2751001                   & 395666                    & 1020                      & HUMALOG                   &  NA                       & NA                        & 30                        & NA                        & NA                        & NA                        & NA                        & NA                        & NA                        & NA                        & NA                       \\\\\n",
       "\t 2751001                   &    686                    & 4647                      & HUMALOG 100 UNITS/ML VIAL & 100                       & 10                        & 30                        & NA                        & NA                        & NA                        & NA                        & NA                        & NA                        & NA                        & NA                       \\\\\n",
       "\t 2751001                   & 513260                    & 2728                      & HUMALOG 100 UNITS/ML VIAL & 100                       & 90                        & 90                        & NA                        & NA                        & NA                        & NA                        & NA                        & NA                        & NA                        & NA                       \\\\\n",
       "\t 2751001                   &   1038                    &  757                      & HUMALOG      INJ 100/ML   &  NA                       &  1                        & 60                        & NA                        & NA                        & NA                        & NA                        & NA                        & NA                        & NA                        & NA                       \\\\\n",
       "\\end{tabular}\n"
      ],
      "text/markdown": [
       "\n",
       "NDC_CODE | STUDYID | DAYS_MED_INDEX | DRUG_NAME | STRENGTH | DISPENSE_AMOUNT | NUMBER_OF_DAYS_SUPPLY | drug | rxncui | concept_name | cscode | drug_class | sgthr | sgphr | sgchem | \n",
       "|---|---|---|---|---|---|\n",
       "| 2751001                   | 131681                    | 2059                      | HUMALOG                   |  NA                       | 20                        | 30                        | NA                        | NA                        | NA                        | NA                        | NA                        | NA                        | NA                        | NA                        | \n",
       "| 2751001                   | 131681                    | 2920                      | HUMALOG                   |  NA                       | 20                        | 30                        | NA                        | NA                        | NA                        | NA                        | NA                        | NA                        | NA                        | NA                        | \n",
       "| 2751001                   | 395666                    | 1020                      | HUMALOG                   |  NA                       | NA                        | 30                        | NA                        | NA                        | NA                        | NA                        | NA                        | NA                        | NA                        | NA                        | \n",
       "| 2751001                   |    686                    | 4647                      | HUMALOG 100 UNITS/ML VIAL | 100                       | 10                        | 30                        | NA                        | NA                        | NA                        | NA                        | NA                        | NA                        | NA                        | NA                        | \n",
       "| 2751001                   | 513260                    | 2728                      | HUMALOG 100 UNITS/ML VIAL | 100                       | 90                        | 90                        | NA                        | NA                        | NA                        | NA                        | NA                        | NA                        | NA                        | NA                        | \n",
       "| 2751001                   |   1038                    |  757                      | HUMALOG      INJ 100/ML   |  NA                       |  1                        | 60                        | NA                        | NA                        | NA                        | NA                        | NA                        | NA                        | NA                        | NA                        | \n",
       "\n",
       "\n"
      ],
      "text/plain": [
       "  NDC_CODE STUDYID DAYS_MED_INDEX DRUG_NAME                 STRENGTH\n",
       "1 2751001  131681  2059           HUMALOG                    NA     \n",
       "2 2751001  131681  2920           HUMALOG                    NA     \n",
       "3 2751001  395666  1020           HUMALOG                    NA     \n",
       "4 2751001     686  4647           HUMALOG 100 UNITS/ML VIAL 100     \n",
       "5 2751001  513260  2728           HUMALOG 100 UNITS/ML VIAL 100     \n",
       "6 2751001    1038   757           HUMALOG      INJ 100/ML    NA     \n",
       "  DISPENSE_AMOUNT NUMBER_OF_DAYS_SUPPLY drug rxncui concept_name cscode\n",
       "1 20              30                    NA   NA     NA           NA    \n",
       "2 20              30                    NA   NA     NA           NA    \n",
       "3 NA              30                    NA   NA     NA           NA    \n",
       "4 10              30                    NA   NA     NA           NA    \n",
       "5 90              90                    NA   NA     NA           NA    \n",
       "6  1              60                    NA   NA     NA           NA    \n",
       "  drug_class sgthr sgphr sgchem\n",
       "1 NA         NA    NA    NA    \n",
       "2 NA         NA    NA    NA    \n",
       "3 NA         NA    NA    NA    \n",
       "4 NA         NA    NA    NA    \n",
       "5 NA         NA    NA    NA    \n",
       "6 NA         NA    NA    NA    "
      ]
     },
     "metadata": {},
     "output_type": "display_data"
    },
    {
     "name": "stdout",
     "output_type": "stream",
     "text": [
      "Dimensions (rows columns/variables): 709744 15"
     ]
    },
    {
     "data": {
      "text/plain": [
       "    NDC_CODE            STUDYID        DAYS_MED_INDEX \n",
       " Min.   :2.751e+06   Min.   :    103   Min.   :-4834  \n",
       " 1st Qu.:9.310e+07   1st Qu.: 261123   1st Qu.:  329  \n",
       " Median :5.911e+08   Median : 513041   Median :  971  \n",
       " Mean   :2.621e+10   Mean   : 549969   Mean   : 1302  \n",
       " 3rd Qu.:6.276e+10   3rd Qu.: 830052   3rd Qu.: 1970  \n",
       " Max.   :6.865e+10   Max.   :1256011   Max.   : 7264  \n",
       "                                                      \n",
       "                       DRUG_NAME         STRENGTH      DISPENSE_AMOUNT  \n",
       " METFORMIN HCL              : 99710   Min.   :   0.0   Min.   :-473.00  \n",
       " METFORMIN HCL 500 MG TABLET: 35672   1st Qu.:  10.0   1st Qu.:  30.00  \n",
       " METFORMIN HCL ER           : 34704   Median : 100.0   Median :  60.00  \n",
       " ACTOS                      : 26168   Mean   : 307.8   Mean   :  69.85  \n",
       " GLIMEPIRIDE                : 24595   3rd Qu.: 500.0   3rd Qu.:  90.00  \n",
       " METFORMIN    TAB 500MG     : 23854   Max.   :2700.0   Max.   :6000.00  \n",
       " (Other)                    :465041   NA's   :495414   NA's   :246682   \n",
       " NUMBER_OF_DAYS_SUPPLY     drug               rxncui        concept_name      \n",
       " Min.   :-100.00       Length:709744      Min.   :   1760   Length:709744     \n",
       " 1st Qu.:  30.00       Class :character   1st Qu.:   6809   Class :character  \n",
       " Median :  30.00       Mode  :character   Median :   6809   Mode  :character  \n",
       " Mean   :  44.06                          Mean   :  25472                     \n",
       " 3rd Qu.:  60.00                          3rd Qu.:  25789                     \n",
       " Max.   : 660.00                          Max.   :1373458                     \n",
       " NA's   :27049                            NA's   :405949                      \n",
       "    cscode           drug_class           sgthr              sgphr          \n",
       " Length:709744      Length:709744      Length:709744      Length:709744     \n",
       " Class :character   Class :character   Class :character   Class :character  \n",
       " Mode  :character   Mode  :character   Mode  :character   Mode  :character  \n",
       "                                                                            \n",
       "                                                                            \n",
       "                                                                            \n",
       "                                                                            \n",
       "    sgchem         \n",
       " Length:709744     \n",
       " Class :character  \n",
       " Mode  :character  \n",
       "                   \n",
       "                   \n",
       "                   \n",
       "                   "
      ]
     },
     "metadata": {},
     "output_type": "display_data"
    }
   ],
   "source": [
    "medication_unindc <- merge(x=medication, y=unindc, by= \"NDC_CODE\", all.x= TRUE)\n",
    "head(medication_unindc)\n",
    "cat(\"Dimensions (rows columns/variables):\",dim(medication_unindc))\n",
    "summary(medication_unindc)"
   ]
  },
  {
   "cell_type": "markdown",
   "metadata": {
    "nbpresent": {
     "id": "54f14b46-47fc-4eed-8b5a-9656e9657c5e"
    }
   },
   "source": [
    "### Match statistics"
   ]
  },
  {
   "cell_type": "code",
   "execution_count": 6,
   "metadata": {
    "collapsed": false,
    "nbpresent": {
     "id": "8fde8c0e-5268-44ed-ba6a-0ece2c96edfb"
    },
    "scrolled": true
   },
   "outputs": [
    {
     "name": "stdout",
     "output_type": "stream",
     "text": [
      "Drugs that could not be matched: 405949\n",
      "Total number of unique drugs matched: 87"
     ]
    },
    {
     "data": {
      "text/html": [
       "<table>\n",
       "<thead><tr><th scope=col>Var1</th><th scope=col>Freq</th></tr></thead>\n",
       "<tbody>\n",
       "\t<tr><td>Beta Blocking Agents                     </td><td>    64                                   </td></tr>\n",
       "\t<tr><td>Blood Substitutes And Perfusion Solutions</td><td>     8                                   </td></tr>\n",
       "\t<tr><td>Drugs Used In Diabetes                   </td><td>303456                                   </td></tr>\n",
       "\t<tr><td>Other Gynecologicals                     </td><td>   162                                   </td></tr>\n",
       "\t<tr><td>Pancreatic Hormones                      </td><td>   105                                   </td></tr>\n",
       "</tbody>\n",
       "</table>\n"
      ],
      "text/latex": [
       "\\begin{tabular}{r|ll}\n",
       " Var1 & Freq\\\\\n",
       "\\hline\n",
       "\t Beta Blocking Agents                      &     64                                   \\\\\n",
       "\t Blood Substitutes And Perfusion Solutions &      8                                   \\\\\n",
       "\t Drugs Used In Diabetes                    & 303456                                   \\\\\n",
       "\t Other Gynecologicals                      &    162                                   \\\\\n",
       "\t Pancreatic Hormones                       &    105                                   \\\\\n",
       "\\end{tabular}\n"
      ],
      "text/markdown": [
       "\n",
       "Var1 | Freq | \n",
       "|---|---|---|---|---|\n",
       "| Beta Blocking Agents                      |     64                                    | \n",
       "| Blood Substitutes And Perfusion Solutions |      8                                    | \n",
       "| Drugs Used In Diabetes                    | 303456                                    | \n",
       "| Other Gynecologicals                      |    162                                    | \n",
       "| Pancreatic Hormones                       |    105                                    | \n",
       "\n",
       "\n"
      ],
      "text/plain": [
       "  Var1                                      Freq  \n",
       "1 Beta Blocking Agents                          64\n",
       "2 Blood Substitutes And Perfusion Solutions      8\n",
       "3 Drugs Used In Diabetes                    303456\n",
       "4 Other Gynecologicals                         162\n",
       "5 Pancreatic Hormones                          105"
      ]
     },
     "metadata": {},
     "output_type": "display_data"
    }
   ],
   "source": [
    "cat(\"Drugs that could not be matched:\", sum(is.na(medication_unindc$drug)))  #this shows non-matching count  \n",
    "cat(\"\\nTotal number of unique drugs matched:\",length(unique(medication_unindc$drug))) # number of unique drugs matched \n",
    "as.data.frame(table(medication_unindc$sgthr)) #The list of the drugs"
   ]
  },
  {
   "cell_type": "markdown",
   "metadata": {
    "collapsed": false,
    "nbpresent": {
     "id": "7def6b59-b6f1-43fe-8cbf-66126a3aabfb"
    }
   },
   "source": [
    "As mentioned above, only 87 unique drugs were matched resulting in a total of 405,949 drugs being <b>not</b> matched to a corresponding drug in the crosswalk. Why does this happen?\n",
    "\n",
    "The ndc is a 11-digit code, i.e. it consists solely of numbers. If we examine the medications file we find that the ndc code is a string variable with leading zeroes in some codes. When we read the medications file, R tries to automatically assign variable types based on the contents of each column. Given that ndc codes are all numbers, R designates the ndc code in the medication dataset as a numeric variable dropping the leading zeros. \n",
    "\n",
    "Why does the crosswalk file not experience the same error?\n",
    "The crosswalk file was a Stata file and includes class settings in the meta data. When the haven library imports this file, this allows R to preserve the class settings for all variables. "
   ]
  },
  {
   "cell_type": "code",
   "execution_count": 7,
   "metadata": {
    "collapsed": false,
    "nbpresent": {
     "id": "6e9ec0a2-3fe9-4275-a1e9-e1a131b1e650"
    },
    "scrolled": true
   },
   "outputs": [
    {
     "name": "stdout",
     "output_type": "stream",
     "text": [
      "NDC class in crosswalk dataset: character\n",
      "NDC class in medications dataset: numeric"
     ]
    }
   ],
   "source": [
    "cat(\"NDC class in crosswalk dataset:\",class(unindc$NDC_CODE))\n",
    "cat(\"\\nNDC class in medications dataset:\", class(medication$NDC_CODE))"
   ]
  },
  {
   "cell_type": "markdown",
   "metadata": {
    "nbpresent": {
     "id": "5cbdffe9-6051-4c17-b5c1-6a623a89a785"
    }
   },
   "source": [
    "To fix the error above, we force R to read the medication file while preserving the drug codes as a string or character variable."
   ]
  },
  {
   "cell_type": "code",
   "execution_count": 8,
   "metadata": {
    "collapsed": false,
    "nbpresent": {
     "id": "377cfffd-bc39-485e-ac21-a650b5c86956"
    }
   },
   "outputs": [
    {
     "data": {
      "text/plain": [
       "   STUDYID          DAYS_MED_INDEX   DRUG_NAME           NDC_CODE        \n",
       " Length:709744      Min.   :-4834   Length:709744      Length:709744     \n",
       " Class :character   1st Qu.:  329   Class :character   Class :character  \n",
       " Mode  :character   Median :  971   Mode  :character   Mode  :character  \n",
       "                    Mean   : 1302                                        \n",
       "                    3rd Qu.: 1970                                        \n",
       "                    Max.   : 7264                                        \n",
       "                                                                         \n",
       "    STRENGTH      DISPENSE_AMOUNT   NUMBER_OF_DAYS_SUPPLY\n",
       " Min.   :   0.0   Min.   :-473.00   Min.   :-100.00      \n",
       " 1st Qu.:  10.0   1st Qu.:  30.00   1st Qu.:  30.00      \n",
       " Median : 100.0   Median :  60.00   Median :  30.00      \n",
       " Mean   : 307.8   Mean   :  69.85   Mean   :  44.06      \n",
       " 3rd Qu.: 500.0   3rd Qu.:  90.00   3rd Qu.:  60.00      \n",
       " Max.   :2700.0   Max.   :6000.00   Max.   : 660.00      \n",
       " NA's   :495414   NA's   :246682    NA's   :27049        "
      ]
     },
     "metadata": {},
     "output_type": "display_data"
    },
    {
     "data": {
      "text/html": [
       "<table>\n",
       "<thead><tr><th scope=col>STUDYID</th><th scope=col>DAYS_MED_INDEX</th><th scope=col>DRUG_NAME</th><th scope=col>NDC_CODE</th><th scope=col>STRENGTH</th><th scope=col>DISPENSE_AMOUNT</th><th scope=col>NUMBER_OF_DAYS_SUPPLY</th></tr></thead>\n",
       "<tbody>\n",
       "\t<tr><td>103                   </td><td>2757                  </td><td>GLIPIZIDE 5 MG TABLET </td><td>51079081020           </td><td>NA                    </td><td> 60                   </td><td> 30                   </td></tr>\n",
       "\t<tr><td>239                   </td><td>6871                  </td><td>NOVOLIN N             </td><td>00169183411           </td><td>NA                    </td><td>-50                   </td><td>-55                   </td></tr>\n",
       "\t<tr><td>239                   </td><td> 811                  </td><td>HUMULIN N             </td><td>00002831501           </td><td>NA                    </td><td> NA                   </td><td> NA                   </td></tr>\n",
       "\t<tr><td>239                   </td><td>3751                  </td><td>HUMULIN N    INJ U-100</td><td>00002831501           </td><td>NA                    </td><td>  1                   </td><td> 60                   </td></tr>\n",
       "\t<tr><td>239                   </td><td>3819                  </td><td>HUMULIN R    INJ U-100</td><td>00002821501           </td><td>NA                    </td><td>  1                   </td><td> 60                   </td></tr>\n",
       "\t<tr><td>239                   </td><td>1128                  </td><td>HUMULIN N             </td><td>00002831501           </td><td>NA                    </td><td>  1                   </td><td> NA                   </td></tr>\n",
       "\t<tr><td>239                   </td><td>1219                  </td><td>HUMULIN N             </td><td>00002831501           </td><td>NA                    </td><td>  1                   </td><td> NA                   </td></tr>\n",
       "\t<tr><td>239                   </td><td>2076                  </td><td>HUMULIN N    INJ U-100</td><td>00002831501           </td><td>NA                    </td><td>  1                   </td><td> NA                   </td></tr>\n",
       "\t<tr><td>239                   </td><td>3819                  </td><td>HUMULIN N    INJ U-100</td><td>00002831501           </td><td>NA                    </td><td>  1                   </td><td> 60                   </td></tr>\n",
       "\t<tr><td>239                   </td><td> 811                  </td><td>HUMULIN N             </td><td>00002831501           </td><td>NA                    </td><td> -1                   </td><td> NA                   </td></tr>\n",
       "</tbody>\n",
       "</table>\n"
      ],
      "text/latex": [
       "\\begin{tabular}{r|lllllll}\n",
       " STUDYID & DAYS\\_MED\\_INDEX & DRUG\\_NAME & NDC\\_CODE & STRENGTH & DISPENSE\\_AMOUNT & NUMBER\\_OF\\_DAYS\\_SUPPLY\\\\\n",
       "\\hline\n",
       "\t 103                    & 2757                   & GLIPIZIDE 5 MG TABLET  & 51079081020            & NA                     &  60                    &  30                   \\\\\n",
       "\t 239                    & 6871                   & NOVOLIN N              & 00169183411            & NA                     & -50                    & -55                   \\\\\n",
       "\t 239                    &  811                   & HUMULIN N              & 00002831501            & NA                     &  NA                    &  NA                   \\\\\n",
       "\t 239                    & 3751                   & HUMULIN N    INJ U-100 & 00002831501            & NA                     &   1                    &  60                   \\\\\n",
       "\t 239                    & 3819                   & HUMULIN R    INJ U-100 & 00002821501            & NA                     &   1                    &  60                   \\\\\n",
       "\t 239                    & 1128                   & HUMULIN N              & 00002831501            & NA                     &   1                    &  NA                   \\\\\n",
       "\t 239                    & 1219                   & HUMULIN N              & 00002831501            & NA                     &   1                    &  NA                   \\\\\n",
       "\t 239                    & 2076                   & HUMULIN N    INJ U-100 & 00002831501            & NA                     &   1                    &  NA                   \\\\\n",
       "\t 239                    & 3819                   & HUMULIN N    INJ U-100 & 00002831501            & NA                     &   1                    &  60                   \\\\\n",
       "\t 239                    &  811                   & HUMULIN N              & 00002831501            & NA                     &  -1                    &  NA                   \\\\\n",
       "\\end{tabular}\n"
      ],
      "text/markdown": [
       "\n",
       "STUDYID | DAYS_MED_INDEX | DRUG_NAME | NDC_CODE | STRENGTH | DISPENSE_AMOUNT | NUMBER_OF_DAYS_SUPPLY | \n",
       "|---|---|---|---|---|---|---|---|---|---|\n",
       "| 103                    | 2757                   | GLIPIZIDE 5 MG TABLET  | 51079081020            | NA                     |  60                    |  30                    | \n",
       "| 239                    | 6871                   | NOVOLIN N              | 00169183411            | NA                     | -50                    | -55                    | \n",
       "| 239                    |  811                   | HUMULIN N              | 00002831501            | NA                     |  NA                    |  NA                    | \n",
       "| 239                    | 3751                   | HUMULIN N    INJ U-100 | 00002831501            | NA                     |   1                    |  60                    | \n",
       "| 239                    | 3819                   | HUMULIN R    INJ U-100 | 00002821501            | NA                     |   1                    |  60                    | \n",
       "| 239                    | 1128                   | HUMULIN N              | 00002831501            | NA                     |   1                    |  NA                    | \n",
       "| 239                    | 1219                   | HUMULIN N              | 00002831501            | NA                     |   1                    |  NA                    | \n",
       "| 239                    | 2076                   | HUMULIN N    INJ U-100 | 00002831501            | NA                     |   1                    |  NA                    | \n",
       "| 239                    | 3819                   | HUMULIN N    INJ U-100 | 00002831501            | NA                     |   1                    |  60                    | \n",
       "| 239                    |  811                   | HUMULIN N              | 00002831501            | NA                     |  -1                    |  NA                    | \n",
       "\n",
       "\n"
      ],
      "text/plain": [
       "   STUDYID DAYS_MED_INDEX DRUG_NAME              NDC_CODE    STRENGTH\n",
       "1  103     2757           GLIPIZIDE 5 MG TABLET  51079081020 NA      \n",
       "2  239     6871           NOVOLIN N              00169183411 NA      \n",
       "3  239      811           HUMULIN N              00002831501 NA      \n",
       "4  239     3751           HUMULIN N    INJ U-100 00002831501 NA      \n",
       "5  239     3819           HUMULIN R    INJ U-100 00002821501 NA      \n",
       "6  239     1128           HUMULIN N              00002831501 NA      \n",
       "7  239     1219           HUMULIN N              00002831501 NA      \n",
       "8  239     2076           HUMULIN N    INJ U-100 00002831501 NA      \n",
       "9  239     3819           HUMULIN N    INJ U-100 00002831501 NA      \n",
       "10 239      811           HUMULIN N              00002831501 NA      \n",
       "   DISPENSE_AMOUNT NUMBER_OF_DAYS_SUPPLY\n",
       "1   60              30                  \n",
       "2  -50             -55                  \n",
       "3   NA              NA                  \n",
       "4    1              60                  \n",
       "5    1              60                  \n",
       "6    1              NA                  \n",
       "7    1              NA                  \n",
       "8    1              NA                  \n",
       "9    1              60                  \n",
       "10  -1              NA                  "
      ]
     },
     "metadata": {},
     "output_type": "display_data"
    }
   ],
   "source": [
    "medication <- read.csv(\"medication.csv\", header= TRUE, \n",
    "                      colClasses=c(\"character\", \"numeric\", \"character\", \"character\", rep(\"numeric\",3)) )\n",
    "summary(medication)\n",
    "head(medication, n= 10)"
   ]
  },
  {
   "cell_type": "markdown",
   "metadata": {
    "nbpresent": {
     "id": "c2841012-d43f-4a2c-a588-a20f4aff82f9"
    }
   },
   "source": [
    "Now that we fixed the NDC code and confirm that leading zeros are preserved we proceed with the merge as before."
   ]
  },
  {
   "cell_type": "code",
   "execution_count": 9,
   "metadata": {
    "collapsed": false,
    "nbpresent": {
     "id": "8729966d-de50-40c2-be1b-51cb6f26281d"
    }
   },
   "outputs": [
    {
     "data": {
      "text/html": [
       "<table>\n",
       "<thead><tr><th scope=col>NDC_CODE</th><th scope=col>STUDYID</th><th scope=col>DAYS_MED_INDEX</th><th scope=col>DRUG_NAME</th><th scope=col>STRENGTH</th><th scope=col>DISPENSE_AMOUNT</th><th scope=col>NUMBER_OF_DAYS_SUPPLY</th><th scope=col>drug</th><th scope=col>rxncui</th><th scope=col>concept_name</th><th scope=col>cscode</th><th scope=col>drug_class</th><th scope=col>sgthr</th><th scope=col>sgphr</th><th scope=col>sgchem</th></tr></thead>\n",
       "<tbody>\n",
       "\t<tr><td>00002751001                                            </td><td>700552                                                 </td><td>  80                                                   </td><td>HUMALOG 100 UNITS/ML VIAL                              </td><td> NA                                                    </td><td>-10                                                    </td><td>-10                                                    </td><td>Insulin Lispro 100 Unt/Ml Injectable Solution [Humalog]</td><td>86009                                                  </td><td>Insulin, Lispro, Human                                 </td><td>A10AB04                                                </td><td>Insulin Lispro                                         </td><td>Drugs Used In Diabetes                                 </td><td>Insulins And Analogues                                 </td><td>Insulins And Analogues For Injection, Fast-Acting      </td></tr>\n",
       "\t<tr><td>00002751001                                            </td><td>695895                                                 </td><td> -54                                                   </td><td>HUMALOG 100 UNITS/ML VIAL                              </td><td> NA                                                    </td><td> 10                                                    </td><td> 10                                                    </td><td>Insulin Lispro 100 Unt/Ml Injectable Solution [Humalog]</td><td>86009                                                  </td><td>Insulin, Lispro, Human                                 </td><td>A10AB04                                                </td><td>Insulin Lispro                                         </td><td>Drugs Used In Diabetes                                 </td><td>Insulins And Analogues                                 </td><td>Insulins And Analogues For Injection, Fast-Acting      </td></tr>\n",
       "\t<tr><td>00002751001                                            </td><td>248910                                                 </td><td>3447                                                   </td><td>HUMALOG                                                </td><td>100                                                    </td><td>  3                                                    </td><td> 90                                                    </td><td>Insulin Lispro 100 Unt/Ml Injectable Solution [Humalog]</td><td>86009                                                  </td><td>Insulin, Lispro, Human                                 </td><td>A10AB04                                                </td><td>Insulin Lispro                                         </td><td>Drugs Used In Diabetes                                 </td><td>Insulins And Analogues                                 </td><td>Insulins And Analogues For Injection, Fast-Acting      </td></tr>\n",
       "\t<tr><td>00002751001                                            </td><td>465949                                                 </td><td>3490                                                   </td><td>HUMALOG      INJ 100/MLHUMALOG                         </td><td> NA                                                    </td><td> 10                                                    </td><td> 30                                                    </td><td>Insulin Lispro 100 Unt/Ml Injectable Solution [Humalog]</td><td>86009                                                  </td><td>Insulin, Lispro, Human                                 </td><td>A10AB04                                                </td><td>Insulin Lispro                                         </td><td>Drugs Used In Diabetes                                 </td><td>Insulins And Analogues                                 </td><td>Insulins And Analogues For Injection, Fast-Acting      </td></tr>\n",
       "\t<tr><td>00002751001                                            </td><td>460314                                                 </td><td>2048                                                   </td><td>HUMALOG 100 UNITS/ML VIAL                              </td><td> NA                                                    </td><td> 30                                                    </td><td> 30                                                    </td><td>Insulin Lispro 100 Unt/Ml Injectable Solution [Humalog]</td><td>86009                                                  </td><td>Insulin, Lispro, Human                                 </td><td>A10AB04                                                </td><td>Insulin Lispro                                         </td><td>Drugs Used In Diabetes                                 </td><td>Insulins And Analogues                                 </td><td>Insulins And Analogues For Injection, Fast-Acting      </td></tr>\n",
       "\t<tr><td>00002751001                                            </td><td>141427                                                 </td><td> 257                                                   </td><td>HUMALOG      INJ 100/ML                                </td><td> NA                                                    </td><td>  1                                                    </td><td> 30                                                    </td><td>Insulin Lispro 100 Unt/Ml Injectable Solution [Humalog]</td><td>86009                                                  </td><td>Insulin, Lispro, Human                                 </td><td>A10AB04                                                </td><td>Insulin Lispro                                         </td><td>Drugs Used In Diabetes                                 </td><td>Insulins And Analogues                                 </td><td>Insulins And Analogues For Injection, Fast-Acting      </td></tr>\n",
       "</tbody>\n",
       "</table>\n"
      ],
      "text/latex": [
       "\\begin{tabular}{r|lllllllllllllll}\n",
       " NDC\\_CODE & STUDYID & DAYS\\_MED\\_INDEX & DRUG\\_NAME & STRENGTH & DISPENSE\\_AMOUNT & NUMBER\\_OF\\_DAYS\\_SUPPLY & drug & rxncui & concept\\_name & cscode & drug\\_class & sgthr & sgphr & sgchem\\\\\n",
       "\\hline\n",
       "\t 00002751001                                                 & 700552                                                      &   80                                                        & HUMALOG 100 UNITS/ML VIAL                                   &  NA                                                         & -10                                                         & -10                                                         & Insulin Lispro 100 Unt/Ml Injectable Solution {[}Humalog{]} & 86009                                                       & Insulin, Lispro, Human                                      & A10AB04                                                     & Insulin Lispro                                              & Drugs Used In Diabetes                                      & Insulins And Analogues                                      & Insulins And Analogues For Injection, Fast-Acting          \\\\\n",
       "\t 00002751001                                                 & 695895                                                      &  -54                                                        & HUMALOG 100 UNITS/ML VIAL                                   &  NA                                                         &  10                                                         &  10                                                         & Insulin Lispro 100 Unt/Ml Injectable Solution {[}Humalog{]} & 86009                                                       & Insulin, Lispro, Human                                      & A10AB04                                                     & Insulin Lispro                                              & Drugs Used In Diabetes                                      & Insulins And Analogues                                      & Insulins And Analogues For Injection, Fast-Acting          \\\\\n",
       "\t 00002751001                                                 & 248910                                                      & 3447                                                        & HUMALOG                                                     & 100                                                         &   3                                                         &  90                                                         & Insulin Lispro 100 Unt/Ml Injectable Solution {[}Humalog{]} & 86009                                                       & Insulin, Lispro, Human                                      & A10AB04                                                     & Insulin Lispro                                              & Drugs Used In Diabetes                                      & Insulins And Analogues                                      & Insulins And Analogues For Injection, Fast-Acting          \\\\\n",
       "\t 00002751001                                                 & 465949                                                      & 3490                                                        & HUMALOG      INJ 100/MLHUMALOG                              &  NA                                                         &  10                                                         &  30                                                         & Insulin Lispro 100 Unt/Ml Injectable Solution {[}Humalog{]} & 86009                                                       & Insulin, Lispro, Human                                      & A10AB04                                                     & Insulin Lispro                                              & Drugs Used In Diabetes                                      & Insulins And Analogues                                      & Insulins And Analogues For Injection, Fast-Acting          \\\\\n",
       "\t 00002751001                                                 & 460314                                                      & 2048                                                        & HUMALOG 100 UNITS/ML VIAL                                   &  NA                                                         &  30                                                         &  30                                                         & Insulin Lispro 100 Unt/Ml Injectable Solution {[}Humalog{]} & 86009                                                       & Insulin, Lispro, Human                                      & A10AB04                                                     & Insulin Lispro                                              & Drugs Used In Diabetes                                      & Insulins And Analogues                                      & Insulins And Analogues For Injection, Fast-Acting          \\\\\n",
       "\t 00002751001                                                 & 141427                                                      &  257                                                        & HUMALOG      INJ 100/ML                                     &  NA                                                         &   1                                                         &  30                                                         & Insulin Lispro 100 Unt/Ml Injectable Solution {[}Humalog{]} & 86009                                                       & Insulin, Lispro, Human                                      & A10AB04                                                     & Insulin Lispro                                              & Drugs Used In Diabetes                                      & Insulins And Analogues                                      & Insulins And Analogues For Injection, Fast-Acting          \\\\\n",
       "\\end{tabular}\n"
      ],
      "text/markdown": [
       "\n",
       "NDC_CODE | STUDYID | DAYS_MED_INDEX | DRUG_NAME | STRENGTH | DISPENSE_AMOUNT | NUMBER_OF_DAYS_SUPPLY | drug | rxncui | concept_name | cscode | drug_class | sgthr | sgphr | sgchem | \n",
       "|---|---|---|---|---|---|\n",
       "| 00002751001                                             | 700552                                                  |   80                                                    | HUMALOG 100 UNITS/ML VIAL                               |  NA                                                     | -10                                                     | -10                                                     | Insulin Lispro 100 Unt/Ml Injectable Solution [Humalog] | 86009                                                   | Insulin, Lispro, Human                                  | A10AB04                                                 | Insulin Lispro                                          | Drugs Used In Diabetes                                  | Insulins And Analogues                                  | Insulins And Analogues For Injection, Fast-Acting       | \n",
       "| 00002751001                                             | 695895                                                  |  -54                                                    | HUMALOG 100 UNITS/ML VIAL                               |  NA                                                     |  10                                                     |  10                                                     | Insulin Lispro 100 Unt/Ml Injectable Solution [Humalog] | 86009                                                   | Insulin, Lispro, Human                                  | A10AB04                                                 | Insulin Lispro                                          | Drugs Used In Diabetes                                  | Insulins And Analogues                                  | Insulins And Analogues For Injection, Fast-Acting       | \n",
       "| 00002751001                                             | 248910                                                  | 3447                                                    | HUMALOG                                                 | 100                                                     |   3                                                     |  90                                                     | Insulin Lispro 100 Unt/Ml Injectable Solution [Humalog] | 86009                                                   | Insulin, Lispro, Human                                  | A10AB04                                                 | Insulin Lispro                                          | Drugs Used In Diabetes                                  | Insulins And Analogues                                  | Insulins And Analogues For Injection, Fast-Acting       | \n",
       "| 00002751001                                             | 465949                                                  | 3490                                                    | HUMALOG      INJ 100/MLHUMALOG                          |  NA                                                     |  10                                                     |  30                                                     | Insulin Lispro 100 Unt/Ml Injectable Solution [Humalog] | 86009                                                   | Insulin, Lispro, Human                                  | A10AB04                                                 | Insulin Lispro                                          | Drugs Used In Diabetes                                  | Insulins And Analogues                                  | Insulins And Analogues For Injection, Fast-Acting       | \n",
       "| 00002751001                                             | 460314                                                  | 2048                                                    | HUMALOG 100 UNITS/ML VIAL                               |  NA                                                     |  30                                                     |  30                                                     | Insulin Lispro 100 Unt/Ml Injectable Solution [Humalog] | 86009                                                   | Insulin, Lispro, Human                                  | A10AB04                                                 | Insulin Lispro                                          | Drugs Used In Diabetes                                  | Insulins And Analogues                                  | Insulins And Analogues For Injection, Fast-Acting       | \n",
       "| 00002751001                                             | 141427                                                  |  257                                                    | HUMALOG      INJ 100/ML                                 |  NA                                                     |   1                                                     |  30                                                     | Insulin Lispro 100 Unt/Ml Injectable Solution [Humalog] | 86009                                                   | Insulin, Lispro, Human                                  | A10AB04                                                 | Insulin Lispro                                          | Drugs Used In Diabetes                                  | Insulins And Analogues                                  | Insulins And Analogues For Injection, Fast-Acting       | \n",
       "\n",
       "\n"
      ],
      "text/plain": [
       "  NDC_CODE    STUDYID DAYS_MED_INDEX DRUG_NAME                      STRENGTH\n",
       "1 00002751001 700552    80           HUMALOG 100 UNITS/ML VIAL       NA     \n",
       "2 00002751001 695895   -54           HUMALOG 100 UNITS/ML VIAL       NA     \n",
       "3 00002751001 248910  3447           HUMALOG                        100     \n",
       "4 00002751001 465949  3490           HUMALOG      INJ 100/MLHUMALOG  NA     \n",
       "5 00002751001 460314  2048           HUMALOG 100 UNITS/ML VIAL       NA     \n",
       "6 00002751001 141427   257           HUMALOG      INJ 100/ML         NA     \n",
       "  DISPENSE_AMOUNT NUMBER_OF_DAYS_SUPPLY\n",
       "1 -10             -10                  \n",
       "2  10              10                  \n",
       "3   3              90                  \n",
       "4  10              30                  \n",
       "5  30              30                  \n",
       "6   1              30                  \n",
       "  drug                                                    rxncui\n",
       "1 Insulin Lispro 100 Unt/Ml Injectable Solution [Humalog] 86009 \n",
       "2 Insulin Lispro 100 Unt/Ml Injectable Solution [Humalog] 86009 \n",
       "3 Insulin Lispro 100 Unt/Ml Injectable Solution [Humalog] 86009 \n",
       "4 Insulin Lispro 100 Unt/Ml Injectable Solution [Humalog] 86009 \n",
       "5 Insulin Lispro 100 Unt/Ml Injectable Solution [Humalog] 86009 \n",
       "6 Insulin Lispro 100 Unt/Ml Injectable Solution [Humalog] 86009 \n",
       "  concept_name           cscode  drug_class     sgthr                 \n",
       "1 Insulin, Lispro, Human A10AB04 Insulin Lispro Drugs Used In Diabetes\n",
       "2 Insulin, Lispro, Human A10AB04 Insulin Lispro Drugs Used In Diabetes\n",
       "3 Insulin, Lispro, Human A10AB04 Insulin Lispro Drugs Used In Diabetes\n",
       "4 Insulin, Lispro, Human A10AB04 Insulin Lispro Drugs Used In Diabetes\n",
       "5 Insulin, Lispro, Human A10AB04 Insulin Lispro Drugs Used In Diabetes\n",
       "6 Insulin, Lispro, Human A10AB04 Insulin Lispro Drugs Used In Diabetes\n",
       "  sgphr                  sgchem                                           \n",
       "1 Insulins And Analogues Insulins And Analogues For Injection, Fast-Acting\n",
       "2 Insulins And Analogues Insulins And Analogues For Injection, Fast-Acting\n",
       "3 Insulins And Analogues Insulins And Analogues For Injection, Fast-Acting\n",
       "4 Insulins And Analogues Insulins And Analogues For Injection, Fast-Acting\n",
       "5 Insulins And Analogues Insulins And Analogues For Injection, Fast-Acting\n",
       "6 Insulins And Analogues Insulins And Analogues For Injection, Fast-Acting"
      ]
     },
     "metadata": {},
     "output_type": "display_data"
    },
    {
     "data": {
      "text/plain": [
       "   NDC_CODE           STUDYID          DAYS_MED_INDEX   DRUG_NAME        \n",
       " Length:709744      Length:709744      Min.   :-4834   Length:709744     \n",
       " Class :character   Class :character   1st Qu.:  329   Class :character  \n",
       " Mode  :character   Mode  :character   Median :  971   Mode  :character  \n",
       "                                       Mean   : 1302                     \n",
       "                                       3rd Qu.: 1970                     \n",
       "                                       Max.   : 7264                     \n",
       "                                                                         \n",
       "    STRENGTH      DISPENSE_AMOUNT   NUMBER_OF_DAYS_SUPPLY     drug          \n",
       " Min.   :   0.0   Min.   :-473.00   Min.   :-100.00       Length:709744     \n",
       " 1st Qu.:  10.0   1st Qu.:  30.00   1st Qu.:  30.00       Class :character  \n",
       " Median : 100.0   Median :  60.00   Median :  30.00       Mode  :character  \n",
       " Mean   : 307.8   Mean   :  69.85   Mean   :  44.06                         \n",
       " 3rd Qu.: 500.0   3rd Qu.:  90.00   3rd Qu.:  60.00                         \n",
       " Max.   :2700.0   Max.   :6000.00   Max.   : 660.00                         \n",
       " NA's   :495414   NA's   :246682    NA's   :27049                           \n",
       "     rxncui        concept_name          cscode           drug_class       \n",
       " Min.   :   1760   Length:709744      Length:709744      Length:709744     \n",
       " 1st Qu.:   6809   Class :character   Class :character   Class :character  \n",
       " Median :   6809   Mode  :character   Mode  :character   Mode  :character  \n",
       " Mean   :  93611                                                           \n",
       " 3rd Qu.:  51428                                                           \n",
       " Max.   :1373458                                                           \n",
       " NA's   :12                                                                \n",
       "    sgthr              sgphr              sgchem         \n",
       " Length:709744      Length:709744      Length:709744     \n",
       " Class :character   Class :character   Class :character  \n",
       " Mode  :character   Mode  :character   Mode  :character  \n",
       "                                                         \n",
       "                                                         \n",
       "                                                         \n",
       "                                                         "
      ]
     },
     "metadata": {},
     "output_type": "display_data"
    }
   ],
   "source": [
    " \n",
    "medication_unindc <- merge(x= medication, y= unindc, by= \"NDC_CODE\", all.x= TRUE)\n",
    "head(medication_unindc)\n",
    "summary(medication_unindc)\n"
   ]
  },
  {
   "cell_type": "code",
   "execution_count": 10,
   "metadata": {
    "collapsed": false,
    "nbpresent": {
     "id": "db8dda78-26ca-4c03-94ca-7fd71fa74d11"
    },
    "scrolled": true
   },
   "outputs": [
    {
     "name": "stdout",
     "output_type": "stream",
     "text": [
      "Drugs that could not be matched: 12\n",
      "Total number of unique drugs matched: 215"
     ]
    }
   ],
   "source": [
    "# Drugs field that did not match (NA count) is 12 now (successfull matches are 720,889)\n",
    "cat(\"Drugs that could not be matched:\", sum(is.na(medication_unindc$drug)))  #this shows non-matching count  \n",
    "cat(\"\\nTotal number of unique drugs matched:\",length(unique(medication_unindc$drug))) # number of unique drugs matched "
   ]
  },
  {
   "cell_type": "markdown",
   "metadata": {
    "nbpresent": {
     "id": "3b9bff7c-a005-4e99-bd77-aa8706fe25f8"
    }
   },
   "source": [
    "After fixing the error, only 12 drugs are not matched compared to over 400,000 before. Also, compared to 87 unique drugs that were matched now we have 215 unique drugs that were matched."
   ]
  },
  {
   "cell_type": "markdown",
   "metadata": {},
   "source": [
    "### Let's take a look at the diabetes drugs prescribed"
   ]
  },
  {
   "cell_type": "code",
   "execution_count": 11,
   "metadata": {
    "collapsed": false,
    "nbpresent": {
     "id": "dca09906-b9f6-482e-9ab0-39d9a0707141"
    }
   },
   "outputs": [
    {
     "data": {
      "text/html": [
       "<table>\n",
       "<thead><tr><th scope=col>Var1</th><th scope=col>Freq</th></tr></thead>\n",
       "<tbody>\n",
       "\t<tr><td>Antihypertensives                        </td><td>    10                                   </td></tr>\n",
       "\t<tr><td>Beta Blocking Agents                     </td><td>    64                                   </td></tr>\n",
       "\t<tr><td>Blood Substitutes And Perfusion Solutions</td><td>   151                                   </td></tr>\n",
       "\t<tr><td>Drugs Used In Diabetes                   </td><td>708757                                   </td></tr>\n",
       "\t<tr><td>Lipid Modifying Agents                   </td><td>    12                                   </td></tr>\n",
       "\t<tr><td>Other Gynecologicals                     </td><td>   162                                   </td></tr>\n",
       "\t<tr><td>Pancreatic Hormones                      </td><td>   576                                   </td></tr>\n",
       "</tbody>\n",
       "</table>\n"
      ],
      "text/latex": [
       "\\begin{tabular}{r|ll}\n",
       " Var1 & Freq\\\\\n",
       "\\hline\n",
       "\t Antihypertensives                         &     10                                   \\\\\n",
       "\t Beta Blocking Agents                      &     64                                   \\\\\n",
       "\t Blood Substitutes And Perfusion Solutions &    151                                   \\\\\n",
       "\t Drugs Used In Diabetes                    & 708757                                   \\\\\n",
       "\t Lipid Modifying Agents                    &     12                                   \\\\\n",
       "\t Other Gynecologicals                      &    162                                   \\\\\n",
       "\t Pancreatic Hormones                       &    576                                   \\\\\n",
       "\\end{tabular}\n"
      ],
      "text/markdown": [
       "\n",
       "Var1 | Freq | \n",
       "|---|---|---|---|---|---|---|\n",
       "| Antihypertensives                         |     10                                    | \n",
       "| Beta Blocking Agents                      |     64                                    | \n",
       "| Blood Substitutes And Perfusion Solutions |    151                                    | \n",
       "| Drugs Used In Diabetes                    | 708757                                    | \n",
       "| Lipid Modifying Agents                    |     12                                    | \n",
       "| Other Gynecologicals                      |    162                                    | \n",
       "| Pancreatic Hormones                       |    576                                    | \n",
       "\n",
       "\n"
      ],
      "text/plain": [
       "  Var1                                      Freq  \n",
       "1 Antihypertensives                             10\n",
       "2 Beta Blocking Agents                          64\n",
       "3 Blood Substitutes And Perfusion Solutions    151\n",
       "4 Drugs Used In Diabetes                    708757\n",
       "5 Lipid Modifying Agents                        12\n",
       "6 Other Gynecologicals                         162\n",
       "7 Pancreatic Hormones                          576"
      ]
     },
     "metadata": {},
     "output_type": "display_data"
    },
    {
     "data": {
      "text/html": [
       "<table>\n",
       "<thead><tr><th scope=col>Var1</th><th scope=col>Freq</th></tr></thead>\n",
       "<tbody>\n",
       "\t<tr><td>Alpha Glucosidase Inhibitors                      </td><td>  1172                                            </td></tr>\n",
       "\t<tr><td>Biguanides                                        </td><td>292325                                            </td></tr>\n",
       "\t<tr><td>Dipeptidyl Peptidase 4 (Dpp-4) Inhibitors         </td><td> 48889                                            </td></tr>\n",
       "\t<tr><td>Insulins &amp; Analogues For Inject, Intermediate-Act </td><td> 11132                                                </td></tr>\n",
       "\t<tr><td>Insulins And Analogues For Inhalation             </td><td>     8                                            </td></tr>\n",
       "\t<tr><td>Insulins And Analogues For Injection, Fast-Acting </td><td> 34710                                            </td></tr>\n",
       "\t<tr><td>Insulins And Analogues For Injection, Long-Acting </td><td> 54117                                            </td></tr>\n",
       "\t<tr><td>Other Blood Glucose Lowering Drugs, Excl. Insulins</td><td> 21974                                            </td></tr>\n",
       "\t<tr><td>Sulfonamides, Urea Derivatives                    </td><td>172943                                            </td></tr>\n",
       "\t<tr><td>Thiazolidinediones                                </td><td> 71487                                            </td></tr>\n",
       "</tbody>\n",
       "</table>\n"
      ],
      "text/latex": [
       "\\begin{tabular}{r|ll}\n",
       " Var1 & Freq\\\\\n",
       "\\hline\n",
       "\t Alpha Glucosidase Inhibitors                       &   1172                                            \\\\\n",
       "\t Biguanides                                         & 292325                                            \\\\\n",
       "\t Dipeptidyl Peptidase 4 (Dpp-4) Inhibitors          &  48889                                            \\\\\n",
       "\t Insulins \\& Analogues For Inject, Intermediate-Act  &  11132                                              \\\\\n",
       "\t Insulins And Analogues For Inhalation              &      8                                            \\\\\n",
       "\t Insulins And Analogues For Injection, Fast-Acting  &  34710                                            \\\\\n",
       "\t Insulins And Analogues For Injection, Long-Acting  &  54117                                            \\\\\n",
       "\t Other Blood Glucose Lowering Drugs, Excl. Insulins &  21974                                            \\\\\n",
       "\t Sulfonamides, Urea Derivatives                     & 172943                                            \\\\\n",
       "\t Thiazolidinediones                                 &  71487                                            \\\\\n",
       "\\end{tabular}\n"
      ],
      "text/markdown": [
       "\n",
       "Var1 | Freq | \n",
       "|---|---|---|---|---|---|---|---|---|---|\n",
       "| Alpha Glucosidase Inhibitors                       |   1172                                             | \n",
       "| Biguanides                                         | 292325                                             | \n",
       "| Dipeptidyl Peptidase 4 (Dpp-4) Inhibitors          |  48889                                             | \n",
       "| Insulins & Analogues For Inject, Intermediate-Act  |  11132                                             | \n",
       "| Insulins And Analogues For Inhalation              |      8                                             | \n",
       "| Insulins And Analogues For Injection, Fast-Acting  |  34710                                             | \n",
       "| Insulins And Analogues For Injection, Long-Acting  |  54117                                             | \n",
       "| Other Blood Glucose Lowering Drugs, Excl. Insulins |  21974                                             | \n",
       "| Sulfonamides, Urea Derivatives                     | 172943                                             | \n",
       "| Thiazolidinediones                                 |  71487                                             | \n",
       "\n",
       "\n"
      ],
      "text/plain": [
       "   Var1                                               Freq  \n",
       "1  Alpha Glucosidase Inhibitors                         1172\n",
       "2  Biguanides                                         292325\n",
       "3  Dipeptidyl Peptidase 4 (Dpp-4) Inhibitors           48889\n",
       "4  Insulins & Analogues For Inject, Intermediate-Act   11132\n",
       "5  Insulins And Analogues For Inhalation                   8\n",
       "6  Insulins And Analogues For Injection, Fast-Acting   34710\n",
       "7  Insulins And Analogues For Injection, Long-Acting   54117\n",
       "8  Other Blood Glucose Lowering Drugs, Excl. Insulins  21974\n",
       "9  Sulfonamides, Urea Derivatives                     172943\n",
       "10 Thiazolidinediones                                  71487"
      ]
     },
     "metadata": {},
     "output_type": "display_data"
    },
    {
     "data": {
      "text/html": [
       "<table>\n",
       "<thead><tr><th scope=col>Var1</th><th scope=col>Freq</th></tr></thead>\n",
       "<tbody>\n",
       "\t<tr><td>Acarbose         </td><td>   902           </td></tr>\n",
       "\t<tr><td>Alogliptin       </td><td>   138           </td></tr>\n",
       "\t<tr><td>Canagliflozin    </td><td>  1835           </td></tr>\n",
       "\t<tr><td>Chlorpropamide   </td><td>   152           </td></tr>\n",
       "\t<tr><td>Combinations     </td><td>    18           </td></tr>\n",
       "\t<tr><td>Exenatide        </td><td>  8485           </td></tr>\n",
       "\t<tr><td>Glibenclamide    </td><td> 38758           </td></tr>\n",
       "\t<tr><td>Glimepiride      </td><td> 58665           </td></tr>\n",
       "\t<tr><td>Glipizide        </td><td> 75346           </td></tr>\n",
       "\t<tr><td>Insulin (Human)  </td><td> 15741           </td></tr>\n",
       "\t<tr><td>Insulin Aspart   </td><td> 14752           </td></tr>\n",
       "\t<tr><td>Insulin Detemir  </td><td>  9938           </td></tr>\n",
       "\t<tr><td>Insulin Glargine </td><td> 43390           </td></tr>\n",
       "\t<tr><td>Insulin Glulisine</td><td>  1320           </td></tr>\n",
       "\t<tr><td>Insulin Lispro   </td><td> 14808           </td></tr>\n",
       "\t<tr><td>Linagliptin      </td><td>  2763           </td></tr>\n",
       "\t<tr><td>Liraglutide      </td><td>  6993           </td></tr>\n",
       "\t<tr><td>Metformin        </td><td>292325           </td></tr>\n",
       "\t<tr><td>Miglitol         </td><td>   270           </td></tr>\n",
       "\t<tr><td>Nateglinide      </td><td>  2629           </td></tr>\n",
       "\t<tr><td>Pioglitazone     </td><td> 56595           </td></tr>\n",
       "\t<tr><td>Pramlintide      </td><td>   448           </td></tr>\n",
       "\t<tr><td>Repaglinide      </td><td>  1584           </td></tr>\n",
       "\t<tr><td>Rosiglitazone    </td><td> 14888           </td></tr>\n",
       "\t<tr><td>Saxagliptin      </td><td>  5728           </td></tr>\n",
       "\t<tr><td>Sitagliptin      </td><td> 40260           </td></tr>\n",
       "\t<tr><td>Tolbutamide      </td><td>    22           </td></tr>\n",
       "\t<tr><td>Troglitazone     </td><td>     4           </td></tr>\n",
       "</tbody>\n",
       "</table>\n"
      ],
      "text/latex": [
       "\\begin{tabular}{r|ll}\n",
       " Var1 & Freq\\\\\n",
       "\\hline\n",
       "\t Acarbose          &    902           \\\\\n",
       "\t Alogliptin        &    138           \\\\\n",
       "\t Canagliflozin     &   1835           \\\\\n",
       "\t Chlorpropamide    &    152           \\\\\n",
       "\t Combinations      &     18           \\\\\n",
       "\t Exenatide         &   8485           \\\\\n",
       "\t Glibenclamide     &  38758           \\\\\n",
       "\t Glimepiride       &  58665           \\\\\n",
       "\t Glipizide         &  75346           \\\\\n",
       "\t Insulin (Human)   &  15741           \\\\\n",
       "\t Insulin Aspart    &  14752           \\\\\n",
       "\t Insulin Detemir   &   9938           \\\\\n",
       "\t Insulin Glargine  &  43390           \\\\\n",
       "\t Insulin Glulisine &   1320           \\\\\n",
       "\t Insulin Lispro    &  14808           \\\\\n",
       "\t Linagliptin       &   2763           \\\\\n",
       "\t Liraglutide       &   6993           \\\\\n",
       "\t Metformin         & 292325           \\\\\n",
       "\t Miglitol          &    270           \\\\\n",
       "\t Nateglinide       &   2629           \\\\\n",
       "\t Pioglitazone      &  56595           \\\\\n",
       "\t Pramlintide       &    448           \\\\\n",
       "\t Repaglinide       &   1584           \\\\\n",
       "\t Rosiglitazone     &  14888           \\\\\n",
       "\t Saxagliptin       &   5728           \\\\\n",
       "\t Sitagliptin       &  40260           \\\\\n",
       "\t Tolbutamide       &     22           \\\\\n",
       "\t Troglitazone      &      4           \\\\\n",
       "\\end{tabular}\n"
      ],
      "text/markdown": [
       "\n",
       "Var1 | Freq | \n",
       "|---|---|---|---|---|---|---|---|---|---|---|---|---|---|---|---|---|---|---|---|---|---|---|---|---|---|---|---|\n",
       "| Acarbose          |    902            | \n",
       "| Alogliptin        |    138            | \n",
       "| Canagliflozin     |   1835            | \n",
       "| Chlorpropamide    |    152            | \n",
       "| Combinations      |     18            | \n",
       "| Exenatide         |   8485            | \n",
       "| Glibenclamide     |  38758            | \n",
       "| Glimepiride       |  58665            | \n",
       "| Glipizide         |  75346            | \n",
       "| Insulin (Human)   |  15741            | \n",
       "| Insulin Aspart    |  14752            | \n",
       "| Insulin Detemir   |   9938            | \n",
       "| Insulin Glargine  |  43390            | \n",
       "| Insulin Glulisine |   1320            | \n",
       "| Insulin Lispro    |  14808            | \n",
       "| Linagliptin       |   2763            | \n",
       "| Liraglutide       |   6993            | \n",
       "| Metformin         | 292325            | \n",
       "| Miglitol          |    270            | \n",
       "| Nateglinide       |   2629            | \n",
       "| Pioglitazone      |  56595            | \n",
       "| Pramlintide       |    448            | \n",
       "| Repaglinide       |   1584            | \n",
       "| Rosiglitazone     |  14888            | \n",
       "| Saxagliptin       |   5728            | \n",
       "| Sitagliptin       |  40260            | \n",
       "| Tolbutamide       |     22            | \n",
       "| Troglitazone      |      4            | \n",
       "\n",
       "\n"
      ],
      "text/plain": [
       "   Var1              Freq  \n",
       "1  Acarbose             902\n",
       "2  Alogliptin           138\n",
       "3  Canagliflozin       1835\n",
       "4  Chlorpropamide       152\n",
       "5  Combinations          18\n",
       "6  Exenatide           8485\n",
       "7  Glibenclamide      38758\n",
       "8  Glimepiride        58665\n",
       "9  Glipizide          75346\n",
       "10 Insulin (Human)    15741\n",
       "11 Insulin Aspart     14752\n",
       "12 Insulin Detemir     9938\n",
       "13 Insulin Glargine   43390\n",
       "14 Insulin Glulisine   1320\n",
       "15 Insulin Lispro     14808\n",
       "16 Linagliptin         2763\n",
       "17 Liraglutide         6993\n",
       "18 Metformin         292325\n",
       "19 Miglitol             270\n",
       "20 Nateglinide         2629\n",
       "21 Pioglitazone       56595\n",
       "22 Pramlintide          448\n",
       "23 Repaglinide         1584\n",
       "24 Rosiglitazone      14888\n",
       "25 Saxagliptin         5728\n",
       "26 Sitagliptin        40260\n",
       "27 Tolbutamide           22\n",
       "28 Troglitazone           4"
      ]
     },
     "metadata": {},
     "output_type": "display_data"
    }
   ],
   "source": [
    "as.data.frame(table(medication_unindc$sgthr))\n",
    "as.data.frame(table(medication_unindc$sgchem[medication_unindc$sgthr == \"Drugs Used In Diabetes\"]))\n",
    "as.data.frame(table(medication_unindc$drug_class[medication_unindc$sgthr == \"Drugs Used In Diabetes\"]))\n"
   ]
  },
  {
   "cell_type": "markdown",
   "metadata": {
    "nbpresent": {
     "id": "ca222770-9822-4578-a6e5-524c68ff0f47"
    }
   },
   "source": [
    "Finally, the frequency table provides much more useful information when we use the therapeutic subgroups. How does this compare to the pharmacological subgroups and the chemical subgroup?"
   ]
  },
  {
   "cell_type": "markdown",
   "metadata": {},
   "source": [
    "### Let's save the enriched medication file (in R format)\n",
    "To load the file, use the following code: <br>\n",
    "`load(file = \"medication_unindc.RDATA\")`"
   ]
  },
  {
   "cell_type": "code",
   "execution_count": 12,
   "metadata": {
    "collapsed": false
   },
   "outputs": [
    {
     "data": {
      "text/html": [
       "<table>\n",
       "<thead><tr><th></th><th scope=col>size</th><th scope=col>isdir</th><th scope=col>mode</th><th scope=col>mtime</th><th scope=col>ctime</th><th scope=col>atime</th><th scope=col>uid</th><th scope=col>gid</th><th scope=col>uname</th><th scope=col>grname</th></tr></thead>\n",
       "<tbody>\n",
       "\t<tr><th scope=row>medication_unindc .RDATA</th><td>5358112            </td><td>FALSE              </td><td>660                </td><td>2018-10-25 09:50:40</td><td>2018-10-25 09:50:40</td><td>2018-10-25 09:47:56</td><td>498945             </td><td>1297               </td><td>ukirbiyi           </td><td>T15                </td></tr>\n",
       "</tbody>\n",
       "</table>\n"
      ],
      "text/latex": [
       "\\begin{tabular}{r|llllllllll}\n",
       "  & size & isdir & mode & mtime & ctime & atime & uid & gid & uname & grname\\\\\n",
       "\\hline\n",
       "\tmedication\\_unindc .RDATA & 5358112             & FALSE               & 660                 & 2018-10-25 09:50:40 & 2018-10-25 09:50:40 & 2018-10-25 09:47:56 & 498945              & 1297                & ukirbiyi            & T15                \\\\\n",
       "\\end{tabular}\n"
      ],
      "text/markdown": [
       "\n",
       "| <!--/--> | size | isdir | mode | mtime | ctime | atime | uid | gid | uname | grname | \n",
       "|---|\n",
       "| medication_unindc .RDATA | 5358112             | FALSE               | 660                 | 2018-10-25 09:50:40 | 2018-10-25 09:50:40 | 2018-10-25 09:47:56 | 498945              | 1297                | ukirbiyi            | T15                 | \n",
       "\n",
       "\n"
      ],
      "text/plain": [
       "                         size    isdir mode mtime              \n",
       "medication_unindc .RDATA 5358112 FALSE 660  2018-10-25 09:50:40\n",
       "                         ctime               atime               uid    gid \n",
       "medication_unindc .RDATA 2018-10-25 09:50:40 2018-10-25 09:47:56 498945 1297\n",
       "                         uname    grname\n",
       "medication_unindc .RDATA ukirbiyi T15   "
      ]
     },
     "metadata": {},
     "output_type": "display_data"
    }
   ],
   "source": [
    "save(medication_unindc , file =\"medication_unindc.RDATA\")\n",
    "file.info(\"medication_unindc.RDATA\")"
   ]
  },
  {
   "cell_type": "markdown",
   "metadata": {},
   "source": [
    "== End of Ex 1 =="
   ]
  }
 ],
 "metadata": {
  "kernelspec": {
   "display_name": "R 3.3.1",
   "language": "R",
   "name": "ir"
  },
  "language_info": {
   "codemirror_mode": "r",
   "file_extension": ".r",
   "mimetype": "text/x-r-source",
   "name": "R",
   "pygments_lexer": "r",
   "version": "3.3.1"
  }
 },
 "nbformat": 4,
 "nbformat_minor": 2
}
