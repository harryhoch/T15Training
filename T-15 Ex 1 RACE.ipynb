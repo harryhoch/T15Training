{
 "cells": [
  {
   "cell_type": "markdown",
   "metadata": {},
   "source": [
    "# The Indiana Training Program in Public and Population Health Informatics\n",
    "## Exercise 1 - Data transformation (Recoding the RACE variable)\n",
    "*Competencies addressed*  \n",
    " \n",
    " 1. Identfy as well as access structured electronic data sets (I.1.1)\n",
    " 2. Transformation of raw data to formats more suitable for downstream use cases (I.1.2)\n",
    " 3. Acquire skills related to visualize data to discover patterns (II.1.3) "
   ]
  },
  {
   "cell_type": "markdown",
   "metadata": {
    "collapsed": true
   },
   "source": [
    " *Learning objectives*  \n",
    " At the end of this module the student will be able to do the following:\n",
    "\n",
    " 1.  Set up the working environment in R  \n",
    " 2. View the data in R prior to loading the dataset  \n",
    " 3. Import text delimited datasets in to R  \n",
    " 4. Summarize data in R  \n",
    " 5. Recode a variable or a vector using `merge`  \n",
    " 6. Create basic visualizations to describe the data  \n",
    " \n",
    "\n",
    "This exercises uses the patient data from the Type-2 Diabetes dataset. The patient data contains information on the patients; demographics, as well as various end-diagnoses. This exercise shows how to recode the RACE variable to a fewer categories. At the beginning of the exercise, we check our working folder, then load the patient data into R. Once the dataset is loaded we use `head` and `summary` to view the dataset's contents. "
   ]
  },
  {
   "cell_type": "markdown",
   "metadata": {},
   "source": [
    "### Familiarize with the environment\n",
    "Before we start working on R we need to set the working directory. We will then check folder contents and check the patients data contents without loading it. This is a practical way to inspect large datasets. "
   ]
  },
  {
   "cell_type": "code",
   "execution_count": 1,
   "metadata": {
    "collapsed": false,
    "scrolled": true
   },
   "outputs": [
    {
     "data": {
      "text/html": [
       "'/N/dc2/projects/T15/Sample'"
      ],
      "text/latex": [
       "'/N/dc2/projects/T15/Sample'"
      ],
      "text/markdown": [
       "'/N/dc2/projects/T15/Sample'"
      ],
      "text/plain": [
       "[1] \"/N/dc2/projects/T15/Sample\""
      ]
     },
     "metadata": {},
     "output_type": "display_data"
    },
    {
     "data": {
      "text/html": [
       "<ol class=list-inline>\n",
       "\t<li>'1-Descriptives.R'</li>\n",
       "\t<li>'2.1-Sampling.R'</li>\n",
       "\t<li>'2.2-Pertubration.R'</li>\n",
       "\t<li>'3-Exercises 1.R'</li>\n",
       "\t<li>'3-Exercises 32 Algorithm Check.R'</li>\n",
       "\t<li>'T-15 Ex 1 RACE.ipynb'</li>\n",
       "\t<li>'T-15 Ex 2 NDC.ipynb'</li>\n",
       "\t<li>'T-15 Ex 3 .1 BMI.ipynb'</li>\n",
       "\t<li>'T-15 Ex 3.2 BMI.ipynb'</li>\n",
       "\t<li>'T-15 Ex 3.3 BMI.ipynb'</li>\n",
       "\t<li>'Untitled.ipynb'</li>\n",
       "\t<li>'Untitled1.ipynb'</li>\n",
       "\t<li>'clinical_vars.csv'</li>\n",
       "\t<li>'diagnosis.csv'</li>\n",
       "\t<li>'encounters.csv'</li>\n",
       "\t<li>'ht_summary.csv'</li>\n",
       "\t<li>'medication.csv'</li>\n",
       "\t<li>'medication_unindc .RDATA'</li>\n",
       "\t<li>'patients.csv'</li>\n",
       "\t<li>'pt.RDATA'</li>\n",
       "\t<li>'t2d Exercises 1.ipynb'</li>\n",
       "\t<li>'unindc.dta'</li>\n",
       "\t<li>'wt_ht.RDATA'</li>\n",
       "\t<li>'wt_ht_final.RDATA'</li>\n",
       "\t<li>'wt_ht_wide.RDATA'</li>\n",
       "</ol>\n"
      ],
      "text/latex": [
       "\\begin{enumerate*}\n",
       "\\item '1-Descriptives.R'\n",
       "\\item '2.1-Sampling.R'\n",
       "\\item '2.2-Pertubration.R'\n",
       "\\item '3-Exercises 1.R'\n",
       "\\item '3-Exercises 32 Algorithm Check.R'\n",
       "\\item 'T-15 Ex 1 RACE.ipynb'\n",
       "\\item 'T-15 Ex 2 NDC.ipynb'\n",
       "\\item 'T-15 Ex 3 .1 BMI.ipynb'\n",
       "\\item 'T-15 Ex 3.2 BMI.ipynb'\n",
       "\\item 'T-15 Ex 3.3 BMI.ipynb'\n",
       "\\item 'Untitled.ipynb'\n",
       "\\item 'Untitled1.ipynb'\n",
       "\\item 'clinical\\_vars.csv'\n",
       "\\item 'diagnosis.csv'\n",
       "\\item 'encounters.csv'\n",
       "\\item 'ht\\_summary.csv'\n",
       "\\item 'medication.csv'\n",
       "\\item 'medication\\_unindc .RDATA'\n",
       "\\item 'patients.csv'\n",
       "\\item 'pt.RDATA'\n",
       "\\item 't2d Exercises 1.ipynb'\n",
       "\\item 'unindc.dta'\n",
       "\\item 'wt\\_ht.RDATA'\n",
       "\\item 'wt\\_ht\\_final.RDATA'\n",
       "\\item 'wt\\_ht\\_wide.RDATA'\n",
       "\\end{enumerate*}\n"
      ],
      "text/markdown": [
       "1. '1-Descriptives.R'\n",
       "2. '2.1-Sampling.R'\n",
       "3. '2.2-Pertubration.R'\n",
       "4. '3-Exercises 1.R'\n",
       "5. '3-Exercises 32 Algorithm Check.R'\n",
       "6. 'T-15 Ex 1 RACE.ipynb'\n",
       "7. 'T-15 Ex 2 NDC.ipynb'\n",
       "8. 'T-15 Ex 3 .1 BMI.ipynb'\n",
       "9. 'T-15 Ex 3.2 BMI.ipynb'\n",
       "10. 'T-15 Ex 3.3 BMI.ipynb'\n",
       "11. 'Untitled.ipynb'\n",
       "12. 'Untitled1.ipynb'\n",
       "13. 'clinical_vars.csv'\n",
       "14. 'diagnosis.csv'\n",
       "15. 'encounters.csv'\n",
       "16. 'ht_summary.csv'\n",
       "17. 'medication.csv'\n",
       "18. 'medication_unindc .RDATA'\n",
       "19. 'patients.csv'\n",
       "20. 'pt.RDATA'\n",
       "21. 't2d Exercises 1.ipynb'\n",
       "22. 'unindc.dta'\n",
       "23. 'wt_ht.RDATA'\n",
       "24. 'wt_ht_final.RDATA'\n",
       "25. 'wt_ht_wide.RDATA'\n",
       "\n",
       "\n"
      ],
      "text/plain": [
       " [1] \"1-Descriptives.R\"                 \"2.1-Sampling.R\"                  \n",
       " [3] \"2.2-Pertubration.R\"               \"3-Exercises 1.R\"                 \n",
       " [5] \"3-Exercises 32 Algorithm Check.R\" \"T-15 Ex 1 RACE.ipynb\"            \n",
       " [7] \"T-15 Ex 2 NDC.ipynb\"              \"T-15 Ex 3 .1 BMI.ipynb\"          \n",
       " [9] \"T-15 Ex 3.2 BMI.ipynb\"            \"T-15 Ex 3.3 BMI.ipynb\"           \n",
       "[11] \"Untitled.ipynb\"                   \"Untitled1.ipynb\"                 \n",
       "[13] \"clinical_vars.csv\"                \"diagnosis.csv\"                   \n",
       "[15] \"encounters.csv\"                   \"ht_summary.csv\"                  \n",
       "[17] \"medication.csv\"                   \"medication_unindc .RDATA\"        \n",
       "[19] \"patients.csv\"                     \"pt.RDATA\"                        \n",
       "[21] \"t2d Exercises 1.ipynb\"            \"unindc.dta\"                      \n",
       "[23] \"wt_ht.RDATA\"                      \"wt_ht_final.RDATA\"               \n",
       "[25] \"wt_ht_wide.RDATA\"                "
      ]
     },
     "metadata": {},
     "output_type": "display_data"
    },
    {
     "data": {
      "text/html": [
       "<table>\n",
       "<thead><tr><th></th><th scope=col>size</th><th scope=col>isdir</th><th scope=col>mode</th><th scope=col>mtime</th><th scope=col>ctime</th><th scope=col>atime</th><th scope=col>uid</th><th scope=col>gid</th><th scope=col>uname</th><th scope=col>grname</th></tr></thead>\n",
       "<tbody>\n",
       "\t<tr><th scope=row>patients.csv</th><td>5257050            </td><td>FALSE              </td><td>660                </td><td>2018-09-13 16:38:50</td><td>2018-09-14 00:36:40</td><td>2018-10-25 09:23:21</td><td>498945             </td><td>1297               </td><td>ukirbiyi           </td><td>T15                </td></tr>\n",
       "</tbody>\n",
       "</table>\n"
      ],
      "text/latex": [
       "\\begin{tabular}{r|llllllllll}\n",
       "  & size & isdir & mode & mtime & ctime & atime & uid & gid & uname & grname\\\\\n",
       "\\hline\n",
       "\tpatients.csv & 5257050             & FALSE               & 660                 & 2018-09-13 16:38:50 & 2018-09-14 00:36:40 & 2018-10-25 09:23:21 & 498945              & 1297                & ukirbiyi            & T15                \\\\\n",
       "\\end{tabular}\n"
      ],
      "text/markdown": [
       "\n",
       "| <!--/--> | size | isdir | mode | mtime | ctime | atime | uid | gid | uname | grname | \n",
       "|---|\n",
       "| patients.csv | 5257050             | FALSE               | 660                 | 2018-09-13 16:38:50 | 2018-09-14 00:36:40 | 2018-10-25 09:23:21 | 498945              | 1297                | ukirbiyi            | T15                 | \n",
       "\n",
       "\n"
      ],
      "text/plain": [
       "             size    isdir mode mtime               ctime              \n",
       "patients.csv 5257050 FALSE 660  2018-09-13 16:38:50 2018-09-14 00:36:40\n",
       "             atime               uid    gid  uname    grname\n",
       "patients.csv 2018-10-25 09:23:21 498945 1297 ukirbiyi T15   "
      ]
     },
     "metadata": {},
     "output_type": "display_data"
    },
    {
     "data": {
      "text/html": [
       "<table>\n",
       "<thead><tr><th scope=col>STUDYID</th><th scope=col>INDEX_YEAR</th><th scope=col>INDEX_AGE</th><th scope=col>GENDER</th><th scope=col>RACE</th><th scope=col>T2D_STATUS</th><th scope=col>CARDIOVASCULAR</th><th scope=col>NEPHROPATHY</th><th scope=col>LIVER</th><th scope=col>ENC_12M_BF</th><th scope=col>ENC_12M_AF</th><th scope=col>ENC_YRS_BF</th><th scope=col>ENC_YRS_AF</th><th scope=col>BIOBANK</th></tr></thead>\n",
       "<tbody>\n",
       "\t<tr><td> 16                      </td><td>1996                     </td><td>76                       </td><td>F                        </td><td>BLACK OR AFRICAN AMERICAN</td><td>ICD2 Only                </td><td>1                        </td><td>NA                       </td><td>NA                       </td><td>  4                      </td><td>24                       </td><td> 1                       </td><td> 2                       </td><td>NA                       </td></tr>\n",
       "\t<tr><td>103                      </td><td>1995                     </td><td>71                       </td><td>M                        </td><td>BLACK OR AFRICAN AMERICAN</td><td>ICD2+A1C                 </td><td>1                        </td><td>NA                       </td><td>NA                       </td><td>  0                      </td><td> 1                       </td><td> 0                       </td><td> 7                       </td><td>NA                       </td></tr>\n",
       "\t<tr><td>179                      </td><td>2014                     </td><td>71                       </td><td>M                        </td><td>BLACK OR AFRICAN AMERICAN</td><td>ICD2 Only                </td><td>1                        </td><td>NA                       </td><td>NA                       </td><td> 93                      </td><td> 7                       </td><td>15                       </td><td> 2                       </td><td>NA                       </td></tr>\n",
       "\t<tr><td>188                      </td><td>2013                     </td><td>57                       </td><td>M                        </td><td>BLACK OR AFRICAN AMERICAN</td><td>A1C Only                 </td><td>1                        </td><td>NA                       </td><td>NA                       </td><td>  4                      </td><td> 4                       </td><td>11                       </td><td> 2                       </td><td>NA                       </td></tr>\n",
       "\t<tr><td>195                      </td><td>2003                     </td><td>78                       </td><td>F                        </td><td>BLACK OR AFRICAN AMERICAN</td><td>ICD2 Only                </td><td>1                        </td><td> 1                       </td><td>NA                       </td><td>155                      </td><td>93                       </td><td> 8                       </td><td>10                       </td><td>NA                       </td></tr>\n",
       "\t<tr><td>239                      </td><td>1995                     </td><td>47                       </td><td>F                        </td><td>BLACK OR AFRICAN AMERICAN</td><td>ICD2+A1C+Meds            </td><td>1                        </td><td> 1                       </td><td>NA                       </td><td>  0                      </td><td> 7                       </td><td> 0                       </td><td>20                       </td><td> 1                       </td></tr>\n",
       "\t<tr><td>240                      </td><td>2003                     </td><td>27                       </td><td>M                        </td><td>WHITE                    </td><td>ICD2+A1C+Meds            </td><td>1                        </td><td>NA                       </td><td> 1                       </td><td>  2                      </td><td> 5                       </td><td> 4                       </td><td>13                       </td><td>NA                       </td></tr>\n",
       "\t<tr><td>251                      </td><td>2003                     </td><td>60                       </td><td>F                        </td><td>BLACK OR AFRICAN AMERICAN</td><td>ICD2+A1C                 </td><td>1                        </td><td>NA                       </td><td>NA                       </td><td>  0                      </td><td>12                       </td><td> 4                       </td><td> 5                       </td><td>NA                       </td></tr>\n",
       "\t<tr><td>269                      </td><td>1996                     </td><td>56                       </td><td>F                        </td><td>WHITE                    </td><td>ICD2+A1C+Meds            </td><td>1                        </td><td>NA                       </td><td>NA                       </td><td>  3                      </td><td>59                       </td><td> 1                       </td><td> 8                       </td><td>NA                       </td></tr>\n",
       "\t<tr><td>285                      </td><td>2004                     </td><td>71                       </td><td>F                        </td><td>BLACK OR AFRICAN AMERICAN</td><td>ICD2+A1C+Meds            </td><td>1                        </td><td>NA                       </td><td>NA                       </td><td>  2                      </td><td>16                       </td><td> 9                       </td><td>12                       </td><td>NA                       </td></tr>\n",
       "</tbody>\n",
       "</table>\n"
      ],
      "text/latex": [
       "\\begin{tabular}{r|llllllllllllll}\n",
       " STUDYID & INDEX\\_YEAR & INDEX\\_AGE & GENDER & RACE & T2D\\_STATUS & CARDIOVASCULAR & NEPHROPATHY & LIVER & ENC\\_12M\\_BF & ENC\\_12M\\_AF & ENC\\_YRS\\_BF & ENC\\_YRS\\_AF & BIOBANK\\\\\n",
       "\\hline\n",
       "\t  16                       & 1996                      & 76                        & F                         & BLACK OR AFRICAN AMERICAN & ICD2 Only                 & 1                         & NA                        & NA                        &   4                       & 24                        &  1                        &  2                        & NA                       \\\\\n",
       "\t 103                       & 1995                      & 71                        & M                         & BLACK OR AFRICAN AMERICAN & ICD2+A1C                  & 1                         & NA                        & NA                        &   0                       &  1                        &  0                        &  7                        & NA                       \\\\\n",
       "\t 179                       & 2014                      & 71                        & M                         & BLACK OR AFRICAN AMERICAN & ICD2 Only                 & 1                         & NA                        & NA                        &  93                       &  7                        & 15                        &  2                        & NA                       \\\\\n",
       "\t 188                       & 2013                      & 57                        & M                         & BLACK OR AFRICAN AMERICAN & A1C Only                  & 1                         & NA                        & NA                        &   4                       &  4                        & 11                        &  2                        & NA                       \\\\\n",
       "\t 195                       & 2003                      & 78                        & F                         & BLACK OR AFRICAN AMERICAN & ICD2 Only                 & 1                         &  1                        & NA                        & 155                       & 93                        &  8                        & 10                        & NA                       \\\\\n",
       "\t 239                       & 1995                      & 47                        & F                         & BLACK OR AFRICAN AMERICAN & ICD2+A1C+Meds             & 1                         &  1                        & NA                        &   0                       &  7                        &  0                        & 20                        &  1                       \\\\\n",
       "\t 240                       & 2003                      & 27                        & M                         & WHITE                     & ICD2+A1C+Meds             & 1                         & NA                        &  1                        &   2                       &  5                        &  4                        & 13                        & NA                       \\\\\n",
       "\t 251                       & 2003                      & 60                        & F                         & BLACK OR AFRICAN AMERICAN & ICD2+A1C                  & 1                         & NA                        & NA                        &   0                       & 12                        &  4                        &  5                        & NA                       \\\\\n",
       "\t 269                       & 1996                      & 56                        & F                         & WHITE                     & ICD2+A1C+Meds             & 1                         & NA                        & NA                        &   3                       & 59                        &  1                        &  8                        & NA                       \\\\\n",
       "\t 285                       & 2004                      & 71                        & F                         & BLACK OR AFRICAN AMERICAN & ICD2+A1C+Meds             & 1                         & NA                        & NA                        &   2                       & 16                        &  9                        & 12                        & NA                       \\\\\n",
       "\\end{tabular}\n"
      ],
      "text/markdown": [
       "\n",
       "STUDYID | INDEX_YEAR | INDEX_AGE | GENDER | RACE | T2D_STATUS | CARDIOVASCULAR | NEPHROPATHY | LIVER | ENC_12M_BF | ENC_12M_AF | ENC_YRS_BF | ENC_YRS_AF | BIOBANK | \n",
       "|---|---|---|---|---|---|---|---|---|---|\n",
       "|  16                       | 1996                      | 76                        | F                         | BLACK OR AFRICAN AMERICAN | ICD2 Only                 | 1                         | NA                        | NA                        |   4                       | 24                        |  1                        |  2                        | NA                        | \n",
       "| 103                       | 1995                      | 71                        | M                         | BLACK OR AFRICAN AMERICAN | ICD2+A1C                  | 1                         | NA                        | NA                        |   0                       |  1                        |  0                        |  7                        | NA                        | \n",
       "| 179                       | 2014                      | 71                        | M                         | BLACK OR AFRICAN AMERICAN | ICD2 Only                 | 1                         | NA                        | NA                        |  93                       |  7                        | 15                        |  2                        | NA                        | \n",
       "| 188                       | 2013                      | 57                        | M                         | BLACK OR AFRICAN AMERICAN | A1C Only                  | 1                         | NA                        | NA                        |   4                       |  4                        | 11                        |  2                        | NA                        | \n",
       "| 195                       | 2003                      | 78                        | F                         | BLACK OR AFRICAN AMERICAN | ICD2 Only                 | 1                         |  1                        | NA                        | 155                       | 93                        |  8                        | 10                        | NA                        | \n",
       "| 239                       | 1995                      | 47                        | F                         | BLACK OR AFRICAN AMERICAN | ICD2+A1C+Meds             | 1                         |  1                        | NA                        |   0                       |  7                        |  0                        | 20                        |  1                        | \n",
       "| 240                       | 2003                      | 27                        | M                         | WHITE                     | ICD2+A1C+Meds             | 1                         | NA                        |  1                        |   2                       |  5                        |  4                        | 13                        | NA                        | \n",
       "| 251                       | 2003                      | 60                        | F                         | BLACK OR AFRICAN AMERICAN | ICD2+A1C                  | 1                         | NA                        | NA                        |   0                       | 12                        |  4                        |  5                        | NA                        | \n",
       "| 269                       | 1996                      | 56                        | F                         | WHITE                     | ICD2+A1C+Meds             | 1                         | NA                        | NA                        |   3                       | 59                        |  1                        |  8                        | NA                        | \n",
       "| 285                       | 2004                      | 71                        | F                         | BLACK OR AFRICAN AMERICAN | ICD2+A1C+Meds             | 1                         | NA                        | NA                        |   2                       | 16                        |  9                        | 12                        | NA                        | \n",
       "\n",
       "\n"
      ],
      "text/plain": [
       "   STUDYID INDEX_YEAR INDEX_AGE GENDER RACE                      T2D_STATUS   \n",
       "1   16     1996       76        F      BLACK OR AFRICAN AMERICAN ICD2 Only    \n",
       "2  103     1995       71        M      BLACK OR AFRICAN AMERICAN ICD2+A1C     \n",
       "3  179     2014       71        M      BLACK OR AFRICAN AMERICAN ICD2 Only    \n",
       "4  188     2013       57        M      BLACK OR AFRICAN AMERICAN A1C Only     \n",
       "5  195     2003       78        F      BLACK OR AFRICAN AMERICAN ICD2 Only    \n",
       "6  239     1995       47        F      BLACK OR AFRICAN AMERICAN ICD2+A1C+Meds\n",
       "7  240     2003       27        M      WHITE                     ICD2+A1C+Meds\n",
       "8  251     2003       60        F      BLACK OR AFRICAN AMERICAN ICD2+A1C     \n",
       "9  269     1996       56        F      WHITE                     ICD2+A1C+Meds\n",
       "10 285     2004       71        F      BLACK OR AFRICAN AMERICAN ICD2+A1C+Meds\n",
       "   CARDIOVASCULAR NEPHROPATHY LIVER ENC_12M_BF ENC_12M_AF ENC_YRS_BF ENC_YRS_AF\n",
       "1  1              NA          NA      4        24          1          2        \n",
       "2  1              NA          NA      0         1          0          7        \n",
       "3  1              NA          NA     93         7         15          2        \n",
       "4  1              NA          NA      4         4         11          2        \n",
       "5  1               1          NA    155        93          8         10        \n",
       "6  1               1          NA      0         7          0         20        \n",
       "7  1              NA           1      2         5          4         13        \n",
       "8  1              NA          NA      0        12          4          5        \n",
       "9  1              NA          NA      3        59          1          8        \n",
       "10 1              NA          NA      2        16          9         12        \n",
       "   BIOBANK\n",
       "1  NA     \n",
       "2  NA     \n",
       "3  NA     \n",
       "4  NA     \n",
       "5  NA     \n",
       "6   1     \n",
       "7  NA     \n",
       "8  NA     \n",
       "9  NA     \n",
       "10 NA     "
      ]
     },
     "metadata": {},
     "output_type": "display_data"
    }
   ],
   "source": [
    "getwd()  #check current directory\n",
    "setwd(\"/N/dc2/projects/T15/Sample\") # setting working folder\n",
    "list.files()\n",
    "file.info(\"patients.csv\")\n",
    "read.csv(file=\"patients.csv\",nrows=10)"
   ]
  },
  {
   "cell_type": "markdown",
   "metadata": {},
   "source": [
    "### Load the \"patients.csv\" file which has the RACE variable\n",
    "Run a summary statistics with the \"patients\" file"
   ]
  },
  {
   "cell_type": "code",
   "execution_count": 2,
   "metadata": {
    "collapsed": false
   },
   "outputs": [
    {
     "data": {
      "text/plain": [
       "    STUDYID          INDEX_YEAR     INDEX_AGE     GENDER   \n",
       " Min.   :     16   Min.   :1995   Min.   :18.00   F:40993  \n",
       " 1st Qu.: 358336   1st Qu.:2006   1st Qu.:47.00   M:36915  \n",
       " Median : 701734   Median :2009   Median :57.00            \n",
       " Mean   : 666051   Mean   :2009   Mean   :56.01            \n",
       " 3rd Qu.: 981660   3rd Qu.:2012   3rd Qu.:66.00            \n",
       " Max.   :1256051   Max.   :2015   Max.   :85.00            \n",
       "                                                           \n",
       "                        RACE               T2D_STATUS    CARDIOVASCULAR \n",
       " WHITE                    :39337   A1C Only     : 2069   Min.   :1      \n",
       " UNKNOWN/NOT DOCUMENTED   :28692   A1C+Meds     :  589   1st Qu.:1      \n",
       " BLACK OR AFRICAN AMERICAN: 6436   ICD2 Only    :41409   Median :1      \n",
       " OTHER                    : 1969   ICD2+A1C     : 4305   Mean   :1      \n",
       " HISPANIC OR LATINO       :  896   ICD2+A1C+Meds: 7086   3rd Qu.:1      \n",
       " ASIAN                    :  261   ICD2+Meds    :12882   Max.   :1      \n",
       " (Other)                  :  317   Meds Only    : 9568   NA's   :26340  \n",
       "  NEPHROPATHY        LIVER         ENC_12M_BF        ENC_12M_AF    \n",
       " Min.   :1       Min.   :1       Min.   :  0.000   Min.   :  0.00  \n",
       " 1st Qu.:1       1st Qu.:1       1st Qu.:  0.000   1st Qu.:  1.00  \n",
       " Median :1       Median :1       Median :  2.000   Median :  5.00  \n",
       " Mean   :1       Mean   :1       Mean   :  8.277   Mean   : 13.35  \n",
       " 3rd Qu.:1       3rd Qu.:1       3rd Qu.:  7.000   3rd Qu.: 15.00  \n",
       " Max.   :1       Max.   :1       Max.   :363.000   Max.   :359.00  \n",
       " NA's   :70455   NA's   :74178                                     \n",
       "   ENC_YRS_BF       ENC_YRS_AF        BIOBANK     \n",
       " Min.   : 0.000   Min.   : 0.000   Min.   :1      \n",
       " 1st Qu.: 1.000   1st Qu.: 1.000   1st Qu.:1      \n",
       " Median : 1.000   Median : 3.000   Median :1      \n",
       " Mean   : 2.356   Mean   : 3.661   Mean   :1      \n",
       " 3rd Qu.: 3.000   3rd Qu.: 5.000   3rd Qu.:1      \n",
       " Max.   :20.000   Max.   :20.000   Max.   :1      \n",
       "                                   NA's   :77369  "
      ]
     },
     "metadata": {},
     "output_type": "display_data"
    }
   ],
   "source": [
    "patients <- read.csv(\"patients.csv\", header= TRUE)\n",
    "summary(patients) #this gives a quick univariate statistics of the variables (columns)\n"
   ]
  },
  {
   "cell_type": "markdown",
   "metadata": {},
   "source": [
    "### Checking the variable of interest: RACE\n",
    "While the `summary` function gives some information about the contents of the dataset, the information is often summerized (truncated). See the number of levels given for RACE above.\n",
    "We will use the `table` function to call all the levels of RACE and their frequecies.\n",
    "R stores categorical variables as \"factor\", an object that `table` function needs to order the levels. \n",
    "We can check the internal type (class) of a variable using the `class` function. "
   ]
  },
  {
   "cell_type": "code",
   "execution_count": 3,
   "metadata": {
    "collapsed": false,
    "scrolled": true
   },
   "outputs": [
    {
     "data": {
      "text/html": [
       "<table>\n",
       "<thead><tr><th scope=col>Var1</th><th scope=col>Freq</th></tr></thead>\n",
       "<tbody>\n",
       "\t<tr><td>AMERICAN INDIAN AND ALASKA NATIVE         </td><td>   62                                     </td></tr>\n",
       "\t<tr><td>ASIAN                                     </td><td>  261                                     </td></tr>\n",
       "\t<tr><td>BLACK OR AFRICAN AMERICAN                 </td><td> 6436                                     </td></tr>\n",
       "\t<tr><td>HISPANIC OR LATINO                        </td><td>  896                                     </td></tr>\n",
       "\t<tr><td>MULTIRACIAL                               </td><td>   74                                     </td></tr>\n",
       "\t<tr><td>NATIVE HAWAIIAN AND OTHER PACIFIC ISLANDER</td><td>  177                                     </td></tr>\n",
       "\t<tr><td>OTHER                                     </td><td> 1969                                     </td></tr>\n",
       "\t<tr><td>REFUSED                                   </td><td>    4                                     </td></tr>\n",
       "\t<tr><td>UNKNOWN/NOT DOCUMENTED                    </td><td>28692                                     </td></tr>\n",
       "\t<tr><td>WHITE                                     </td><td>39337                                     </td></tr>\n",
       "</tbody>\n",
       "</table>\n"
      ],
      "text/latex": [
       "\\begin{tabular}{r|ll}\n",
       " Var1 & Freq\\\\\n",
       "\\hline\n",
       "\t AMERICAN INDIAN AND ALASKA NATIVE          &    62                                     \\\\\n",
       "\t ASIAN                                      &   261                                     \\\\\n",
       "\t BLACK OR AFRICAN AMERICAN                  &  6436                                     \\\\\n",
       "\t HISPANIC OR LATINO                         &   896                                     \\\\\n",
       "\t MULTIRACIAL                                &    74                                     \\\\\n",
       "\t NATIVE HAWAIIAN AND OTHER PACIFIC ISLANDER &   177                                     \\\\\n",
       "\t OTHER                                      &  1969                                     \\\\\n",
       "\t REFUSED                                    &     4                                     \\\\\n",
       "\t UNKNOWN/NOT DOCUMENTED                     & 28692                                     \\\\\n",
       "\t WHITE                                      & 39337                                     \\\\\n",
       "\\end{tabular}\n"
      ],
      "text/markdown": [
       "\n",
       "Var1 | Freq | \n",
       "|---|---|---|---|---|---|---|---|---|---|\n",
       "| AMERICAN INDIAN AND ALASKA NATIVE          |    62                                      | \n",
       "| ASIAN                                      |   261                                      | \n",
       "| BLACK OR AFRICAN AMERICAN                  |  6436                                      | \n",
       "| HISPANIC OR LATINO                         |   896                                      | \n",
       "| MULTIRACIAL                                |    74                                      | \n",
       "| NATIVE HAWAIIAN AND OTHER PACIFIC ISLANDER |   177                                      | \n",
       "| OTHER                                      |  1969                                      | \n",
       "| REFUSED                                    |     4                                      | \n",
       "| UNKNOWN/NOT DOCUMENTED                     | 28692                                      | \n",
       "| WHITE                                      | 39337                                      | \n",
       "\n",
       "\n"
      ],
      "text/plain": [
       "   Var1                                       Freq \n",
       "1  AMERICAN INDIAN AND ALASKA NATIVE             62\n",
       "2  ASIAN                                        261\n",
       "3  BLACK OR AFRICAN AMERICAN                   6436\n",
       "4  HISPANIC OR LATINO                           896\n",
       "5  MULTIRACIAL                                   74\n",
       "6  NATIVE HAWAIIAN AND OTHER PACIFIC ISLANDER   177\n",
       "7  OTHER                                       1969\n",
       "8  REFUSED                                        4\n",
       "9  UNKNOWN/NOT DOCUMENTED                     28692\n",
       "10 WHITE                                      39337"
      ]
     },
     "metadata": {},
     "output_type": "display_data"
    }
   ],
   "source": [
    "as.data.frame(table(patients$RACE)) #applying data frame makes the table easier to view"
   ]
  },
  {
   "cell_type": "markdown",
   "metadata": {},
   "source": [
    "### Shortening RACE variable level names\n",
    "Sometimes the dataset does not come with our preffered level names. For this example, we will shorten the names of the levels to make it easier to work with. This also makes figures more less complex. \n",
    "We will create a data table that has the corresponding shortened names for RACE levels. "
   ]
  },
  {
   "cell_type": "code",
   "execution_count": 4,
   "metadata": {
    "collapsed": false
   },
   "outputs": [
    {
     "data": {
      "text/html": [
       "<table>\n",
       "<thead><tr><th scope=col>RACE</th><th scope=col>RACE1</th></tr></thead>\n",
       "<tbody>\n",
       "\t<tr><td>AMERICAN INDIAN AND ALASKA NATIVE         </td><td>AIAN                                      </td></tr>\n",
       "\t<tr><td>ASIAN                                     </td><td>Asian                                     </td></tr>\n",
       "\t<tr><td>BLACK OR AFRICAN AMERICAN                 </td><td>Black                                     </td></tr>\n",
       "\t<tr><td>HISPANIC OR LATINO                        </td><td>Hispanic                                  </td></tr>\n",
       "\t<tr><td>MULTIRACIAL                               </td><td>Multiracial                               </td></tr>\n",
       "\t<tr><td>NATIVE HAWAIIAN AND OTHER PACIFIC ISLANDER</td><td>NHPI                                      </td></tr>\n",
       "\t<tr><td>OTHER                                     </td><td>Other                                     </td></tr>\n",
       "\t<tr><td>REFUSED                                   </td><td>Refused                                   </td></tr>\n",
       "\t<tr><td>UNKNOWN/NOT DOCUMENTED                    </td><td>Unknown                                   </td></tr>\n",
       "\t<tr><td>WHITE                                     </td><td>White                                     </td></tr>\n",
       "</tbody>\n",
       "</table>\n"
      ],
      "text/latex": [
       "\\begin{tabular}{r|ll}\n",
       " RACE & RACE1\\\\\n",
       "\\hline\n",
       "\t AMERICAN INDIAN AND ALASKA NATIVE          & AIAN                                      \\\\\n",
       "\t ASIAN                                      & Asian                                     \\\\\n",
       "\t BLACK OR AFRICAN AMERICAN                  & Black                                     \\\\\n",
       "\t HISPANIC OR LATINO                         & Hispanic                                  \\\\\n",
       "\t MULTIRACIAL                                & Multiracial                               \\\\\n",
       "\t NATIVE HAWAIIAN AND OTHER PACIFIC ISLANDER & NHPI                                      \\\\\n",
       "\t OTHER                                      & Other                                     \\\\\n",
       "\t REFUSED                                    & Refused                                   \\\\\n",
       "\t UNKNOWN/NOT DOCUMENTED                     & Unknown                                   \\\\\n",
       "\t WHITE                                      & White                                     \\\\\n",
       "\\end{tabular}\n"
      ],
      "text/markdown": [
       "\n",
       "RACE | RACE1 | \n",
       "|---|---|---|---|---|---|---|---|---|---|\n",
       "| AMERICAN INDIAN AND ALASKA NATIVE          | AIAN                                       | \n",
       "| ASIAN                                      | Asian                                      | \n",
       "| BLACK OR AFRICAN AMERICAN                  | Black                                      | \n",
       "| HISPANIC OR LATINO                         | Hispanic                                   | \n",
       "| MULTIRACIAL                                | Multiracial                                | \n",
       "| NATIVE HAWAIIAN AND OTHER PACIFIC ISLANDER | NHPI                                       | \n",
       "| OTHER                                      | Other                                      | \n",
       "| REFUSED                                    | Refused                                    | \n",
       "| UNKNOWN/NOT DOCUMENTED                     | Unknown                                    | \n",
       "| WHITE                                      | White                                      | \n",
       "\n",
       "\n"
      ],
      "text/plain": [
       "   RACE                                       RACE1      \n",
       "1  AMERICAN INDIAN AND ALASKA NATIVE          AIAN       \n",
       "2  ASIAN                                      Asian      \n",
       "3  BLACK OR AFRICAN AMERICAN                  Black      \n",
       "4  HISPANIC OR LATINO                         Hispanic   \n",
       "5  MULTIRACIAL                                Multiracial\n",
       "6  NATIVE HAWAIIAN AND OTHER PACIFIC ISLANDER NHPI       \n",
       "7  OTHER                                      Other      \n",
       "8  REFUSED                                    Refused    \n",
       "9  UNKNOWN/NOT DOCUMENTED                     Unknown    \n",
       "10 WHITE                                      White      "
      ]
     },
     "metadata": {},
     "output_type": "display_data"
    }
   ],
   "source": [
    "# We use the first column from the RACE table, and add the new names manually. \n",
    "RACE_levels <- data.frame(as.data.frame(table(patients$RACE))[,1], c(\"AIAN\", \"Asian\", \"Black\", \"Hispanic\", \"Multiracial\", \n",
    "                                   \"NHPI\", \"Other\", \"Refused\", \"Unknown\", \"White\"))\n",
    "\n",
    "colnames(RACE_levels) <-c(\"RACE\", \"RACE1\") #This changes the column names. \n",
    "\n",
    "RACE_levels"
   ]
  },
  {
   "cell_type": "markdown",
   "metadata": {},
   "source": [
    "There are several ways to change level names. Here we use the `merge` function to expand and apply our list to the patient dataset. We will merge by using the RACE variable, this will join the RACE1 variable to patient dataset and expand it using the RACE column. This process moves the RACE column to left and orders the data by RACE. These do not change the content, however to keep the data tidy, we will reorder the columns and return the order to STUDYID "
   ]
  },
  {
   "cell_type": "code",
   "execution_count": 5,
   "metadata": {
    "collapsed": false
   },
   "outputs": [
    {
     "data": {
      "text/html": [
       "<table>\n",
       "<thead><tr><th scope=col>Var1</th><th scope=col>Freq</th></tr></thead>\n",
       "<tbody>\n",
       "\t<tr><td>AIAN       </td><td>   62      </td></tr>\n",
       "\t<tr><td>Asian      </td><td>  261      </td></tr>\n",
       "\t<tr><td>Black      </td><td> 6436      </td></tr>\n",
       "\t<tr><td>Hispanic   </td><td>  896      </td></tr>\n",
       "\t<tr><td>Multiracial</td><td>   74      </td></tr>\n",
       "\t<tr><td>NHPI       </td><td>  177      </td></tr>\n",
       "\t<tr><td>Other      </td><td> 1969      </td></tr>\n",
       "\t<tr><td>Refused    </td><td>    4      </td></tr>\n",
       "\t<tr><td>Unknown    </td><td>28692      </td></tr>\n",
       "\t<tr><td>White      </td><td>39337      </td></tr>\n",
       "</tbody>\n",
       "</table>\n"
      ],
      "text/latex": [
       "\\begin{tabular}{r|ll}\n",
       " Var1 & Freq\\\\\n",
       "\\hline\n",
       "\t AIAN        &    62      \\\\\n",
       "\t Asian       &   261      \\\\\n",
       "\t Black       &  6436      \\\\\n",
       "\t Hispanic    &   896      \\\\\n",
       "\t Multiracial &    74      \\\\\n",
       "\t NHPI        &   177      \\\\\n",
       "\t Other       &  1969      \\\\\n",
       "\t Refused     &     4      \\\\\n",
       "\t Unknown     & 28692      \\\\\n",
       "\t White       & 39337      \\\\\n",
       "\\end{tabular}\n"
      ],
      "text/markdown": [
       "\n",
       "Var1 | Freq | \n",
       "|---|---|---|---|---|---|---|---|---|---|\n",
       "| AIAN        |    62       | \n",
       "| Asian       |   261       | \n",
       "| Black       |  6436       | \n",
       "| Hispanic    |   896       | \n",
       "| Multiracial |    74       | \n",
       "| NHPI        |   177       | \n",
       "| Other       |  1969       | \n",
       "| Refused     |     4       | \n",
       "| Unknown     | 28692       | \n",
       "| White       | 39337       | \n",
       "\n",
       "\n"
      ],
      "text/plain": [
       "   Var1        Freq \n",
       "1  AIAN           62\n",
       "2  Asian         261\n",
       "3  Black        6436\n",
       "4  Hispanic      896\n",
       "5  Multiracial    74\n",
       "6  NHPI          177\n",
       "7  Other        1969\n",
       "8  Refused         4\n",
       "9  Unknown     28692\n",
       "10 White       39337"
      ]
     },
     "metadata": {},
     "output_type": "display_data"
    }
   ],
   "source": [
    "patients <- merge(x = patients, y = RACE_levels, by = \"RACE\", all.x= TRUE) \n",
    "patients <- patients[, c(2:14, 1, 15)]  # re-ordering columns\n",
    "patients <- patients[order(patients$STUDYID), ]  #sorting the dataset by STUDYID\n",
    "as.data.frame(table(patients$RACE1), useNA = \"always\") #view the table"
   ]
  },
  {
   "cell_type": "markdown",
   "metadata": {},
   "source": [
    "### Visualizing RACE1 distribution using barplot\n",
    "Barplot uses table format for data source. \n",
    "We use the `sort` function to order the table by frequency."
   ]
  },
  {
   "cell_type": "code",
   "execution_count": 6,
   "metadata": {
    "collapsed": false
   },
   "outputs": [
    {
     "data": {
      "image/png": "[encoded data removed]",
      "text/plain": [
       "Plot with title \"RACE1 Distribution\""
      ]
     },
     "metadata": {},
     "output_type": "display_data"
    }
   ],
   "source": [
    "par(las=2) # make label text perpendicular to axis\n",
    "barplot(sort(table(patients$RACE1), decreasing = TRUE), main=\"RACE1 Distribution\", \n",
    "        horiz=FALSE, col = \"Navy\")\n",
    "par(las=0) # Returning label text setting back to default orientantion  \n"
   ]
  },
  {
   "cell_type": "markdown",
   "metadata": {},
   "source": [
    "### A- Recoding RACE1 levels to \"OTHER\", \"BLACK\" & \"WHITE\"\n",
    "A new column \"RACE2\" is created for this new category. \n",
    "The code below checks whether the RACE value is NOT \"WHITE\" AND is NOT \"BLACK..\", \n",
    "then returns \"OTHER\", IF NOT returns the same value as the RACE field. \n",
    "\n",
    "`ifelse` function (similar to Excel), assigns values based on the initial logical condition e.g. ifelse(5 < 3, \"Yes\", \"No\") returns \"No\"\n",
    "\n",
    "*Turning RACE2 value to \"character\" type removes unused levels hidden in the object. "
   ]
  },
  {
   "cell_type": "code",
   "execution_count": 7,
   "metadata": {
    "collapsed": false
   },
   "outputs": [
    {
     "data": {
      "text/html": [
       "'character'"
      ],
      "text/latex": [
       "'character'"
      ],
      "text/markdown": [
       "'character'"
      ],
      "text/plain": [
       "[1] \"character\""
      ]
     },
     "metadata": {},
     "output_type": "display_data"
    }
   ],
   "source": [
    "# Recoding RACE variable as RACE2 (Joins levels other than White/Black as \"OTHER\")\n",
    "patients$RACE2 <- ifelse((patients$RACE1 != \"White\") & (patients$RACE1 != \"Black\"), \n",
    "                          \"Other\", as.character(patients$RACE1))\n",
    "class(patients$RACE2)\n"
   ]
  },
  {
   "cell_type": "markdown",
   "metadata": {},
   "source": [
    "### Pie chart view of RACE2\n",
    "The table function needs an object (called factor) that can be interpreted as a categorical variable. Turning RACE2 variable class to \"factor\", makes this process possible. Here we will use the RACE2 table to create a simple pie chart.  "
   ]
  },
  {
   "cell_type": "code",
   "execution_count": 8,
   "metadata": {
    "collapsed": false
   },
   "outputs": [
    {
     "data": {
      "text/plain": [
       "\n",
       "Black Other White \n",
       " 6436 32135 39337 "
      ]
     },
     "metadata": {},
     "output_type": "display_data"
    },
    {
     "data": {
      "image/png": "[encoded data removed]",
      "text/plain": [
       "Plot with title \"RACE2\""
      ]
     },
     "metadata": {},
     "output_type": "display_data"
    }
   ],
   "source": [
    "#let's relevel the new RACE2 variable\n",
    "patients$RACE2 <- as.factor(patients$RACE2)\n",
    "table(patients$RACE2)\n",
    "\n",
    "# To create a simple Pie Chart use: pie(table(patients$RACE2))\n",
    "# To create a pie chart with numbers and title \n",
    "mytable <- table(patients$RACE2)\n",
    "mylabels <- paste(names(mytable), \"\\n\", mytable, sep=\" \")\n",
    "pie(mytable, labels = mylabels, main = \"RACE2\" ) "
   ]
  },
  {
   "cell_type": "markdown",
   "metadata": {},
   "source": [
    "### B- Grouping White/Black/Unknow vs Other \n",
    "We will be using using the `filter` function from dplyr package which is a part of Tidyverse. "
   ]
  },
  {
   "cell_type": "code",
   "execution_count": 9,
   "metadata": {
    "collapsed": false
   },
   "outputs": [
    {
     "name": "stderr",
     "output_type": "stream",
     "text": [
      "-- Attaching packages --------------------------------------- tidyverse 1.2.1 --\n",
      "<U+221A> ggplot2 3.0.0     <U+221A> purrr   0.2.5\n",
      "<U+221A> tibble  1.4.2     <U+221A> dplyr   0.7.6\n",
      "<U+221A> tidyr   0.8.1     <U+221A> stringr 1.3.1\n",
      "<U+221A> readr   1.1.1     <U+221A> forcats 0.3.0\n",
      "-- Conflicts ------------------------------------------ tidyverse_conflicts() --\n",
      "x dplyr::filter() masks stats::filter()\n",
      "x dplyr::lag()    masks stats::lag()\n"
     ]
    }
   ],
   "source": [
    "#Load tidyverse (includes dplyr)\n",
    "#install it if you have not yet\n",
    "# install.packages(\"tidyverse\")\n",
    "library(tidyverse)\n"
   ]
  },
  {
   "cell_type": "markdown",
   "metadata": {},
   "source": [
    "### A new column called \"RACE3\" is created for the new category\n",
    "The code below separates data conditioned on the levels of RACE1 variable. It divides dataset in 4 separate sub-data, creates RACE3 variable with their correspoind RACE levels and rejoins the datasets. \n",
    "\n",
    "*RACE3 value is formed as a \"character\" type. As mentioned before, we will transform it to \"factor\" to use it as a categorial variable. "
   ]
  },
  {
   "cell_type": "code",
   "execution_count": 10,
   "metadata": {
    "collapsed": false
   },
   "outputs": [
    {
     "data": {
      "text/html": [
       "'character'"
      ],
      "text/latex": [
       "'character'"
      ],
      "text/markdown": [
       "'character'"
      ],
      "text/plain": [
       "[1] \"character\""
      ]
     },
     "metadata": {},
     "output_type": "display_data"
    },
    {
     "data": {
      "text/plain": [
       "\n",
       "  Black   Other Unknown   White \n",
       "   6436    3443   28692   39337 "
      ]
     },
     "metadata": {},
     "output_type": "display_data"
    }
   ],
   "source": [
    "# The code below separates the dataset by the levels of RACE variable \n",
    "pt_w <- filter(patients, RACE1 == \"White\")\n",
    "pt_w$RACE3 <- \"White\"\n",
    "\n",
    "pt_b <- filter(patients, RACE1 == \"Black\")\n",
    "pt_b$RACE3 <- \"Black\"\n",
    "\n",
    "pt_u <- filter(patients, RACE1 == \"Unknown\")\n",
    "pt_u$RACE3 <- \"Unknown\"\n",
    "\n",
    "# If the field is NOT \"WHITE\" AND is NOT \"BLACK..\" AND is NOT \"UNKNOWN...\", \n",
    "# then creates the \"OTHER\" sub-data\n",
    "pt_o <- filter(patients, RACE1 != \"White\", RACE1 != \"Black\", RACE1 != \"Unknown\")\n",
    "pt_o$RACE3 <- \"Other\"\n",
    "\n",
    "patients <- rbind(pt_w, pt_b, pt_u, pt_o)\n",
    "rm(pt_w, pt_b, pt_u, pt_o)\n",
    "\n",
    "class(patients$RACE3)\n",
    "patients$RACE3 <- as.factor(patients$RACE3)\n",
    "table(patients$RACE3)\n"
   ]
  },
  {
   "cell_type": "markdown",
   "metadata": {},
   "source": [
    "### Grouped Bar graph view\n",
    "We are getting the data ready for the barplot function which expects the data in tabular format.\n",
    "In the exercise below, we are adding the deleted variable \"Unknown\" to RACE2 factor levels . \n",
    "The table (level) order also dictates the bar layout. We are placing the \"Unknow\" level to the end\n",
    "placing it to the end"
   ]
  },
  {
   "cell_type": "code",
   "execution_count": 11,
   "metadata": {
    "collapsed": false
   },
   "outputs": [
    {
     "data": {
      "text/plain": [
       "\n",
       "  Black   Other   White Unknown \n",
       "   6436   32135   39337       0 "
      ]
     },
     "metadata": {},
     "output_type": "display_data"
    },
    {
     "data": {
      "text/plain": [
       "\n",
       "  Black   Other   White Unknown \n",
       "   6436    3443   39337   28692 "
      ]
     },
     "metadata": {},
     "output_type": "display_data"
    },
    {
     "data": {
      "text/html": [
       "<table>\n",
       "<thead><tr><th></th><th scope=col>RACE2</th><th scope=col>RACE3</th></tr></thead>\n",
       "<tbody>\n",
       "\t<tr><th scope=row>Black</th><td> 6436</td><td> 6436</td></tr>\n",
       "\t<tr><th scope=row>Other</th><td>32135</td><td> 3443</td></tr>\n",
       "\t<tr><th scope=row>White</th><td>39337</td><td>39337</td></tr>\n",
       "\t<tr><th scope=row>Unknown</th><td>    0</td><td>28692</td></tr>\n",
       "</tbody>\n",
       "</table>\n"
      ],
      "text/latex": [
       "\\begin{tabular}{r|ll}\n",
       "  & RACE2 & RACE3\\\\\n",
       "\\hline\n",
       "\tBlack &  6436 &  6436\\\\\n",
       "\tOther & 32135 &  3443\\\\\n",
       "\tWhite & 39337 & 39337\\\\\n",
       "\tUnknown &     0 & 28692\\\\\n",
       "\\end{tabular}\n"
      ],
      "text/markdown": [
       "\n",
       "| <!--/--> | RACE2 | RACE3 | \n",
       "|---|---|---|---|\n",
       "| Black |  6436 |  6436 | \n",
       "| Other | 32135 |  3443 | \n",
       "| White | 39337 | 39337 | \n",
       "| Unknown |     0 | 28692 | \n",
       "\n",
       "\n"
      ],
      "text/plain": [
       "        RACE2 RACE3\n",
       "Black    6436  6436\n",
       "Other   32135  3443\n",
       "White   39337 39337\n",
       "Unknown     0 28692"
      ]
     },
     "metadata": {},
     "output_type": "display_data"
    }
   ],
   "source": [
    "# Grouped barplot\n",
    "# To add the columns to data, their length needs to be the same, so here we add the missing \"Unknown\" level to RACE2\n",
    "levels(patients$RACE2) <- c(levels(patients$RACE2),\"Unknown\") # adding \"Unknown\" level\n",
    "table(patients$RACE2)\n",
    "\n",
    "#Re-order the levels of RACE3 to match RACE2 before combining tables (moving level \"Unknown\" to the end)\n",
    "levels(patients$RACE3) <- list(\"Black\"=\"Black\",\"Other\"=\"Other\", \"White\"=\"White\", \"Unknown\"=\"Unknown\")\n",
    "table(patients$RACE3)\n",
    "\n",
    "RACEcounts <- cbind(table(patients$RACE2), table(patients$RACE3))\n",
    "colnames(RACEcounts) <- c(\"RACE2\", \"RACE3\")\n",
    "RACEcounts  #Final view of the data table\n"
   ]
  },
  {
   "cell_type": "markdown",
   "metadata": {},
   "source": [
    "### Grouped bar graph and setting the options"
   ]
  },
  {
   "cell_type": "code",
   "execution_count": 12,
   "metadata": {
    "collapsed": false
   },
   "outputs": [
    {
     "data": {
      "image/png": "[encoded data removed]",
      "text/plain": [
       "Plot with title \"\""
      ]
     },
     "metadata": {},
     "output_type": "display_data"
    }
   ],
   "source": [
    "barplot(RACEcounts, col=c(\"blue\",\"purple\",\"red\",\"pink\"), border = \"white\", \n",
    "        beside=TRUE, main=\"\") \n",
    "legend(\"top\", fill= c(\"blue\",\"purple\",\"red\",\"pink\"), legend=(rownames(RACEcounts)), bty=\"n\")"
   ]
  },
  {
   "cell_type": "markdown",
   "metadata": {},
   "source": [
    "### Visualize RACE 1,  RACE2,  & RACE3 with a Sankey plot "
   ]
  },
  {
   "cell_type": "code",
   "execution_count": 13,
   "metadata": {
    "collapsed": false
   },
   "outputs": [
    {
     "name": "stderr",
     "output_type": "stream",
     "text": [
      "Installing package into '/gpfs/home/u/k/ukirbiyi/Carbonate/R/x86_64-pc-linux-gnu-library/3.3'\n",
      "(as 'lib' is unspecified)\n"
     ]
    }
   ],
   "source": [
    "# creating sankey plot using alluvial diagrams\n",
    "install.packages(\"alluvial\")\n",
    "library(alluvial)\n",
    "\n"
   ]
  },
  {
   "cell_type": "markdown",
   "metadata": {},
   "source": [
    "### The code below prepares the data for Sankey plot visualization. \n",
    "We only need the 3 RACE(1-3) columns we created from the patients dataset. \n",
    "The `group_by` function summarises the RACE(1-3) groups counts. "
   ]
  },
  {
   "cell_type": "code",
   "execution_count": 14,
   "metadata": {
    "collapsed": false,
    "scrolled": true
   },
   "outputs": [
    {
     "data": {
      "text/html": [
       "<table>\n",
       "<thead><tr><th scope=col>RACE1</th><th scope=col>RACE2</th><th scope=col>RACE3</th><th scope=col>n</th></tr></thead>\n",
       "<tbody>\n",
       "\t<tr><td>Refused    </td><td>Other      </td><td>Other      </td><td>    4      </td></tr>\n",
       "\t<tr><td>AIAN       </td><td>Other      </td><td>Other      </td><td>   62      </td></tr>\n",
       "\t<tr><td>Multiracial</td><td>Other      </td><td>Other      </td><td>   74      </td></tr>\n",
       "\t<tr><td>NHPI       </td><td>Other      </td><td>Other      </td><td>  177      </td></tr>\n",
       "\t<tr><td>Asian      </td><td>Other      </td><td>Other      </td><td>  261      </td></tr>\n",
       "\t<tr><td>Hispanic   </td><td>Other      </td><td>Other      </td><td>  896      </td></tr>\n",
       "\t<tr><td>Other      </td><td>Other      </td><td>Other      </td><td> 1969      </td></tr>\n",
       "\t<tr><td>Black      </td><td>Black      </td><td>Black      </td><td> 6436      </td></tr>\n",
       "\t<tr><td>Unknown    </td><td>Other      </td><td>Unknown    </td><td>28692      </td></tr>\n",
       "\t<tr><td>White      </td><td>White      </td><td>White      </td><td>39337      </td></tr>\n",
       "</tbody>\n",
       "</table>\n"
      ],
      "text/latex": [
       "\\begin{tabular}{r|llll}\n",
       " RACE1 & RACE2 & RACE3 & n\\\\\n",
       "\\hline\n",
       "\t Refused     & Other       & Other       &     4      \\\\\n",
       "\t AIAN        & Other       & Other       &    62      \\\\\n",
       "\t Multiracial & Other       & Other       &    74      \\\\\n",
       "\t NHPI        & Other       & Other       &   177      \\\\\n",
       "\t Asian       & Other       & Other       &   261      \\\\\n",
       "\t Hispanic    & Other       & Other       &   896      \\\\\n",
       "\t Other       & Other       & Other       &  1969      \\\\\n",
       "\t Black       & Black       & Black       &  6436      \\\\\n",
       "\t Unknown     & Other       & Unknown     & 28692      \\\\\n",
       "\t White       & White       & White       & 39337      \\\\\n",
       "\\end{tabular}\n"
      ],
      "text/markdown": [
       "\n",
       "RACE1 | RACE2 | RACE3 | n | \n",
       "|---|---|---|---|---|---|---|---|---|---|\n",
       "| Refused     | Other       | Other       |     4       | \n",
       "| AIAN        | Other       | Other       |    62       | \n",
       "| Multiracial | Other       | Other       |    74       | \n",
       "| NHPI        | Other       | Other       |   177       | \n",
       "| Asian       | Other       | Other       |   261       | \n",
       "| Hispanic    | Other       | Other       |   896       | \n",
       "| Other       | Other       | Other       |  1969       | \n",
       "| Black       | Black       | Black       |  6436       | \n",
       "| Unknown     | Other       | Unknown     | 28692       | \n",
       "| White       | White       | White       | 39337       | \n",
       "\n",
       "\n"
      ],
      "text/plain": [
       "   RACE1       RACE2 RACE3   n    \n",
       "1  Refused     Other Other       4\n",
       "2  AIAN        Other Other      62\n",
       "3  Multiracial Other Other      74\n",
       "4  NHPI        Other Other     177\n",
       "5  Asian       Other Other     261\n",
       "6  Hispanic    Other Other     896\n",
       "7  Other       Other Other    1969\n",
       "8  Black       Black Black    6436\n",
       "9  Unknown     Other Unknown 28692\n",
       "10 White       White White   39337"
      ]
     },
     "metadata": {},
     "output_type": "display_data"
    }
   ],
   "source": [
    "pt <- select(patients, RACE1, RACE2, RACE3) #Using the select function from Dplyr\n",
    "pt <- pt %>% group_by(RACE1, RACE2, RACE3) %>% summarise(n= n()) #Using the group_by & summarise function from Dplyr\n",
    "# The two lines above can be shortened by further piping (%>%>) \n",
    "pt <- pt[ order(pt$n), ]\n",
    "pt #final view of the data to be visualized \n"
   ]
  },
  {
   "cell_type": "markdown",
   "metadata": {},
   "source": [
    "### Saving the patient data with the modified RACE columns\n",
    "To load the file, use the following code: <br>\n",
    "`load(file = \"patients.RDATA\")`"
   ]
  },
  {
   "cell_type": "code",
   "execution_count": 17,
   "metadata": {
    "collapsed": false
   },
   "outputs": [
    {
     "ename": "ERROR",
     "evalue": "Error in save(patients, file = \"patients.RDATA\"): object 'patients' not found\n",
     "output_type": "error",
     "traceback": [
      "Error in save(patients, file = \"patients.RDATA\"): object 'patients' not found\nTraceback:\n",
      "1. save(patients, file = \"patients.RDATA\")",
      "2. stop(sprintf(ngettext(n, \"object %s not found\", \"objects %s not found\"), \n .     paste(sQuote(list[!ok]), collapse = \", \")), domain = NA)"
     ]
    }
   ],
   "source": [
    "save(patients, file =\"patients.RDATA\")\n",
    "file.info(\"patients.RDATA\")\n",
    "rm(patients, RACE_levels, RACEcounts)"
   ]
  },
  {
   "cell_type": "markdown",
   "metadata": {},
   "source": [
    "### Sankey plot with custom colors and other options"
   ]
  },
  {
   "cell_type": "code",
   "execution_count": 16,
   "metadata": {
    "collapsed": false
   },
   "outputs": [
    {
     "data": {
      "image/png": "[encoded data removed]",
      "text/plain": [
       "plot without title"
      ]
     },
     "metadata": {},
     "output_type": "display_data"
    }
   ],
   "source": [
    "# This code output the graphs with warnings\n",
    "# R has the option to supress these warnings:\n",
    "options(warn = -1)\n",
    "\n",
    "alluvial(pt[,1:3], freq=pt$n, \n",
    "      col= ifelse(pt$RACE1 == \"White\", \"grey\",\n",
    "                            ifelse(pt$RACE1 == \"Black\", \"brown3\", \n",
    "                                   ifelse(pt$RACE1 == \"Unknown\", \"orange\", \n",
    "                                         ifelse(pt$RACE1 == \"Other\", \"blue\", \"red\" ) ) )), \n",
    "      border = \"black\", blocks= FALSE)\n",
    "\n"
   ]
  },
  {
   "cell_type": "markdown",
   "metadata": {
    "collapsed": true
   },
   "source": [
    "== END OF EX 1 =="
   ]
  }
 ],
 "metadata": {
  "kernelspec": {
   "display_name": "R 3.3.1",
   "language": "R",
   "name": "ir"
  },
  "language_info": {
   "codemirror_mode": "r",
   "file_extension": ".r",
   "mimetype": "text/x-r-source",
   "name": "R",
   "pygments_lexer": "r",
   "version": "3.3.1"
  }
 },
 "nbformat": 4,
 "nbformat_minor": 2
}
