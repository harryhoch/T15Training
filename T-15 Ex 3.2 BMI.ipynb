{
 "cells": [
  {
   "cell_type": "markdown",
   "metadata": {},
   "source": [
    "# The Indiana Training Program in Public and Population Health Informatics\n",
    "## EXERCISE 3  - BMI calculation using height and weight\n",
    "### 3.2 Cleaning, editing, transforming the file \n",
    "*Competencies addressed*  \n",
    " \n",
    " 1. I.1.2,\n",
    " 2. I.1.4\n",
    " 3. Acquire skills related to visualize data to discover patterns (II.1.3)"
   ]
  },
  {
   "cell_type": "markdown",
   "metadata": {},
   "source": [
    "*Learning objectives*  \n",
    " At the end of this module the student will be able to do the following:\n",
    "\n",
    "1. Various data cleaning, editing in R ...\n",
    "2. Transform the data from long to wide layout ..."
   ]
  },
  {
   "cell_type": "markdown",
   "metadata": {},
   "source": [
    "### 3.2- Cleaning the subset data, transforming (long to wide) and editing it\n",
    "\n",
    "In this exercise we will practice on data reshaping methods...."
   ]
  },
  {
   "cell_type": "markdown",
   "metadata": {},
   "source": [
    "### Let's pick up from where we left of at the end of Exercise 3.1\n",
    "we will load the \"wt_ht\" data."
   ]
  },
  {
   "cell_type": "code",
   "execution_count": 1,
   "metadata": {
    "collapsed": false,
    "scrolled": true
   },
   "outputs": [
    {
     "data": {
      "text/html": [
       "'/N/dc2/projects/T15/Sample'"
      ],
      "text/latex": [
       "'/N/dc2/projects/T15/Sample'"
      ],
      "text/markdown": [
       "'/N/dc2/projects/T15/Sample'"
      ],
      "text/plain": [
       "[1] \"/N/dc2/projects/T15/Sample\""
      ]
     },
     "metadata": {},
     "output_type": "display_data"
    },
    {
     "data": {
      "text/html": [
       "<ol class=list-inline>\n",
       "\t<li>'1-Descriptives.R'</li>\n",
       "\t<li>'2.1-Sampling.R'</li>\n",
       "\t<li>'2.2-Pertubration.R'</li>\n",
       "\t<li>'3-Exercises 1.R'</li>\n",
       "\t<li>'3-Exercises 32 Algorithm Check.R'</li>\n",
       "\t<li>'T-15 Ex 1 RACE.ipynb'</li>\n",
       "\t<li>'T-15 Ex 2 NDC.ipynb'</li>\n",
       "\t<li>'T-15 Ex 3 .1 BMI.ipynb'</li>\n",
       "\t<li>'T-15 Ex 3.2 BMI.ipynb'</li>\n",
       "\t<li>'T-15 Ex 3.3 BMI.ipynb'</li>\n",
       "\t<li>'Untitled.ipynb'</li>\n",
       "\t<li>'Untitled1.ipynb'</li>\n",
       "\t<li>'clinical_vars.csv'</li>\n",
       "\t<li>'diagnosis.csv'</li>\n",
       "\t<li>'encounters.csv'</li>\n",
       "\t<li>'ht_summary.csv'</li>\n",
       "\t<li>'medication.csv'</li>\n",
       "\t<li>'patients.csv'</li>\n",
       "\t<li>'t2d Exercises 1.ipynb'</li>\n",
       "\t<li>'unindc.dta'</li>\n",
       "\t<li>'wt_ht.RDATA'</li>\n",
       "\t<li>'wt_ht_wide.RDATA'</li>\n",
       "</ol>\n"
      ],
      "text/latex": [
       "\\begin{enumerate*}\n",
       "\\item '1-Descriptives.R'\n",
       "\\item '2.1-Sampling.R'\n",
       "\\item '2.2-Pertubration.R'\n",
       "\\item '3-Exercises 1.R'\n",
       "\\item '3-Exercises 32 Algorithm Check.R'\n",
       "\\item 'T-15 Ex 1 RACE.ipynb'\n",
       "\\item 'T-15 Ex 2 NDC.ipynb'\n",
       "\\item 'T-15 Ex 3 .1 BMI.ipynb'\n",
       "\\item 'T-15 Ex 3.2 BMI.ipynb'\n",
       "\\item 'T-15 Ex 3.3 BMI.ipynb'\n",
       "\\item 'Untitled.ipynb'\n",
       "\\item 'Untitled1.ipynb'\n",
       "\\item 'clinical\\_vars.csv'\n",
       "\\item 'diagnosis.csv'\n",
       "\\item 'encounters.csv'\n",
       "\\item 'ht\\_summary.csv'\n",
       "\\item 'medication.csv'\n",
       "\\item 'patients.csv'\n",
       "\\item 't2d Exercises 1.ipynb'\n",
       "\\item 'unindc.dta'\n",
       "\\item 'wt\\_ht.RDATA'\n",
       "\\item 'wt\\_ht\\_wide.RDATA'\n",
       "\\end{enumerate*}\n"
      ],
      "text/markdown": [
       "1. '1-Descriptives.R'\n",
       "2. '2.1-Sampling.R'\n",
       "3. '2.2-Pertubration.R'\n",
       "4. '3-Exercises 1.R'\n",
       "5. '3-Exercises 32 Algorithm Check.R'\n",
       "6. 'T-15 Ex 1 RACE.ipynb'\n",
       "7. 'T-15 Ex 2 NDC.ipynb'\n",
       "8. 'T-15 Ex 3 .1 BMI.ipynb'\n",
       "9. 'T-15 Ex 3.2 BMI.ipynb'\n",
       "10. 'T-15 Ex 3.3 BMI.ipynb'\n",
       "11. 'Untitled.ipynb'\n",
       "12. 'Untitled1.ipynb'\n",
       "13. 'clinical_vars.csv'\n",
       "14. 'diagnosis.csv'\n",
       "15. 'encounters.csv'\n",
       "16. 'ht_summary.csv'\n",
       "17. 'medication.csv'\n",
       "18. 'patients.csv'\n",
       "19. 't2d Exercises 1.ipynb'\n",
       "20. 'unindc.dta'\n",
       "21. 'wt_ht.RDATA'\n",
       "22. 'wt_ht_wide.RDATA'\n",
       "\n",
       "\n"
      ],
      "text/plain": [
       " [1] \"1-Descriptives.R\"                 \"2.1-Sampling.R\"                  \n",
       " [3] \"2.2-Pertubration.R\"               \"3-Exercises 1.R\"                 \n",
       " [5] \"3-Exercises 32 Algorithm Check.R\" \"T-15 Ex 1 RACE.ipynb\"            \n",
       " [7] \"T-15 Ex 2 NDC.ipynb\"              \"T-15 Ex 3 .1 BMI.ipynb\"          \n",
       " [9] \"T-15 Ex 3.2 BMI.ipynb\"            \"T-15 Ex 3.3 BMI.ipynb\"           \n",
       "[11] \"Untitled.ipynb\"                   \"Untitled1.ipynb\"                 \n",
       "[13] \"clinical_vars.csv\"                \"diagnosis.csv\"                   \n",
       "[15] \"encounters.csv\"                   \"ht_summary.csv\"                  \n",
       "[17] \"medication.csv\"                   \"patients.csv\"                    \n",
       "[19] \"t2d Exercises 1.ipynb\"            \"unindc.dta\"                      \n",
       "[21] \"wt_ht.RDATA\"                      \"wt_ht_wide.RDATA\"                "
      ]
     },
     "metadata": {},
     "output_type": "display_data"
    },
    {
     "data": {
      "text/html": [
       "<table>\n",
       "<thead><tr><th></th><th scope=col>size</th><th scope=col>isdir</th><th scope=col>mode</th><th scope=col>mtime</th><th scope=col>ctime</th><th scope=col>atime</th><th scope=col>uid</th><th scope=col>gid</th><th scope=col>uname</th><th scope=col>grname</th></tr></thead>\n",
       "<tbody>\n",
       "\t<tr><th scope=row>wt_ht.RDATA</th><td>672195             </td><td>FALSE              </td><td>660                </td><td>2018-10-21 14:13:05</td><td>2018-10-21 14:13:05</td><td>2018-10-21 01:50:49</td><td>498945             </td><td>1297               </td><td>ukirbiyi           </td><td>T15                </td></tr>\n",
       "</tbody>\n",
       "</table>\n"
      ],
      "text/latex": [
       "\\begin{tabular}{r|llllllllll}\n",
       "  & size & isdir & mode & mtime & ctime & atime & uid & gid & uname & grname\\\\\n",
       "\\hline\n",
       "\twt\\_ht.RDATA & 672195              & FALSE               & 660                 & 2018-10-21 14:13:05 & 2018-10-21 14:13:05 & 2018-10-21 01:50:49 & 498945              & 1297                & ukirbiyi            & T15                \\\\\n",
       "\\end{tabular}\n"
      ],
      "text/markdown": [
       "\n",
       "| <!--/--> | size | isdir | mode | mtime | ctime | atime | uid | gid | uname | grname | \n",
       "|---|\n",
       "| wt_ht.RDATA | 672195              | FALSE               | 660                 | 2018-10-21 14:13:05 | 2018-10-21 14:13:05 | 2018-10-21 01:50:49 | 498945              | 1297                | ukirbiyi            | T15                 | \n",
       "\n",
       "\n"
      ],
      "text/plain": [
       "            size   isdir mode mtime               ctime              \n",
       "wt_ht.RDATA 672195 FALSE 660  2018-10-21 14:13:05 2018-10-21 14:13:05\n",
       "            atime               uid    gid  uname    grname\n",
       "wt_ht.RDATA 2018-10-21 01:50:49 498945 1297 ukirbiyi T15   "
      ]
     },
     "metadata": {},
     "output_type": "display_data"
    }
   ],
   "source": [
    "getwd()  #check current directory\n",
    "setwd(\"/N/dc2/projects/T15/Sample\") # setting working folder\n",
    "list.files()\n",
    "file.info(\"wt_ht.RDATA\")\n",
    "load(file = \"wt_ht.RDATA\")"
   ]
  },
  {
   "cell_type": "markdown",
   "metadata": {},
   "source": [
    "### Cleaning the wt_ht data\n",
    "As noted in Ex 3.1, fread function reads the OBS variable as character. We will change the class to \"factor\".\n",
    "If R base is used (the usual way) to read the file, the OBS variable is read as \"factor\" first.*<br>\n",
    "\n",
    "`*`If class querry returns \"factor\", to remove the hidden levels of the OBS variable, we will need to transform the OBS variable to character and back to factor again. The following code does that: <br>\n",
    "`wt_ht$OBS <- as.factor(as.character(wt_ht$OBS))`"
   ]
  },
  {
   "cell_type": "code",
   "execution_count": 2,
   "metadata": {
    "collapsed": false
   },
   "outputs": [
    {
     "data": {
      "text/html": [
       "'character'"
      ],
      "text/latex": [
       "'character'"
      ],
      "text/markdown": [
       "'character'"
      ],
      "text/plain": [
       "[1] \"character\""
      ]
     },
     "metadata": {},
     "output_type": "display_data"
    },
    {
     "data": {
      "text/html": [
       "<table>\n",
       "<thead><tr><th scope=col>Var1</th><th scope=col>Freq</th></tr></thead>\n",
       "<tbody>\n",
       "\t<tr><td>BMI          </td><td> 9217        </td></tr>\n",
       "\t<tr><td>Height Metric</td><td>15897        </td></tr>\n",
       "\t<tr><td>Height(In)   </td><td>35938        </td></tr>\n",
       "\t<tr><td>Weight Lbs   </td><td>81715        </td></tr>\n",
       "\t<tr><td>Weight Metric</td><td>43833        </td></tr>\n",
       "</tbody>\n",
       "</table>\n"
      ],
      "text/latex": [
       "\\begin{tabular}{r|ll}\n",
       " Var1 & Freq\\\\\n",
       "\\hline\n",
       "\t BMI           &  9217        \\\\\n",
       "\t Height Metric & 15897        \\\\\n",
       "\t Height(In)    & 35938        \\\\\n",
       "\t Weight Lbs    & 81715        \\\\\n",
       "\t Weight Metric & 43833        \\\\\n",
       "\\end{tabular}\n"
      ],
      "text/markdown": [
       "\n",
       "Var1 | Freq | \n",
       "|---|---|---|---|---|\n",
       "| BMI           |  9217         | \n",
       "| Height Metric | 15897         | \n",
       "| Height(In)    | 35938         | \n",
       "| Weight Lbs    | 81715         | \n",
       "| Weight Metric | 43833         | \n",
       "\n",
       "\n"
      ],
      "text/plain": [
       "  Var1          Freq \n",
       "1 BMI            9217\n",
       "2 Height Metric 15897\n",
       "3 Height(In)    35938\n",
       "4 Weight Lbs    81715\n",
       "5 Weight Metric 43833"
      ]
     },
     "metadata": {},
     "output_type": "display_data"
    }
   ],
   "source": [
    "class(wt_ht$OBS)\n",
    "wt_ht$OBS <- as.factor(wt_ht$OBS)\n",
    "as.data.frame(table(wt_ht$OBS))"
   ]
  },
  {
   "cell_type": "markdown",
   "metadata": {},
   "source": [
    "### Removing and reordering  columns\n",
    "When we explore our dataset, we see there are no valuable information in the columns named \"TYPE\", \"CODED_CODE\", and \"CODE_NAME\". We remove these columns and reorder the left ones to keep our data tidy.<br>\n",
    "\n",
    "We will remove and reorder the columns using dplyr's `select` function. This also can be done with base R. <br>\n",
    "We will first call the tidyverse package. "
   ]
  },
  {
   "cell_type": "code",
   "execution_count": 3,
   "metadata": {
    "collapsed": false
   },
   "outputs": [
    {
     "name": "stderr",
     "output_type": "stream",
     "text": [
      "-- Attaching packages --------------------------------------- tidyverse 1.2.1 --\n",
      "<U+221A> ggplot2 3.0.0     <U+221A> purrr   0.2.5\n",
      "<U+221A> tibble  1.4.2     <U+221A> dplyr   0.7.6\n",
      "<U+221A> tidyr   0.8.1     <U+221A> stringr 1.3.1\n",
      "<U+221A> readr   1.1.1     <U+221A> forcats 0.3.0\n",
      "-- Conflicts ------------------------------------------ tidyverse_conflicts() --\n",
      "x dplyr::filter() masks stats::filter()\n",
      "x dplyr::lag()    masks stats::lag()\n"
     ]
    }
   ],
   "source": [
    "library (tidyverse) #dplyr is a part of tidyverse package"
   ]
  },
  {
   "cell_type": "code",
   "execution_count": 4,
   "metadata": {
    "collapsed": false
   },
   "outputs": [
    {
     "data": {
      "text/html": [
       "<table>\n",
       "<thead><tr><th scope=col>STUDYID</th><th scope=col>OBS</th><th scope=col>OBSVALUE</th><th scope=col>DAYS_VIS_INDEX</th></tr></thead>\n",
       "<tbody>\n",
       "\t<tr><td>16        </td><td>Weight Lbs</td><td>144       </td><td>-392      </td></tr>\n",
       "\t<tr><td>16        </td><td>Weight Lbs</td><td>148       </td><td>-382      </td></tr>\n",
       "\t<tr><td>16        </td><td>Weight Lbs</td><td>145       </td><td>-266      </td></tr>\n",
       "\t<tr><td>16        </td><td>Weight Lbs</td><td>152       </td><td>-245      </td></tr>\n",
       "\t<tr><td>16        </td><td>Weight Lbs</td><td>144       </td><td>-200      </td></tr>\n",
       "\t<tr><td>16        </td><td>Weight Lbs</td><td>145       </td><td>-154      </td></tr>\n",
       "</tbody>\n",
       "</table>\n"
      ],
      "text/latex": [
       "\\begin{tabular}{r|llll}\n",
       " STUDYID & OBS & OBSVALUE & DAYS\\_VIS\\_INDEX\\\\\n",
       "\\hline\n",
       "\t 16         & Weight Lbs & 144        & -392      \\\\\n",
       "\t 16         & Weight Lbs & 148        & -382      \\\\\n",
       "\t 16         & Weight Lbs & 145        & -266      \\\\\n",
       "\t 16         & Weight Lbs & 152        & -245      \\\\\n",
       "\t 16         & Weight Lbs & 144        & -200      \\\\\n",
       "\t 16         & Weight Lbs & 145        & -154      \\\\\n",
       "\\end{tabular}\n"
      ],
      "text/markdown": [
       "\n",
       "STUDYID | OBS | OBSVALUE | DAYS_VIS_INDEX | \n",
       "|---|---|---|---|---|---|\n",
       "| 16         | Weight Lbs | 144        | -392       | \n",
       "| 16         | Weight Lbs | 148        | -382       | \n",
       "| 16         | Weight Lbs | 145        | -266       | \n",
       "| 16         | Weight Lbs | 152        | -245       | \n",
       "| 16         | Weight Lbs | 144        | -200       | \n",
       "| 16         | Weight Lbs | 145        | -154       | \n",
       "\n",
       "\n"
      ],
      "text/plain": [
       "  STUDYID OBS        OBSVALUE DAYS_VIS_INDEX\n",
       "1 16      Weight Lbs 144      -392          \n",
       "2 16      Weight Lbs 148      -382          \n",
       "3 16      Weight Lbs 145      -266          \n",
       "4 16      Weight Lbs 152      -245          \n",
       "5 16      Weight Lbs 144      -200          \n",
       "6 16      Weight Lbs 145      -154          "
      ]
     },
     "metadata": {},
     "output_type": "display_data"
    },
    {
     "data": {
      "text/html": [
       "<table>\n",
       "<thead><tr><th scope=col>STUDYID</th><th scope=col>DAYS_VIS_INDEX</th><th scope=col>OBS</th><th scope=col>OBSVALUE</th></tr></thead>\n",
       "<tbody>\n",
       "\t<tr><td>16        </td><td>-392      </td><td>Weight Lbs</td><td>144       </td></tr>\n",
       "\t<tr><td>16        </td><td>-382      </td><td>Weight Lbs</td><td>148       </td></tr>\n",
       "\t<tr><td>16        </td><td>-266      </td><td>Weight Lbs</td><td>145       </td></tr>\n",
       "\t<tr><td>16        </td><td>-245      </td><td>Weight Lbs</td><td>152       </td></tr>\n",
       "\t<tr><td>16        </td><td>-200      </td><td>Weight Lbs</td><td>144       </td></tr>\n",
       "\t<tr><td>16        </td><td>-154      </td><td>Weight Lbs</td><td>145       </td></tr>\n",
       "</tbody>\n",
       "</table>\n"
      ],
      "text/latex": [
       "\\begin{tabular}{r|llll}\n",
       " STUDYID & DAYS\\_VIS\\_INDEX & OBS & OBSVALUE\\\\\n",
       "\\hline\n",
       "\t 16         & -392       & Weight Lbs & 144       \\\\\n",
       "\t 16         & -382       & Weight Lbs & 148       \\\\\n",
       "\t 16         & -266       & Weight Lbs & 145       \\\\\n",
       "\t 16         & -245       & Weight Lbs & 152       \\\\\n",
       "\t 16         & -200       & Weight Lbs & 144       \\\\\n",
       "\t 16         & -154       & Weight Lbs & 145       \\\\\n",
       "\\end{tabular}\n"
      ],
      "text/markdown": [
       "\n",
       "STUDYID | DAYS_VIS_INDEX | OBS | OBSVALUE | \n",
       "|---|---|---|---|---|---|\n",
       "| 16         | -392       | Weight Lbs | 144        | \n",
       "| 16         | -382       | Weight Lbs | 148        | \n",
       "| 16         | -266       | Weight Lbs | 145        | \n",
       "| 16         | -245       | Weight Lbs | 152        | \n",
       "| 16         | -200       | Weight Lbs | 144        | \n",
       "| 16         | -154       | Weight Lbs | 145        | \n",
       "\n",
       "\n"
      ],
      "text/plain": [
       "  STUDYID DAYS_VIS_INDEX OBS        OBSVALUE\n",
       "1 16      -392           Weight Lbs 144     \n",
       "2 16      -382           Weight Lbs 148     \n",
       "3 16      -266           Weight Lbs 145     \n",
       "4 16      -245           Weight Lbs 152     \n",
       "5 16      -200           Weight Lbs 144     \n",
       "6 16      -154           Weight Lbs 145     "
      ]
     },
     "metadata": {},
     "output_type": "display_data"
    }
   ],
   "source": [
    "head(wt_ht)\n",
    "wt_ht <- select(wt_ht, STUDYID, DAYS_VIS_INDEX, OBS, OBSVALUE) \n",
    "#wt_ht <- wt_ht[,c(1,7,2,4)]  #using base R\n",
    "head(wt_ht)"
   ]
  },
  {
   "cell_type": "markdown",
   "metadata": {},
   "source": [
    "### Sorting column values (from low to high/A to Z)\n",
    "We will sort the columns starting with STUDYID, then following with DAYS_VIS_INDEX, OBS, OBSVALUE. <br>\n",
    "This would not only tidy the data but would be necessary for running the loop to find the same observations with different values for a patient. "
   ]
  },
  {
   "cell_type": "code",
   "execution_count": 5,
   "metadata": {
    "collapsed": false
   },
   "outputs": [
    {
     "data": {
      "text/html": [
       "<table>\n",
       "<thead><tr><th scope=col>STUDYID</th><th scope=col>DAYS_VIS_INDEX</th><th scope=col>OBS</th><th scope=col>OBSVALUE</th></tr></thead>\n",
       "<tbody>\n",
       "\t<tr><td>16        </td><td>-392      </td><td>Weight Lbs</td><td>144       </td></tr>\n",
       "\t<tr><td>16        </td><td>-382      </td><td>Weight Lbs</td><td>148       </td></tr>\n",
       "\t<tr><td>16        </td><td>-266      </td><td>Weight Lbs</td><td>145       </td></tr>\n",
       "\t<tr><td>16        </td><td>-245      </td><td>Weight Lbs</td><td>152       </td></tr>\n",
       "\t<tr><td>16        </td><td>-200      </td><td>Weight Lbs</td><td>144       </td></tr>\n",
       "\t<tr><td>16        </td><td>-154      </td><td>Weight Lbs</td><td>145       </td></tr>\n",
       "</tbody>\n",
       "</table>\n"
      ],
      "text/latex": [
       "\\begin{tabular}{r|llll}\n",
       " STUDYID & DAYS\\_VIS\\_INDEX & OBS & OBSVALUE\\\\\n",
       "\\hline\n",
       "\t 16         & -392       & Weight Lbs & 144       \\\\\n",
       "\t 16         & -382       & Weight Lbs & 148       \\\\\n",
       "\t 16         & -266       & Weight Lbs & 145       \\\\\n",
       "\t 16         & -245       & Weight Lbs & 152       \\\\\n",
       "\t 16         & -200       & Weight Lbs & 144       \\\\\n",
       "\t 16         & -154       & Weight Lbs & 145       \\\\\n",
       "\\end{tabular}\n"
      ],
      "text/markdown": [
       "\n",
       "STUDYID | DAYS_VIS_INDEX | OBS | OBSVALUE | \n",
       "|---|---|---|---|---|---|\n",
       "| 16         | -392       | Weight Lbs | 144        | \n",
       "| 16         | -382       | Weight Lbs | 148        | \n",
       "| 16         | -266       | Weight Lbs | 145        | \n",
       "| 16         | -245       | Weight Lbs | 152        | \n",
       "| 16         | -200       | Weight Lbs | 144        | \n",
       "| 16         | -154       | Weight Lbs | 145        | \n",
       "\n",
       "\n"
      ],
      "text/plain": [
       "  STUDYID DAYS_VIS_INDEX OBS        OBSVALUE\n",
       "1 16      -392           Weight Lbs 144     \n",
       "2 16      -382           Weight Lbs 148     \n",
       "3 16      -266           Weight Lbs 145     \n",
       "4 16      -245           Weight Lbs 152     \n",
       "5 16      -200           Weight Lbs 144     \n",
       "6 16      -154           Weight Lbs 145     "
      ]
     },
     "metadata": {},
     "output_type": "display_data"
    }
   ],
   "source": [
    "wt_ht <- wt_ht[order(wt_ht$STUDYID, wt_ht$DAYS_VIS_INDEX, wt_ht$OBS, wt_ht$OBSVALUE),]\n",
    "head(wt_ht)"
   ]
  },
  {
   "cell_type": "markdown",
   "metadata": {},
   "source": [
    "### Removing repeat-rows (rows with same values in each field)\n",
    "These observations have the same day, same observation with the same value for the same patient. `unique` function collapses these information into one (row). <br>\n",
    "Here we are also changing the name of the data to `wt_ht_uniq`. Changing the name of the processed data at milestones, in case of an error, saves time by not having to start our code from the beginning.  "
   ]
  },
  {
   "cell_type": "code",
   "execution_count": 6,
   "metadata": {
    "collapsed": false
   },
   "outputs": [
    {
     "data": {
      "text/html": [
       "186600"
      ],
      "text/latex": [
       "186600"
      ],
      "text/markdown": [
       "186600"
      ],
      "text/plain": [
       "[1] 186600"
      ]
     },
     "metadata": {},
     "output_type": "display_data"
    },
    {
     "data": {
      "text/html": [
       "20554"
      ],
      "text/latex": [
       "20554"
      ],
      "text/markdown": [
       "20554"
      ],
      "text/plain": [
       "[1] 20554"
      ]
     },
     "metadata": {},
     "output_type": "display_data"
    }
   ],
   "source": [
    "nrow(wt_ht) #current row count\n",
    "wt_ht_uniq <- unique(wt_ht) # unique function collapses the rows with the same value into one row. \n",
    "nrow(wt_ht)- nrow(wt_ht_uniq)  # count of repeat rows removed"
   ]
  },
  {
   "cell_type": "markdown",
   "metadata": {},
   "source": [
    "### Checking for observations of the same day with different measurement values (for the same patient)\n",
    "The code below checks wether the row matches the row under it (except the \"OBSVALUE\" field),\n",
    "ie, starting with the STUDYID, DAYS_VIS_INDEX and OBS fields are checked for match. \n",
    "The loop goes through rows one by one (column values were sorted beforehand).\n",
    "* The 3 conditions are checked in the order above \n",
    "* If the condition does match, the condition goes to the next condition\n",
    "* If the condition does NOT match, the loop goes to next row\n",
    "* When all the 3 conditions match ,\"err\" variable is assigned \"1\" and the value difference \"diff\" (difference between the OBSVALUE fields of the two rows) is noted. \n"
   ]
  },
  {
   "cell_type": "code",
   "execution_count": 7,
   "metadata": {
    "collapsed": false
   },
   "outputs": [
    {
     "data": {
      "text/html": [
       "<table>\n",
       "<thead><tr><th scope=col>STUDYID</th><th scope=col>DAYS_VIS_INDEX</th><th scope=col>OBS</th><th scope=col>OBSVALUE</th><th scope=col>err</th><th scope=col>diff</th></tr></thead>\n",
       "<tbody>\n",
       "\t<tr><td>16        </td><td>-392      </td><td>Weight Lbs</td><td>144       </td><td>0         </td><td>NA        </td></tr>\n",
       "\t<tr><td>16        </td><td>-382      </td><td>Weight Lbs</td><td>148       </td><td>0         </td><td>NA        </td></tr>\n",
       "\t<tr><td>16        </td><td>-266      </td><td>Weight Lbs</td><td>145       </td><td>0         </td><td>NA        </td></tr>\n",
       "\t<tr><td>16        </td><td>-245      </td><td>Weight Lbs</td><td>152       </td><td>0         </td><td>NA        </td></tr>\n",
       "\t<tr><td>16        </td><td>-200      </td><td>Weight Lbs</td><td>144       </td><td>0         </td><td>NA        </td></tr>\n",
       "\t<tr><td>16        </td><td>-154      </td><td>Weight Lbs</td><td>145       </td><td>0         </td><td>NA        </td></tr>\n",
       "\t<tr><td>16        </td><td>-119      </td><td>Weight Lbs</td><td>148       </td><td>0         </td><td>NA        </td></tr>\n",
       "\t<tr><td>16        </td><td> -21      </td><td>Weight Lbs</td><td>132       </td><td>0         </td><td>NA        </td></tr>\n",
       "\t<tr><td>16        </td><td> -18      </td><td>Weight Lbs</td><td>133       </td><td>0         </td><td>NA        </td></tr>\n",
       "\t<tr><td>16        </td><td>   4      </td><td>Weight Lbs</td><td>138       </td><td>0         </td><td>NA        </td></tr>\n",
       "</tbody>\n",
       "</table>\n"
      ],
      "text/latex": [
       "\\begin{tabular}{r|llllll}\n",
       " STUDYID & DAYS\\_VIS\\_INDEX & OBS & OBSVALUE & err & diff\\\\\n",
       "\\hline\n",
       "\t 16         & -392       & Weight Lbs & 144        & 0          & NA        \\\\\n",
       "\t 16         & -382       & Weight Lbs & 148        & 0          & NA        \\\\\n",
       "\t 16         & -266       & Weight Lbs & 145        & 0          & NA        \\\\\n",
       "\t 16         & -245       & Weight Lbs & 152        & 0          & NA        \\\\\n",
       "\t 16         & -200       & Weight Lbs & 144        & 0          & NA        \\\\\n",
       "\t 16         & -154       & Weight Lbs & 145        & 0          & NA        \\\\\n",
       "\t 16         & -119       & Weight Lbs & 148        & 0          & NA        \\\\\n",
       "\t 16         &  -21       & Weight Lbs & 132        & 0          & NA        \\\\\n",
       "\t 16         &  -18       & Weight Lbs & 133        & 0          & NA        \\\\\n",
       "\t 16         &    4       & Weight Lbs & 138        & 0          & NA        \\\\\n",
       "\\end{tabular}\n"
      ],
      "text/markdown": [
       "\n",
       "STUDYID | DAYS_VIS_INDEX | OBS | OBSVALUE | err | diff | \n",
       "|---|---|---|---|---|---|---|---|---|---|\n",
       "| 16         | -392       | Weight Lbs | 144        | 0          | NA         | \n",
       "| 16         | -382       | Weight Lbs | 148        | 0          | NA         | \n",
       "| 16         | -266       | Weight Lbs | 145        | 0          | NA         | \n",
       "| 16         | -245       | Weight Lbs | 152        | 0          | NA         | \n",
       "| 16         | -200       | Weight Lbs | 144        | 0          | NA         | \n",
       "| 16         | -154       | Weight Lbs | 145        | 0          | NA         | \n",
       "| 16         | -119       | Weight Lbs | 148        | 0          | NA         | \n",
       "| 16         |  -21       | Weight Lbs | 132        | 0          | NA         | \n",
       "| 16         |  -18       | Weight Lbs | 133        | 0          | NA         | \n",
       "| 16         |    4       | Weight Lbs | 138        | 0          | NA         | \n",
       "\n",
       "\n"
      ],
      "text/plain": [
       "   STUDYID DAYS_VIS_INDEX OBS        OBSVALUE err diff\n",
       "1  16      -392           Weight Lbs 144      0   NA  \n",
       "2  16      -382           Weight Lbs 148      0   NA  \n",
       "3  16      -266           Weight Lbs 145      0   NA  \n",
       "4  16      -245           Weight Lbs 152      0   NA  \n",
       "5  16      -200           Weight Lbs 144      0   NA  \n",
       "6  16      -154           Weight Lbs 145      0   NA  \n",
       "7  16      -119           Weight Lbs 148      0   NA  \n",
       "8  16       -21           Weight Lbs 132      0   NA  \n",
       "9  16       -18           Weight Lbs 133      0   NA  \n",
       "10 16         4           Weight Lbs 138      0   NA  "
      ]
     },
     "metadata": {},
     "output_type": "display_data"
    }
   ],
   "source": [
    "# Let's create new variables for error tracking\n",
    "wt_ht_uniq$err <- 0\n",
    "wt_ht_uniq$diff <- NA\n",
    "\n",
    "for (i in 1:(length(wt_ht_uniq$STUDYID)-1)) {\n",
    "  if(wt_ht_uniq[i,1] != wt_ht_uniq[i+1,1]) next #loop at STUDYID level\n",
    "    else { if(wt_ht_uniq[i,2] != wt_ht_uniq[i+1,2]) next #loop at DAYS_VIS_INDEX level\n",
    "     else { if(wt_ht_uniq[i,3] != wt_ht_uniq[i+1,3]) next #loop at OBS level\n",
    "       else {\n",
    "         wt_ht_uniq$err[i] <-1\n",
    "         wt_ht_uniq$err[i+1] <-1\n",
    "         wt_ht_uniq$diff[i] <-  wt_ht_uniq[i+1,4] - wt_ht_uniq[i,4]\n",
    "         wt_ht_uniq$diff[i+1] <-  wt_ht_uniq[i,4] - wt_ht_uniq[i+1,4]\n",
    "         }\n",
    "     }\n",
    "    }\n",
    "}\n",
    "\n",
    "head(wt_ht_uniq, n=10)"
   ]
  },
  {
   "cell_type": "markdown",
   "metadata": {},
   "source": [
    "### Number of conflicting observation values for the same day for same patient"
   ]
  },
  {
   "cell_type": "code",
   "execution_count": 8,
   "metadata": {
    "collapsed": false
   },
   "outputs": [
    {
     "data": {
      "text/html": [
       "13429"
      ],
      "text/latex": [
       "13429"
      ],
      "text/markdown": [
       "13429"
      ],
      "text/plain": [
       "[1] 13429"
      ]
     },
     "metadata": {},
     "output_type": "display_data"
    }
   ],
   "source": [
    "# returns 13429 rows (OBS that has same visit date)\n",
    "sum(wt_ht_uniq$err)"
   ]
  },
  {
   "cell_type": "markdown",
   "metadata": {},
   "source": [
    "### Deleting errors\n",
    "Because the number of errors is low, we simply choose to delete these rows with conflicting values. However, it is possible to use the \"diff\" variable created to evaluate and decide to keep a number of rows with smaller observation value difference/ "
   ]
  },
  {
   "cell_type": "code",
   "execution_count": 9,
   "metadata": {
    "collapsed": true
   },
   "outputs": [],
   "source": [
    "# Using dplyr and piping\n",
    "wt_ht_uniq <- wt_ht_uniq %>% filter(err == 0)\n",
    "#using base R\n",
    "# wt_ht_uniq <- wt_ht_uniq[wt_ht_uniq$err == 0,]"
   ]
  },
  {
   "cell_type": "markdown",
   "metadata": {},
   "source": [
    "### Transforming the data set from long to wide format \n",
    "Here is how the transformations works: \n",
    "* Name of column containing the new column names is \"OBS\". This creates the \"Weight Lbs\", \"Weight Metric\", \"Height(In)\", \"Height Metric\" and \"BMI\" co.lumns\n",
    "* Name of column containing values (for these columns) is \"OBSVALUE\". The values are moved to their correcponding collumns.\n",
    "* If there are more than one observations for the same day, the values are recorded in the same row. Note that, we have removed all the same observations of the same day for each patient. "
   ]
  },
  {
   "cell_type": "code",
   "execution_count": 10,
   "metadata": {
    "collapsed": false
   },
   "outputs": [
    {
     "data": {
      "text/html": [
       "<table>\n",
       "<thead><tr><th scope=col>STUDYID</th><th scope=col>DAYS_VIS_INDEX</th><th scope=col>OBS</th><th scope=col>OBSVALUE</th><th scope=col>err</th><th scope=col>diff</th></tr></thead>\n",
       "<tbody>\n",
       "\t<tr><td>16        </td><td>-392      </td><td>Weight Lbs</td><td>144       </td><td>0         </td><td>NA        </td></tr>\n",
       "\t<tr><td>16        </td><td>-382      </td><td>Weight Lbs</td><td>148       </td><td>0         </td><td>NA        </td></tr>\n",
       "\t<tr><td>16        </td><td>-266      </td><td>Weight Lbs</td><td>145       </td><td>0         </td><td>NA        </td></tr>\n",
       "\t<tr><td>16        </td><td>-245      </td><td>Weight Lbs</td><td>152       </td><td>0         </td><td>NA        </td></tr>\n",
       "\t<tr><td>16        </td><td>-200      </td><td>Weight Lbs</td><td>144       </td><td>0         </td><td>NA        </td></tr>\n",
       "\t<tr><td>16        </td><td>-154      </td><td>Weight Lbs</td><td>145       </td><td>0         </td><td>NA        </td></tr>\n",
       "</tbody>\n",
       "</table>\n"
      ],
      "text/latex": [
       "\\begin{tabular}{r|llllll}\n",
       " STUDYID & DAYS\\_VIS\\_INDEX & OBS & OBSVALUE & err & diff\\\\\n",
       "\\hline\n",
       "\t 16         & -392       & Weight Lbs & 144        & 0          & NA        \\\\\n",
       "\t 16         & -382       & Weight Lbs & 148        & 0          & NA        \\\\\n",
       "\t 16         & -266       & Weight Lbs & 145        & 0          & NA        \\\\\n",
       "\t 16         & -245       & Weight Lbs & 152        & 0          & NA        \\\\\n",
       "\t 16         & -200       & Weight Lbs & 144        & 0          & NA        \\\\\n",
       "\t 16         & -154       & Weight Lbs & 145        & 0          & NA        \\\\\n",
       "\\end{tabular}\n"
      ],
      "text/markdown": [
       "\n",
       "STUDYID | DAYS_VIS_INDEX | OBS | OBSVALUE | err | diff | \n",
       "|---|---|---|---|---|---|\n",
       "| 16         | -392       | Weight Lbs | 144        | 0          | NA         | \n",
       "| 16         | -382       | Weight Lbs | 148        | 0          | NA         | \n",
       "| 16         | -266       | Weight Lbs | 145        | 0          | NA         | \n",
       "| 16         | -245       | Weight Lbs | 152        | 0          | NA         | \n",
       "| 16         | -200       | Weight Lbs | 144        | 0          | NA         | \n",
       "| 16         | -154       | Weight Lbs | 145        | 0          | NA         | \n",
       "\n",
       "\n"
      ],
      "text/plain": [
       "  STUDYID DAYS_VIS_INDEX OBS        OBSVALUE err diff\n",
       "1 16      -392           Weight Lbs 144      0   NA  \n",
       "2 16      -382           Weight Lbs 148      0   NA  \n",
       "3 16      -266           Weight Lbs 145      0   NA  \n",
       "4 16      -245           Weight Lbs 152      0   NA  \n",
       "5 16      -200           Weight Lbs 144      0   NA  \n",
       "6 16      -154           Weight Lbs 145      0   NA  "
      ]
     },
     "metadata": {},
     "output_type": "display_data"
    },
    {
     "data": {
      "text/html": [
       "<table>\n",
       "<thead><tr><th scope=col>STUDYID</th><th scope=col>DAYS_VIS_INDEX</th><th scope=col>err</th><th scope=col>diff</th><th scope=col>BMI</th><th scope=col>Height Metric</th><th scope=col>Height(In)</th><th scope=col>Weight Lbs</th><th scope=col>Weight Metric</th></tr></thead>\n",
       "<tbody>\n",
       "\t<tr><td>16  </td><td>-392</td><td>0   </td><td>NA  </td><td>NA  </td><td>NA  </td><td>NA  </td><td>144 </td><td>NA  </td></tr>\n",
       "\t<tr><td>16  </td><td>-382</td><td>0   </td><td>NA  </td><td>NA  </td><td>NA  </td><td>NA  </td><td>148 </td><td>NA  </td></tr>\n",
       "\t<tr><td>16  </td><td>-266</td><td>0   </td><td>NA  </td><td>NA  </td><td>NA  </td><td>NA  </td><td>145 </td><td>NA  </td></tr>\n",
       "\t<tr><td>16  </td><td>-245</td><td>0   </td><td>NA  </td><td>NA  </td><td>NA  </td><td>NA  </td><td>152 </td><td>NA  </td></tr>\n",
       "\t<tr><td>16  </td><td>-200</td><td>0   </td><td>NA  </td><td>NA  </td><td>NA  </td><td>NA  </td><td>144 </td><td>NA  </td></tr>\n",
       "\t<tr><td>16  </td><td>-154</td><td>0   </td><td>NA  </td><td>NA  </td><td>NA  </td><td>NA  </td><td>145 </td><td>NA  </td></tr>\n",
       "</tbody>\n",
       "</table>\n"
      ],
      "text/latex": [
       "\\begin{tabular}{r|lllllllll}\n",
       " STUDYID & DAYS\\_VIS\\_INDEX & err & diff & BMI & Height Metric & Height(In) & Weight Lbs & Weight Metric\\\\\n",
       "\\hline\n",
       "\t 16   & -392 & 0    & NA   & NA   & NA   & NA   & 144  & NA  \\\\\n",
       "\t 16   & -382 & 0    & NA   & NA   & NA   & NA   & 148  & NA  \\\\\n",
       "\t 16   & -266 & 0    & NA   & NA   & NA   & NA   & 145  & NA  \\\\\n",
       "\t 16   & -245 & 0    & NA   & NA   & NA   & NA   & 152  & NA  \\\\\n",
       "\t 16   & -200 & 0    & NA   & NA   & NA   & NA   & 144  & NA  \\\\\n",
       "\t 16   & -154 & 0    & NA   & NA   & NA   & NA   & 145  & NA  \\\\\n",
       "\\end{tabular}\n"
      ],
      "text/markdown": [
       "\n",
       "STUDYID | DAYS_VIS_INDEX | err | diff | BMI | Height Metric | Height(In) | Weight Lbs | Weight Metric | \n",
       "|---|---|---|---|---|---|\n",
       "| 16   | -392 | 0    | NA   | NA   | NA   | NA   | 144  | NA   | \n",
       "| 16   | -382 | 0    | NA   | NA   | NA   | NA   | 148  | NA   | \n",
       "| 16   | -266 | 0    | NA   | NA   | NA   | NA   | 145  | NA   | \n",
       "| 16   | -245 | 0    | NA   | NA   | NA   | NA   | 152  | NA   | \n",
       "| 16   | -200 | 0    | NA   | NA   | NA   | NA   | 144  | NA   | \n",
       "| 16   | -154 | 0    | NA   | NA   | NA   | NA   | 145  | NA   | \n",
       "\n",
       "\n"
      ],
      "text/plain": [
       "  STUDYID DAYS_VIS_INDEX err diff BMI Height Metric Height(In) Weight Lbs\n",
       "1 16      -392           0   NA   NA  NA            NA         144       \n",
       "2 16      -382           0   NA   NA  NA            NA         148       \n",
       "3 16      -266           0   NA   NA  NA            NA         145       \n",
       "4 16      -245           0   NA   NA  NA            NA         152       \n",
       "5 16      -200           0   NA   NA  NA            NA         144       \n",
       "6 16      -154           0   NA   NA  NA            NA         145       \n",
       "  Weight Metric\n",
       "1 NA           \n",
       "2 NA           \n",
       "3 NA           \n",
       "4 NA           \n",
       "5 NA           \n",
       "6 NA           "
      ]
     },
     "metadata": {},
     "output_type": "display_data"
    }
   ],
   "source": [
    "#Let's commpare the first 6 rows (using `head` function)  to see how the data structure has changed. \n",
    "head(wt_ht_uniq)\n",
    "wt_ht_wide <- spread(wt_ht_uniq, OBS, OBSVALUE)\n",
    "head(wt_ht_wide)"
   ]
  },
  {
   "cell_type": "markdown",
   "metadata": {},
   "source": [
    "### Delete err and diff columns \n",
    "At this point we do not have a use for these columns, so we remove them. \n",
    "Please note that we change the file name as we do major modifications on the data. This not only provides us a backup fpoints or possible errors made to the data as we progress but also to go back and query a question we have later on. "
   ]
  },
  {
   "cell_type": "code",
   "execution_count": 11,
   "metadata": {
    "collapsed": false
   },
   "outputs": [
    {
     "data": {
      "text/html": [
       "<table>\n",
       "<thead><tr><th scope=col>STUDYID</th><th scope=col>DAYS_VIS_INDEX</th><th scope=col>BMI</th><th scope=col>Height Metric</th><th scope=col>Height(In)</th><th scope=col>Weight Lbs</th><th scope=col>Weight Metric</th></tr></thead>\n",
       "<tbody>\n",
       "\t<tr><td>16  </td><td>-392</td><td>NA  </td><td>NA  </td><td>NA  </td><td>144 </td><td>NA  </td></tr>\n",
       "\t<tr><td>16  </td><td>-382</td><td>NA  </td><td>NA  </td><td>NA  </td><td>148 </td><td>NA  </td></tr>\n",
       "\t<tr><td>16  </td><td>-266</td><td>NA  </td><td>NA  </td><td>NA  </td><td>145 </td><td>NA  </td></tr>\n",
       "\t<tr><td>16  </td><td>-245</td><td>NA  </td><td>NA  </td><td>NA  </td><td>152 </td><td>NA  </td></tr>\n",
       "\t<tr><td>16  </td><td>-200</td><td>NA  </td><td>NA  </td><td>NA  </td><td>144 </td><td>NA  </td></tr>\n",
       "\t<tr><td>16  </td><td>-154</td><td>NA  </td><td>NA  </td><td>NA  </td><td>145 </td><td>NA  </td></tr>\n",
       "</tbody>\n",
       "</table>\n"
      ],
      "text/latex": [
       "\\begin{tabular}{r|lllllll}\n",
       " STUDYID & DAYS\\_VIS\\_INDEX & BMI & Height Metric & Height(In) & Weight Lbs & Weight Metric\\\\\n",
       "\\hline\n",
       "\t 16   & -392 & NA   & NA   & NA   & 144  & NA  \\\\\n",
       "\t 16   & -382 & NA   & NA   & NA   & 148  & NA  \\\\\n",
       "\t 16   & -266 & NA   & NA   & NA   & 145  & NA  \\\\\n",
       "\t 16   & -245 & NA   & NA   & NA   & 152  & NA  \\\\\n",
       "\t 16   & -200 & NA   & NA   & NA   & 144  & NA  \\\\\n",
       "\t 16   & -154 & NA   & NA   & NA   & 145  & NA  \\\\\n",
       "\\end{tabular}\n"
      ],
      "text/markdown": [
       "\n",
       "STUDYID | DAYS_VIS_INDEX | BMI | Height Metric | Height(In) | Weight Lbs | Weight Metric | \n",
       "|---|---|---|---|---|---|\n",
       "| 16   | -392 | NA   | NA   | NA   | 144  | NA   | \n",
       "| 16   | -382 | NA   | NA   | NA   | 148  | NA   | \n",
       "| 16   | -266 | NA   | NA   | NA   | 145  | NA   | \n",
       "| 16   | -245 | NA   | NA   | NA   | 152  | NA   | \n",
       "| 16   | -200 | NA   | NA   | NA   | 144  | NA   | \n",
       "| 16   | -154 | NA   | NA   | NA   | 145  | NA   | \n",
       "\n",
       "\n"
      ],
      "text/plain": [
       "  STUDYID DAYS_VIS_INDEX BMI Height Metric Height(In) Weight Lbs Weight Metric\n",
       "1 16      -392           NA  NA            NA         144        NA           \n",
       "2 16      -382           NA  NA            NA         148        NA           \n",
       "3 16      -266           NA  NA            NA         145        NA           \n",
       "4 16      -245           NA  NA            NA         152        NA           \n",
       "5 16      -200           NA  NA            NA         144        NA           \n",
       "6 16      -154           NA  NA            NA         145        NA           "
      ]
     },
     "metadata": {},
     "output_type": "display_data"
    },
    {
     "data": {
      "text/html": [
       "9420"
      ],
      "text/latex": [
       "9420"
      ],
      "text/markdown": [
       "9420"
      ],
      "text/plain": [
       "[1] 9420"
      ]
     },
     "metadata": {},
     "output_type": "display_data"
    }
   ],
   "source": [
    "wt_ht_wide <- wt_ht_wide[, -c(3,4)] #run once\n",
    "head(wt_ht_wide)\n",
    "length(unique(wt_ht_wide$STUDYID)) # number of unique patients "
   ]
  },
  {
   "cell_type": "markdown",
   "metadata": {},
   "source": [
    "### Removing extreme values\n",
    "In all large health data sets, extreme values are quite common and values should be checked for these kinds of abberations. We use simple histograms for our variables to see the distribution of the observation values.  "
   ]
  },
  {
   "cell_type": "code",
   "execution_count": 12,
   "metadata": {
    "collapsed": false
   },
   "outputs": [
    {
     "data": {
      "image/png": "[encoded data removed]",
      "text/plain": [
       "Plot with title \"Histogram of wt_ht_wide$`Weight Lbs`\""
      ]
     },
     "metadata": {},
     "output_type": "display_data"
    },
    {
     "data": {
      "image/png": "[encoded data removed]",
      "text/plain": [
       "Plot with title \"Histogram of wt_ht_wide$BMI\""
      ]
     },
     "metadata": {},
     "output_type": "display_data"
    }
   ],
   "source": [
    "par(mfrow=c(2,2)) # prints 4 figures in one page\n",
    "hist(wt_ht_wide$`Height Metric`)\n",
    "hist(wt_ht_wide$`Height(In)`)\n",
    "hist(wt_ht_wide$`Weight Metric`)\n",
    "hist(wt_ht_wide$`Weight Lbs`)\n",
    "par(mfrow=c(1,1))\n",
    "hist(wt_ht_wide$BMI)\n"
   ]
  },
  {
   "cell_type": "markdown",
   "metadata": {},
   "source": [
    "### Removing observation values beyond our pre-selected range\n",
    "Let's limit the range of variables since these extreme values are not likely to be true. We will be using the follwoing ranges (imperial values are converted to metric system):\n",
    "- For `height`, 140 to 210cm\n",
    "- For `weight`, 50 to 250kg\n",
    "- For `BMI`, 15-100 kg/m^2\n",
    "\n",
    "These values are choosen loosely. A wider or narrower range can be used based on the research question. We used `ifelse` function to replace values beyond our range with NA (empty field). "
   ]
  },
  {
   "cell_type": "code",
   "execution_count": 13,
   "metadata": {
    "collapsed": true
   },
   "outputs": [],
   "source": [
    "# Height range 140 to 210cm\n",
    "wt_ht_wide$`Height Metric`<- ifelse((wt_ht_wide$`Height Metric`>210)|\n",
    "                                    (wt_ht_wide$`Height Metric`< 140),\n",
    "                                    NA, wt_ht_wide$`Height Metric`)\n",
    "wt_ht_wide$`Height(In)`<- ifelse((wt_ht_wide$`Height(In)`>210/2.54)|\n",
    "                                 (wt_ht_wide$`Height(In)`< 140/2.54),\n",
    "                                    NA, wt_ht_wide$`Height(In)`)\n",
    "# Weight range 50 to 250kg \n",
    "wt_ht_wide$`Weight Metric`<- ifelse((wt_ht_wide$`Weight Metric`>250)|\n",
    "                                    (wt_ht_wide$`Weight Metric`< 50),\n",
    "                                    NA, wt_ht_wide$`Weight Metric`)\n",
    "wt_ht_wide$`Weight Lbs`<- ifelse((wt_ht_wide$`Weight Lbs`> (250/.4536)|\n",
    "                                  (wt_ht_wide$`Weight Lbs`< (50/.4536))),\n",
    "                                 NA, wt_ht_wide$`Weight Lbs`)\n",
    "\n",
    "# BMI 15 to 100 kg/m2\n",
    "wt_ht_wide$BMI<- ifelse((wt_ht_wide$BMI>100)|(wt_ht_wide$BMI< 15),\n",
    "                                    NA, wt_ht_wide$BMI)\n"
   ]
  },
  {
   "cell_type": "markdown",
   "metadata": {},
   "source": [
    "Let's see the disribution (historgram) of the 5 observations after the filtering. We can also use the `summary` function for each variable. "
   ]
  },
  {
   "cell_type": "code",
   "execution_count": 14,
   "metadata": {
    "collapsed": false
   },
   "outputs": [
    {
     "data": {
      "image/png": "[encoded data removed]",
      "text/plain": [
       "Plot with title \"Histogram of wt_ht_wide$`Weight Lbs`\""
      ]
     },
     "metadata": {},
     "output_type": "display_data"
    },
    {
     "data": {
      "text/plain": [
       "   Min. 1st Qu.  Median    Mean 3rd Qu.    Max.    NA's \n",
       "  140.0   160.1   170.0   169.2   177.4   207.0   79205 "
      ]
     },
     "metadata": {},
     "output_type": "display_data"
    },
    {
     "data": {
      "text/plain": [
       "   Min. 1st Qu.  Median    Mean 3rd Qu.    Max.    NA's \n",
       "  55.53   63.00   66.00   65.94   69.00   82.00   55629 "
      ]
     },
     "metadata": {},
     "output_type": "display_data"
    },
    {
     "data": {
      "text/plain": [
       "   Min. 1st Qu.  Median    Mean 3rd Qu.    Max.    NA's \n",
       "  50.00   75.60   91.10   95.69  110.00  249.00   60019 "
      ]
     },
     "metadata": {},
     "output_type": "display_data"
    },
    {
     "data": {
      "text/plain": [
       "   Min. 1st Qu.  Median    Mean 3rd Qu.    Max.    NA's \n",
       "  110.3   166.0   198.0   207.3   239.0   520.0   15629 "
      ]
     },
     "metadata": {},
     "output_type": "display_data"
    },
    {
     "data": {
      "text/plain": [
       "   Min. 1st Qu.  Median    Mean 3rd Qu.    Max.    NA's \n",
       "  15.00   28.35   33.21   34.77   39.99   94.69   78966 "
      ]
     },
     "metadata": {},
     "output_type": "display_data"
    },
    {
     "data": {
      "image/png": "[encoded data removed]",
      "text/plain": [
       "Plot with title \"Histogram of wt_ht_wide$BMI\""
      ]
     },
     "metadata": {},
     "output_type": "display_data"
    }
   ],
   "source": [
    "par(mfrow=c(2,2)) # prints 4 figures in one page\n",
    "hist(wt_ht_wide$`Height Metric`)\n",
    "hist(wt_ht_wide$`Height(In)`)\n",
    "hist(wt_ht_wide$`Weight Metric`)\n",
    "hist(wt_ht_wide$`Weight Lbs`)\n",
    "par(mfrow=c(1,1))\n",
    "hist(wt_ht_wide$BMI)\n",
    "\n",
    "summary(wt_ht_wide$`Height Metric`)\n",
    "summary(wt_ht_wide$`Height(In)`)\n",
    "summary(wt_ht_wide$`Weight Metric`)\n",
    "summary(wt_ht_wide$`Weight Lbs`)\n",
    "summary(wt_ht_wide$BMI)"
   ]
  },
  {
   "cell_type": "markdown",
   "metadata": {},
   "source": [
    "### Saving the data in RDATA format\n",
    "to load the file we use the following code: <br>\n",
    "load(file = \"wt_ht_wide.RDATA\")"
   ]
  },
  {
   "cell_type": "code",
   "execution_count": 15,
   "metadata": {
    "collapsed": false
   },
   "outputs": [
    {
     "data": {
      "text/html": [
       "<table>\n",
       "<thead><tr><th></th><th scope=col>size</th><th scope=col>isdir</th><th scope=col>mode</th><th scope=col>mtime</th><th scope=col>ctime</th><th scope=col>atime</th><th scope=col>uid</th><th scope=col>gid</th><th scope=col>uname</th><th scope=col>grname</th></tr></thead>\n",
       "<tbody>\n",
       "\t<tr><th scope=row>wt_ht_wide.RDATA</th><td>567537             </td><td>FALSE              </td><td>660                </td><td>2018-10-21 14:14:55</td><td>2018-10-21 14:14:55</td><td>2018-10-19 11:49:28</td><td>498945             </td><td>1297               </td><td>ukirbiyi           </td><td>T15                </td></tr>\n",
       "</tbody>\n",
       "</table>\n"
      ],
      "text/latex": [
       "\\begin{tabular}{r|llllllllll}\n",
       "  & size & isdir & mode & mtime & ctime & atime & uid & gid & uname & grname\\\\\n",
       "\\hline\n",
       "\twt\\_ht\\_wide.RDATA & 567537              & FALSE               & 660                 & 2018-10-21 14:14:55 & 2018-10-21 14:14:55 & 2018-10-19 11:49:28 & 498945              & 1297                & ukirbiyi            & T15                \\\\\n",
       "\\end{tabular}\n"
      ],
      "text/markdown": [
       "\n",
       "| <!--/--> | size | isdir | mode | mtime | ctime | atime | uid | gid | uname | grname | \n",
       "|---|\n",
       "| wt_ht_wide.RDATA | 567537              | FALSE               | 660                 | 2018-10-21 14:14:55 | 2018-10-21 14:14:55 | 2018-10-19 11:49:28 | 498945              | 1297                | ukirbiyi            | T15                 | \n",
       "\n",
       "\n"
      ],
      "text/plain": [
       "                 size   isdir mode mtime               ctime              \n",
       "wt_ht_wide.RDATA 567537 FALSE 660  2018-10-21 14:14:55 2018-10-21 14:14:55\n",
       "                 atime               uid    gid  uname    grname\n",
       "wt_ht_wide.RDATA 2018-10-19 11:49:28 498945 1297 ukirbiyi T15   "
      ]
     },
     "metadata": {},
     "output_type": "display_data"
    }
   ],
   "source": [
    "save(wt_ht_wide, file =\"wt_ht_wide.RDATA\")\n",
    "file.info(\"wt_ht_wide.RDATA\")"
   ]
  },
  {
   "cell_type": "markdown",
   "metadata": {
    "collapsed": true
   },
   "source": [
    "== END of EX 3.2 =="
   ]
  }
 ],
 "metadata": {
  "kernelspec": {
   "display_name": "R 3.3.1",
   "language": "R",
   "name": "ir"
  },
  "language_info": {
   "codemirror_mode": "r",
   "file_extension": ".r",
   "mimetype": "text/x-r-source",
   "name": "R",
   "pygments_lexer": "r",
   "version": "3.3.1"
  }
 },
 "nbformat": 4,
 "nbformat_minor": 2
}
