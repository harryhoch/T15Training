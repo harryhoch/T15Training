{
 "cells": [
  {
   "cell_type": "markdown",
   "metadata": {},
   "source": [
    "# The Indiana Training Program in Public and Population Health Informatics\n",
    "## EXERCISE 3  - BMI calculation using height and weight\n",
    "\n",
    "With exercise 3 we will be extracting and enhancing the basal metabolic index information (BMI) of patients. The exercise is set in 3 parts:<br>\n",
    "3.1- Exploring the data for keywords related to height, weight and BMI, subsetting the data<br>\n",
    "3.2- Cleaning the subset data, transforming (long to wide) and editing it<br>\n",
    "3.3- Creating BMI values from weight and height information, visualization<br> "
   ]
  },
  {
   "cell_type": "markdown",
   "metadata": {},
   "source": [
    "### 3.1 Filtering the data \n",
    "\n",
    "*Competencies addressed*  \n",
    "\n",
    " 1. II.1  Exploratory data analysis\n",
    " 2. Transformation of raw data to formats more suitable for downstream use cases (I.1.2)\n",
    " 3. ...\n"
   ]
  },
  {
   "cell_type": "markdown",
   "metadata": {},
   "source": [
    "*Learning objectives*  \n",
    " At the end of this module the student will be able to do the following:\n",
    "\n",
    "1. Explore the structure of the data ....\n",
    "2. Search for words within the data ... using string search methods including RegEx \n",
    "3. Subset the data using the criteria based on the words found..."
   ]
  },
  {
   "cell_type": "markdown",
   "metadata": {},
   "source": [
    "In this exercise... we will explore the clinical_var.csv file and select keywords for weight, height and BMI. We will subset the data using these keywords. \n",
    "<br><s>we will  enhance the BMI information of the patients using the height and weight records. The BMI information is recorded in the clinical_var dataset, however much fewer cases have this information. </s>\n",
    "\n",
    "Before we start working on R, we need to set the working directory. We will then check folder contents and check the clinical_var data contents without loading it. This is a practical way to inspect large datasets. "
   ]
  },
  {
   "cell_type": "code",
   "execution_count": 1,
   "metadata": {
    "collapsed": false
   },
   "outputs": [
    {
     "data": {
      "text/html": [
       "'/N/dc2/projects/T15/Sample'"
      ],
      "text/latex": [
       "'/N/dc2/projects/T15/Sample'"
      ],
      "text/markdown": [
       "'/N/dc2/projects/T15/Sample'"
      ],
      "text/plain": [
       "[1] \"/N/dc2/projects/T15/Sample\""
      ]
     },
     "metadata": {},
     "output_type": "display_data"
    },
    {
     "data": {
      "text/html": [
       "<ol class=list-inline>\n",
       "\t<li>'1-Descriptives.R'</li>\n",
       "\t<li>'2.1-Sampling.R'</li>\n",
       "\t<li>'2.2-Pertubration.R'</li>\n",
       "\t<li>'3-Exercises 1.R'</li>\n",
       "\t<li>'3-Exercises 32 Algorithm Check.R'</li>\n",
       "\t<li>'T-15 Ex 1 RACE.ipynb'</li>\n",
       "\t<li>'T-15 Ex 2 NDC.ipynb'</li>\n",
       "\t<li>'T-15 Ex 3 .1 BMI.ipynb'</li>\n",
       "\t<li>'T-15 Ex 3.2 BMI.ipynb'</li>\n",
       "\t<li>'T-15 Ex 3.3 BMI.ipynb'</li>\n",
       "\t<li>'Untitled.ipynb'</li>\n",
       "\t<li>'Untitled1.ipynb'</li>\n",
       "\t<li>'clinical_vars.csv'</li>\n",
       "\t<li>'diagnosis.csv'</li>\n",
       "\t<li>'encounters.csv'</li>\n",
       "\t<li>'ht_summary.csv'</li>\n",
       "\t<li>'medication.csv'</li>\n",
       "\t<li>'patients.csv'</li>\n",
       "\t<li>'t2d Exercises 1.ipynb'</li>\n",
       "\t<li>'unindc.dta'</li>\n",
       "\t<li>'wt_ht.RDATA'</li>\n",
       "\t<li>'wt_ht_wide.RDATA'</li>\n",
       "</ol>\n"
      ],
      "text/latex": [
       "\\begin{enumerate*}\n",
       "\\item '1-Descriptives.R'\n",
       "\\item '2.1-Sampling.R'\n",
       "\\item '2.2-Pertubration.R'\n",
       "\\item '3-Exercises 1.R'\n",
       "\\item '3-Exercises 32 Algorithm Check.R'\n",
       "\\item 'T-15 Ex 1 RACE.ipynb'\n",
       "\\item 'T-15 Ex 2 NDC.ipynb'\n",
       "\\item 'T-15 Ex 3 .1 BMI.ipynb'\n",
       "\\item 'T-15 Ex 3.2 BMI.ipynb'\n",
       "\\item 'T-15 Ex 3.3 BMI.ipynb'\n",
       "\\item 'Untitled.ipynb'\n",
       "\\item 'Untitled1.ipynb'\n",
       "\\item 'clinical\\_vars.csv'\n",
       "\\item 'diagnosis.csv'\n",
       "\\item 'encounters.csv'\n",
       "\\item 'ht\\_summary.csv'\n",
       "\\item 'medication.csv'\n",
       "\\item 'patients.csv'\n",
       "\\item 't2d Exercises 1.ipynb'\n",
       "\\item 'unindc.dta'\n",
       "\\item 'wt\\_ht.RDATA'\n",
       "\\item 'wt\\_ht\\_wide.RDATA'\n",
       "\\end{enumerate*}\n"
      ],
      "text/markdown": [
       "1. '1-Descriptives.R'\n",
       "2. '2.1-Sampling.R'\n",
       "3. '2.2-Pertubration.R'\n",
       "4. '3-Exercises 1.R'\n",
       "5. '3-Exercises 32 Algorithm Check.R'\n",
       "6. 'T-15 Ex 1 RACE.ipynb'\n",
       "7. 'T-15 Ex 2 NDC.ipynb'\n",
       "8. 'T-15 Ex 3 .1 BMI.ipynb'\n",
       "9. 'T-15 Ex 3.2 BMI.ipynb'\n",
       "10. 'T-15 Ex 3.3 BMI.ipynb'\n",
       "11. 'Untitled.ipynb'\n",
       "12. 'Untitled1.ipynb'\n",
       "13. 'clinical_vars.csv'\n",
       "14. 'diagnosis.csv'\n",
       "15. 'encounters.csv'\n",
       "16. 'ht_summary.csv'\n",
       "17. 'medication.csv'\n",
       "18. 'patients.csv'\n",
       "19. 't2d Exercises 1.ipynb'\n",
       "20. 'unindc.dta'\n",
       "21. 'wt_ht.RDATA'\n",
       "22. 'wt_ht_wide.RDATA'\n",
       "\n",
       "\n"
      ],
      "text/plain": [
       " [1] \"1-Descriptives.R\"                 \"2.1-Sampling.R\"                  \n",
       " [3] \"2.2-Pertubration.R\"               \"3-Exercises 1.R\"                 \n",
       " [5] \"3-Exercises 32 Algorithm Check.R\" \"T-15 Ex 1 RACE.ipynb\"            \n",
       " [7] \"T-15 Ex 2 NDC.ipynb\"              \"T-15 Ex 3 .1 BMI.ipynb\"          \n",
       " [9] \"T-15 Ex 3.2 BMI.ipynb\"            \"T-15 Ex 3.3 BMI.ipynb\"           \n",
       "[11] \"Untitled.ipynb\"                   \"Untitled1.ipynb\"                 \n",
       "[13] \"clinical_vars.csv\"                \"diagnosis.csv\"                   \n",
       "[15] \"encounters.csv\"                   \"ht_summary.csv\"                  \n",
       "[17] \"medication.csv\"                   \"patients.csv\"                    \n",
       "[19] \"t2d Exercises 1.ipynb\"            \"unindc.dta\"                      \n",
       "[21] \"wt_ht.RDATA\"                      \"wt_ht_wide.RDATA\"                "
      ]
     },
     "metadata": {},
     "output_type": "display_data"
    },
    {
     "data": {
      "text/html": [
       "<table>\n",
       "<thead><tr><th></th><th scope=col>size</th><th scope=col>isdir</th><th scope=col>mode</th><th scope=col>mtime</th><th scope=col>ctime</th><th scope=col>atime</th><th scope=col>uid</th><th scope=col>gid</th><th scope=col>uname</th><th scope=col>grname</th></tr></thead>\n",
       "<tbody>\n",
       "\t<tr><th scope=row>clinical_vars.csv</th><td>1410053638         </td><td>FALSE              </td><td>660                </td><td>2018-10-19 00:38:30</td><td>2018-10-19 00:51:32</td><td>2018-10-21 01:48:34</td><td>498945             </td><td>1297               </td><td>ukirbiyi           </td><td>T15                </td></tr>\n",
       "</tbody>\n",
       "</table>\n"
      ],
      "text/latex": [
       "\\begin{tabular}{r|llllllllll}\n",
       "  & size & isdir & mode & mtime & ctime & atime & uid & gid & uname & grname\\\\\n",
       "\\hline\n",
       "\tclinical\\_vars.csv & 1410053638          & FALSE               & 660                 & 2018-10-19 00:38:30 & 2018-10-19 00:51:32 & 2018-10-21 01:48:34 & 498945              & 1297                & ukirbiyi            & T15                \\\\\n",
       "\\end{tabular}\n"
      ],
      "text/markdown": [
       "\n",
       "| <!--/--> | size | isdir | mode | mtime | ctime | atime | uid | gid | uname | grname | \n",
       "|---|\n",
       "| clinical_vars.csv | 1410053638          | FALSE               | 660                 | 2018-10-19 00:38:30 | 2018-10-19 00:51:32 | 2018-10-21 01:48:34 | 498945              | 1297                | ukirbiyi            | T15                 | \n",
       "\n",
       "\n"
      ],
      "text/plain": [
       "                  size       isdir mode mtime               ctime              \n",
       "clinical_vars.csv 1410053638 FALSE 660  2018-10-19 00:38:30 2018-10-19 00:51:32\n",
       "                  atime               uid    gid  uname    grname\n",
       "clinical_vars.csv 2018-10-21 01:48:34 498945 1297 ukirbiyi T15   "
      ]
     },
     "metadata": {},
     "output_type": "display_data"
    }
   ],
   "source": [
    "getwd()  #check current directory\n",
    "setwd(\"/N/dc2/projects/T15/Sample\") # setting working folder\n",
    "list.files()\n",
    "file.info(\"clinical_vars.csv\")"
   ]
  },
  {
   "cell_type": "markdown",
   "metadata": {},
   "source": [
    "### Loading clinical_vars.csv and checking the contents\n",
    "This is a relatively large dataset and may take several minutes to load using base R. \n",
    "We will use fread function from  \"data.table\" package for faster loading. "
   ]
  },
  {
   "cell_type": "code",
   "execution_count": 2,
   "metadata": {
    "collapsed": false,
    "scrolled": true
   },
   "outputs": [],
   "source": [
    "#install.packages(\"data.table\")\n",
    "library(data.table)"
   ]
  },
  {
   "cell_type": "code",
   "execution_count": 3,
   "metadata": {
    "collapsed": false,
    "scrolled": true
   },
   "outputs": [
    {
     "data": {
      "text/html": [
       "<table>\n",
       "<thead><tr><th scope=col>STUDYID</th><th scope=col>OBS</th><th scope=col>TYPE</th><th scope=col>OBSVALUE</th><th scope=col>CODED_CODE</th><th scope=col>CODE_NAME</th><th scope=col>DAYS_VIS_INDEX</th></tr></thead>\n",
       "<tbody>\n",
       "\t<tr><td>16              </td><td>Acetaminophen   </td><td>Medications     </td><td>3783            </td><td>                </td><td>                </td><td>-392            </td></tr>\n",
       "\t<tr><td>16              </td><td>Acetamnphn W/Cod</td><td>Medications     </td><td>  12            </td><td>                </td><td>                </td><td>-392            </td></tr>\n",
       "\t<tr><td>16              </td><td>BP Dias Sitting </td><td>Phenotypes      </td><td>  69            </td><td>                </td><td>                </td><td>-392            </td></tr>\n",
       "\t<tr><td>16              </td><td>BP Sys Sitting  </td><td>Phenotypes      </td><td> 158            </td><td>                </td><td>                </td><td>-392            </td></tr>\n",
       "\t<tr><td>16              </td><td>Clinic Site     </td><td>Other           </td><td>  NA            </td><td>3636            </td><td>MED CL          </td><td>-392            </td></tr>\n",
       "\t<tr><td>16              </td><td>Encounter Site  </td><td>Other           </td><td>  NA            </td><td>3636            </td><td>MED CL          </td><td>-392            </td></tr>\n",
       "</tbody>\n",
       "</table>\n"
      ],
      "text/latex": [
       "\\begin{tabular}{r|lllllll}\n",
       " STUDYID & OBS & TYPE & OBSVALUE & CODED\\_CODE & CODE\\_NAME & DAYS\\_VIS\\_INDEX\\\\\n",
       "\\hline\n",
       "\t 16               & Acetaminophen    & Medications      & 3783             &                  &                  & -392            \\\\\n",
       "\t 16               & Acetamnphn W/Cod & Medications      &   12             &                  &                  & -392            \\\\\n",
       "\t 16               & BP Dias Sitting  & Phenotypes       &   69             &                  &                  & -392            \\\\\n",
       "\t 16               & BP Sys Sitting   & Phenotypes       &  158             &                  &                  & -392            \\\\\n",
       "\t 16               & Clinic Site      & Other            &   NA             & 3636             & MED CL           & -392            \\\\\n",
       "\t 16               & Encounter Site   & Other            &   NA             & 3636             & MED CL           & -392            \\\\\n",
       "\\end{tabular}\n"
      ],
      "text/markdown": [
       "\n",
       "STUDYID | OBS | TYPE | OBSVALUE | CODED_CODE | CODE_NAME | DAYS_VIS_INDEX | \n",
       "|---|---|---|---|---|---|\n",
       "| 16               | Acetaminophen    | Medications      | 3783             |                  |                  | -392             | \n",
       "| 16               | Acetamnphn W/Cod | Medications      |   12             |                  |                  | -392             | \n",
       "| 16               | BP Dias Sitting  | Phenotypes       |   69             |                  |                  | -392             | \n",
       "| 16               | BP Sys Sitting   | Phenotypes       |  158             |                  |                  | -392             | \n",
       "| 16               | Clinic Site      | Other            |   NA             | 3636             | MED CL           | -392             | \n",
       "| 16               | Encounter Site   | Other            |   NA             | 3636             | MED CL           | -392             | \n",
       "\n",
       "\n"
      ],
      "text/plain": [
       "  STUDYID OBS              TYPE        OBSVALUE CODED_CODE CODE_NAME\n",
       "1 16      Acetaminophen    Medications 3783                         \n",
       "2 16      Acetamnphn W/Cod Medications   12                         \n",
       "3 16      BP Dias Sitting  Phenotypes    69                         \n",
       "4 16      BP Sys Sitting   Phenotypes   158                         \n",
       "5 16      Clinic Site      Other         NA     3636       MED CL   \n",
       "6 16      Encounter Site   Other         NA     3636       MED CL   \n",
       "  DAYS_VIS_INDEX\n",
       "1 -392          \n",
       "2 -392          \n",
       "3 -392          \n",
       "4 -392          \n",
       "5 -392          \n",
       "6 -392          "
      ]
     },
     "metadata": {},
     "output_type": "display_data"
    },
    {
     "data": {
      "text/plain": [
       "    STUDYID            OBS                TYPE              OBSVALUE       \n",
       " Min.   :     16   Length:27776723    Length:27776723    Min.   :   -6407  \n",
       " 1st Qu.: 110019   Class :character   Class :character   1st Qu.:       5  \n",
       " Median : 306685   Mode  :character   Mode  :character   Median :      22  \n",
       " Mean   : 384745                                         Mean   :     122  \n",
       " 3rd Qu.: 549386                                         3rd Qu.:      87  \n",
       " Max.   :1256051                                         Max.   :42128382  \n",
       "                                                         NA's   :2329016   \n",
       "  CODED_CODE         CODE_NAME         DAYS_VIS_INDEX   \n",
       " Length:27776723    Length:27776723    Min.   :-7597.0  \n",
       " Class :character   Class :character   1st Qu.:  -10.0  \n",
       " Mode  :character   Mode  :character   Median :  484.0  \n",
       "                                       Mean   :  743.7  \n",
       "                                       3rd Qu.: 1761.0  \n",
       "                                       Max.   : 7635.0  \n",
       "                                                        "
      ]
     },
     "metadata": {},
     "output_type": "display_data"
    }
   ],
   "source": [
    "clinical <- fread(\"clinical_vars.csv\", sep = \",\", header= TRUE)\n",
    "head(clinical)\n",
    "summary(clinical)"
   ]
  },
  {
   "cell_type": "markdown",
   "metadata": {},
   "source": [
    "<b>NOTE:</b>  `fread` loads the OBS variable class as character where Base R loads it as a factor. This affects the way we interact with the data.<br> \n",
    "While character class does not retain levels after subsetting, factor class does. There is a need to switch to character and then back to factor to remove these levels if the file was to be loaded with  Base R (in Ex 3.2).<br>\n",
    "With `fread`, we will convert OBS to factor in Ex 3.2. "
   ]
  },
  {
   "cell_type": "markdown",
   "metadata": {},
   "source": [
    "### Exploring OBS variable levels \n",
    "This is where all the observations (& tests) names recorded. The correspoding OBSVALUE field contains to the recorded value.\n",
    "\n",
    "Let's create the list of all the observation (and test) names. "
   ]
  },
  {
   "cell_type": "code",
   "execution_count": 4,
   "metadata": {
    "collapsed": false
   },
   "outputs": [
    {
     "data": {
      "text/html": [
       "<ol class=list-inline>\n",
       "\t<li>2134</li>\n",
       "\t<li>2</li>\n",
       "</ol>\n"
      ],
      "text/latex": [
       "\\begin{enumerate*}\n",
       "\\item 2134\n",
       "\\item 2\n",
       "\\end{enumerate*}\n"
      ],
      "text/markdown": [
       "1. 2134\n",
       "2. 2\n",
       "\n",
       "\n"
      ],
      "text/plain": [
       "[1] 2134    2"
      ]
     },
     "metadata": {},
     "output_type": "display_data"
    },
    {
     "data": {
      "text/html": [
       "<table>\n",
       "<thead><tr><th scope=col>Var1</th><th scope=col>Freq</th></tr></thead>\n",
       "<tbody>\n",
       "\t<tr><td># Cells Counted in Diff  </td><td>19017                    </td></tr>\n",
       "\t<tr><td>17 OH Progest SerPl Qn   </td><td>  100                    </td></tr>\n",
       "\t<tr><td>A 1 Antitrypsin SerPl Qn </td><td>  910                    </td></tr>\n",
       "\t<tr><td>A1 Glob Ser Qn Elp       </td><td> 5243                    </td></tr>\n",
       "\t<tr><td>A2 Glob Ser Qn Elp       </td><td> 5267                    </td></tr>\n",
       "\t<tr><td>ABDOMINAL PAIN PAST MONTH</td><td>   15                    </td></tr>\n",
       "</tbody>\n",
       "</table>\n"
      ],
      "text/latex": [
       "\\begin{tabular}{r|ll}\n",
       " Var1 & Freq\\\\\n",
       "\\hline\n",
       "\t \\# Cells Counted in Diff   & 19017                      \\\\\n",
       "\t 17 OH Progest SerPl Qn    &   100                    \\\\\n",
       "\t A 1 Antitrypsin SerPl Qn  &   910                    \\\\\n",
       "\t A1 Glob Ser Qn Elp        &  5243                    \\\\\n",
       "\t A2 Glob Ser Qn Elp        &  5267                    \\\\\n",
       "\t ABDOMINAL PAIN PAST MONTH &    15                    \\\\\n",
       "\\end{tabular}\n"
      ],
      "text/markdown": [
       "\n",
       "Var1 | Freq | \n",
       "|---|---|---|---|---|---|\n",
       "| # Cells Counted in Diff   | 19017                     | \n",
       "| 17 OH Progest SerPl Qn    |   100                     | \n",
       "| A 1 Antitrypsin SerPl Qn  |   910                     | \n",
       "| A1 Glob Ser Qn Elp        |  5243                     | \n",
       "| A2 Glob Ser Qn Elp        |  5267                     | \n",
       "| ABDOMINAL PAIN PAST MONTH |    15                     | \n",
       "\n",
       "\n"
      ],
      "text/plain": [
       "  Var1                      Freq \n",
       "1 # Cells Counted in Diff   19017\n",
       "2 17 OH Progest SerPl Qn      100\n",
       "3 A 1 Antitrypsin SerPl Qn    910\n",
       "4 A1 Glob Ser Qn Elp         5243\n",
       "5 A2 Glob Ser Qn Elp         5267\n",
       "6 ABDOMINAL PAIN PAST MONTH    15"
      ]
     },
     "metadata": {},
     "output_type": "display_data"
    }
   ],
   "source": [
    "obs_data<- as.data.frame(table(clinical$OBS))\n",
    "dim(obs_data)\n",
    "head(obs_data) #looking at the first 6 rows of the OBS table"
   ]
  },
  {
   "cell_type": "markdown",
   "metadata": {},
   "source": [
    "There are 2134 names in the list. We need to find \"weight\", \"height\" and \"BMI\" observations within this table. Lets search for \"weight and \"height\"  and \"BMI\" in the obs levels. Because \"weight\" and \" height\" only differ by the first letter, we can search for \"eight\" to find them both. \n",
    "To do the search, we need the `str_detect` function from the stringr package. "
   ]
  },
  {
   "cell_type": "code",
   "execution_count": 5,
   "metadata": {
    "collapsed": false
   },
   "outputs": [
    {
     "name": "stderr",
     "output_type": "stream",
     "text": [
      "Installing package into '/gpfs/home/u/k/ukirbiyi/Carbonate/R/x86_64-pc-linux-gnu-library/3.3'\n",
      "(as 'lib' is unspecified)\n"
     ]
    }
   ],
   "source": [
    "install.packages(\"stringr\")\n",
    "library(stringr)  "
   ]
  },
  {
   "cell_type": "code",
   "execution_count": 6,
   "metadata": {
    "collapsed": false,
    "scrolled": true
   },
   "outputs": [
    {
     "data": {
      "text/html": [
       "<table>\n",
       "<thead><tr><th></th><th scope=col>Var1</th><th scope=col>Freq</th></tr></thead>\n",
       "<tbody>\n",
       "\t<tr><th scope=row>2099</th><td>Weight Lbs            </td><td>81715                 </td></tr>\n",
       "\t<tr><th scope=row>2101</th><td>Weight Metric         </td><td>43833                 </td></tr>\n",
       "\t<tr><th scope=row>931</th><td>Height(In)            </td><td>35938                 </td></tr>\n",
       "\t<tr><th scope=row>268</th><td>Body Weight           </td><td>22690                 </td></tr>\n",
       "\t<tr><th scope=row>930</th><td>Height Metric         </td><td>15897                 </td></tr>\n",
       "\t<tr><th scope=row>175</th><td>BMI                   </td><td> 9217                 </td></tr>\n",
       "\t<tr><th scope=row>1599</th><td>Patient Height Qn     </td><td> 5262                 </td></tr>\n",
       "\t<tr><th scope=row>266</th><td>Body Height           </td><td> 4829                 </td></tr>\n",
       "\t<tr><th scope=row>759</th><td>Fundus Height         </td><td> 2783                 </td></tr>\n",
       "\t<tr><th scope=row>2100</th><td>Weight Loss 6 Months  </td><td> 1246                 </td></tr>\n",
       "\t<tr><th scope=row>2088</th><td>WEIGHT SELF-ASSESSMENT</td><td> 1242                 </td></tr>\n",
       "\t<tr><th scope=row>2098</th><td>Weight Auto           </td><td> 1203                 </td></tr>\n",
       "\t<tr><th scope=row>2102</th><td>Weight Peds           </td><td>  718                 </td></tr>\n",
       "\t<tr><th scope=row>1604</th><td>Patient Weight Qn     </td><td>  585                 </td></tr>\n",
       "\t<tr><th scope=row>2097</th><td>Weight % Fetus A      </td><td>  562                 </td></tr>\n",
       "\t<tr><th scope=row>2087</th><td>WEIGHT ASSESSMENT     </td><td>  190                 </td></tr>\n",
       "\t<tr><th scope=row>1917</th><td>TISSUES SUBMITTED     </td><td>   10                 </td></tr>\n",
       "\t<tr><th scope=row>176</th><td><span style=white-space:pre-wrap>BMI&gt;30                </span></td><td><span style=white-space:pre-wrap>    9</span>                    </td></tr>\n",
       "</tbody>\n",
       "</table>\n"
      ],
      "text/latex": [
       "\\begin{tabular}{r|ll}\n",
       "  & Var1 & Freq\\\\\n",
       "\\hline\n",
       "\t2099 & Weight Lbs             & 81715                 \\\\\n",
       "\t2101 & Weight Metric          & 43833                 \\\\\n",
       "\t931 & Height(In)             & 35938                 \\\\\n",
       "\t268 & Body Weight            & 22690                 \\\\\n",
       "\t930 & Height Metric          & 15897                 \\\\\n",
       "\t175 & BMI                    &  9217                 \\\\\n",
       "\t1599 & Patient Height Qn      &  5262                 \\\\\n",
       "\t266 & Body Height            &  4829                 \\\\\n",
       "\t759 & Fundus Height          &  2783                 \\\\\n",
       "\t2100 & Weight Loss 6 Months   &  1246                 \\\\\n",
       "\t2088 & WEIGHT SELF-ASSESSMENT &  1242                 \\\\\n",
       "\t2098 & Weight Auto            &  1203                 \\\\\n",
       "\t2102 & Weight Peds            &   718                 \\\\\n",
       "\t1604 & Patient Weight Qn      &   585                 \\\\\n",
       "\t2097 & Weight \\% Fetus A       &   562                   \\\\\n",
       "\t2087 & WEIGHT ASSESSMENT      &   190                 \\\\\n",
       "\t1917 & TISSUES SUBMITTED      &    10                 \\\\\n",
       "\t176 & BMI>30                 &     9                 \\\\\n",
       "\\end{tabular}\n"
      ],
      "text/markdown": [
       "\n",
       "| <!--/--> | Var1 | Freq | \n",
       "|---|---|---|---|---|---|---|---|---|---|---|---|---|---|---|---|---|---|\n",
       "| 2099 | Weight Lbs             | 81715                  | \n",
       "| 2101 | Weight Metric          | 43833                  | \n",
       "| 931 | Height(In)             | 35938                  | \n",
       "| 268 | Body Weight            | 22690                  | \n",
       "| 930 | Height Metric          | 15897                  | \n",
       "| 175 | BMI                    |  9217                  | \n",
       "| 1599 | Patient Height Qn      |  5262                  | \n",
       "| 266 | Body Height            |  4829                  | \n",
       "| 759 | Fundus Height          |  2783                  | \n",
       "| 2100 | Weight Loss 6 Months   |  1246                  | \n",
       "| 2088 | WEIGHT SELF-ASSESSMENT |  1242                  | \n",
       "| 2098 | Weight Auto            |  1203                  | \n",
       "| 2102 | Weight Peds            |   718                  | \n",
       "| 1604 | Patient Weight Qn      |   585                  | \n",
       "| 2097 | Weight % Fetus A       |   562                  | \n",
       "| 2087 | WEIGHT ASSESSMENT      |   190                  | \n",
       "| 1917 | TISSUES SUBMITTED      |    10                  | \n",
       "| 176 | BMI>30                 |     9                  | \n",
       "\n",
       "\n"
      ],
      "text/plain": [
       "     Var1                   Freq \n",
       "2099 Weight Lbs             81715\n",
       "2101 Weight Metric          43833\n",
       "931  Height(In)             35938\n",
       "268  Body Weight            22690\n",
       "930  Height Metric          15897\n",
       "175  BMI                     9217\n",
       "1599 Patient Height Qn       5262\n",
       "266  Body Height             4829\n",
       "759  Fundus Height           2783\n",
       "2100 Weight Loss 6 Months    1246\n",
       "2088 WEIGHT SELF-ASSESSMENT  1242\n",
       "2098 Weight Auto             1203\n",
       "2102 Weight Peds              718\n",
       "1604 Patient Weight Qn        585\n",
       "2097 Weight % Fetus A         562\n",
       "2087 WEIGHT ASSESSMENT        190\n",
       "1917 TISSUES SUBMITTED         10\n",
       "176  BMI>30                     9"
      ]
     },
     "metadata": {},
     "output_type": "display_data"
    }
   ],
   "source": [
    "#Creating the name_list by appending the two querry results\n",
    "# the option ignore_case is used to disregard upper & lower case versions of letters. \n",
    "eight <- obs_data[str_detect(obs_data$Var1, fixed('eight', ignore_case=TRUE)),]\n",
    "bmi <- obs_data[str_detect(obs_data$Var1, fixed('bmi', ignore_case=TRUE)),]\n",
    "name_list <- rbind(eight,bmi) #add the rows of the two results \n",
    "name_list <- name_list[ order ( -name_list$Freq), ] #order from large to small by freq\n",
    "name_list\n",
    "\n",
    "rm(eight, bmi) # this code removes the temporary data created "
   ]
  },
  {
   "cell_type": "code",
   "execution_count": 7,
   "metadata": {
    "collapsed": false
   },
   "outputs": [
    {
     "data": {
      "text/html": [
       "<table>\n",
       "<thead><tr><th></th><th scope=col>Var1</th><th scope=col>Freq</th></tr></thead>\n",
       "<tbody>\n",
       "\t<tr><th scope=row>2099</th><td>Weight Lbs            </td><td>81715                 </td></tr>\n",
       "\t<tr><th scope=row>2101</th><td>Weight Metric         </td><td>43833                 </td></tr>\n",
       "\t<tr><th scope=row>931</th><td>Height(In)            </td><td>35938                 </td></tr>\n",
       "\t<tr><th scope=row>268</th><td>Body Weight           </td><td>22690                 </td></tr>\n",
       "\t<tr><th scope=row>930</th><td>Height Metric         </td><td>15897                 </td></tr>\n",
       "\t<tr><th scope=row>175</th><td>BMI                   </td><td> 9217                 </td></tr>\n",
       "\t<tr><th scope=row>1599</th><td>Patient Height Qn     </td><td> 5262                 </td></tr>\n",
       "\t<tr><th scope=row>266</th><td>Body Height           </td><td> 4829                 </td></tr>\n",
       "\t<tr><th scope=row>759</th><td>Fundus Height         </td><td> 2783                 </td></tr>\n",
       "\t<tr><th scope=row>2100</th><td>Weight Loss 6 Months  </td><td> 1246                 </td></tr>\n",
       "\t<tr><th scope=row>2088</th><td>WEIGHT SELF-ASSESSMENT</td><td> 1242                 </td></tr>\n",
       "\t<tr><th scope=row>2098</th><td>Weight Auto           </td><td> 1203                 </td></tr>\n",
       "\t<tr><th scope=row>2102</th><td>Weight Peds           </td><td>  718                 </td></tr>\n",
       "\t<tr><th scope=row>1604</th><td>Patient Weight Qn     </td><td>  585                 </td></tr>\n",
       "\t<tr><th scope=row>2097</th><td>Weight % Fetus A      </td><td>  562                 </td></tr>\n",
       "\t<tr><th scope=row>2087</th><td>WEIGHT ASSESSMENT     </td><td>  190                 </td></tr>\n",
       "\t<tr><th scope=row>1917</th><td>TISSUES SUBMITTED     </td><td>   10                 </td></tr>\n",
       "\t<tr><th scope=row>176</th><td><span style=white-space:pre-wrap>BMI&gt;30                </span></td><td><span style=white-space:pre-wrap>    9</span>                    </td></tr>\n",
       "</tbody>\n",
       "</table>\n"
      ],
      "text/latex": [
       "\\begin{tabular}{r|ll}\n",
       "  & Var1 & Freq\\\\\n",
       "\\hline\n",
       "\t2099 & Weight Lbs             & 81715                 \\\\\n",
       "\t2101 & Weight Metric          & 43833                 \\\\\n",
       "\t931 & Height(In)             & 35938                 \\\\\n",
       "\t268 & Body Weight            & 22690                 \\\\\n",
       "\t930 & Height Metric          & 15897                 \\\\\n",
       "\t175 & BMI                    &  9217                 \\\\\n",
       "\t1599 & Patient Height Qn      &  5262                 \\\\\n",
       "\t266 & Body Height            &  4829                 \\\\\n",
       "\t759 & Fundus Height          &  2783                 \\\\\n",
       "\t2100 & Weight Loss 6 Months   &  1246                 \\\\\n",
       "\t2088 & WEIGHT SELF-ASSESSMENT &  1242                 \\\\\n",
       "\t2098 & Weight Auto            &  1203                 \\\\\n",
       "\t2102 & Weight Peds            &   718                 \\\\\n",
       "\t1604 & Patient Weight Qn      &   585                 \\\\\n",
       "\t2097 & Weight \\% Fetus A       &   562                   \\\\\n",
       "\t2087 & WEIGHT ASSESSMENT      &   190                 \\\\\n",
       "\t1917 & TISSUES SUBMITTED      &    10                 \\\\\n",
       "\t176 & BMI>30                 &     9                 \\\\\n",
       "\\end{tabular}\n"
      ],
      "text/markdown": [
       "\n",
       "| <!--/--> | Var1 | Freq | \n",
       "|---|---|---|---|---|---|---|---|---|---|---|---|---|---|---|---|---|---|\n",
       "| 2099 | Weight Lbs             | 81715                  | \n",
       "| 2101 | Weight Metric          | 43833                  | \n",
       "| 931 | Height(In)             | 35938                  | \n",
       "| 268 | Body Weight            | 22690                  | \n",
       "| 930 | Height Metric          | 15897                  | \n",
       "| 175 | BMI                    |  9217                  | \n",
       "| 1599 | Patient Height Qn      |  5262                  | \n",
       "| 266 | Body Height            |  4829                  | \n",
       "| 759 | Fundus Height          |  2783                  | \n",
       "| 2100 | Weight Loss 6 Months   |  1246                  | \n",
       "| 2088 | WEIGHT SELF-ASSESSMENT |  1242                  | \n",
       "| 2098 | Weight Auto            |  1203                  | \n",
       "| 2102 | Weight Peds            |   718                  | \n",
       "| 1604 | Patient Weight Qn      |   585                  | \n",
       "| 2097 | Weight % Fetus A       |   562                  | \n",
       "| 2087 | WEIGHT ASSESSMENT      |   190                  | \n",
       "| 1917 | TISSUES SUBMITTED      |    10                  | \n",
       "| 176 | BMI>30                 |     9                  | \n",
       "\n",
       "\n"
      ],
      "text/plain": [
       "     Var1                   Freq \n",
       "2099 Weight Lbs             81715\n",
       "2101 Weight Metric          43833\n",
       "931  Height(In)             35938\n",
       "268  Body Weight            22690\n",
       "930  Height Metric          15897\n",
       "175  BMI                     9217\n",
       "1599 Patient Height Qn       5262\n",
       "266  Body Height             4829\n",
       "759  Fundus Height           2783\n",
       "2100 Weight Loss 6 Months    1246\n",
       "2088 WEIGHT SELF-ASSESSMENT  1242\n",
       "2098 Weight Auto             1203\n",
       "2102 Weight Peds              718\n",
       "1604 Patient Weight Qn        585\n",
       "2097 Weight % Fetus A         562\n",
       "2087 WEIGHT ASSESSMENT        190\n",
       "1917 TISSUES SUBMITTED         10\n",
       "176  BMI>30                     9"
      ]
     },
     "metadata": {},
     "output_type": "display_data"
    }
   ],
   "source": [
    "# The same result can be achieved with one line of code using a combination of \n",
    "# Regular Expressions (RegEx) and str_detect\n",
    "# regex('eight|bmi') translates as \"eight\" or \"bmi\" \n",
    "name_list <- obs_data[str_detect(obs_data$Var1, regex('eight|bmi', ignore_case=TRUE)),]\n",
    "name_list <- name_list[ order(-name_list$Freq), ] #order by freq (large to small)\n",
    "as.data.frame(name_list)"
   ]
  },
  {
   "cell_type": "markdown",
   "metadata": {},
   "source": [
    "### Choosing variables of interest \n",
    "The querry returns 18 OBS levels. The observations (OBS) with higher frequency and with units are useful for our purposes. So we choose the following fields: \n",
    "* \"Weight Lbs\", \n",
    "* \"Weight Metric\", * \"Height(In)\", \n",
    "* \"Height Metric\", \n",
    "* \"BMI\""
   ]
  },
  {
   "cell_type": "markdown",
   "metadata": {},
   "source": [
    "We will be filtering (subsetting) the dataset using these  OBS values as criteria. There are different ways to do this. Below are 3 different approaches: "
   ]
  },
  {
   "cell_type": "markdown",
   "metadata": {},
   "source": [
    "### Method 1- Subseting the dataset into 5 files using the selected obs values\n",
    "Later, we join these subsets to form our final dataset, wt_ht.  "
   ]
  },
  {
   "cell_type": "code",
   "execution_count": 8,
   "metadata": {
    "collapsed": false
   },
   "outputs": [
    {
     "data": {
      "text/html": [
       "<table>\n",
       "<thead><tr><th scope=col>STUDYID</th><th scope=col>OBS</th><th scope=col>TYPE</th><th scope=col>OBSVALUE</th><th scope=col>CODED_CODE</th><th scope=col>CODE_NAME</th><th scope=col>DAYS_VIS_INDEX</th></tr></thead>\n",
       "<tbody>\n",
       "\t<tr><td>16        </td><td>Weight Lbs</td><td>Phenotypes</td><td>144       </td><td>          </td><td>          </td><td>-392      </td></tr>\n",
       "\t<tr><td>16        </td><td>Weight Lbs</td><td>Phenotypes</td><td>148       </td><td>          </td><td>          </td><td>-382      </td></tr>\n",
       "\t<tr><td>16        </td><td>Weight Lbs</td><td>Phenotypes</td><td>145       </td><td>          </td><td>          </td><td>-266      </td></tr>\n",
       "\t<tr><td>16        </td><td>Weight Lbs</td><td>Phenotypes</td><td>152       </td><td>          </td><td>          </td><td>-245      </td></tr>\n",
       "\t<tr><td>16        </td><td>Weight Lbs</td><td>Phenotypes</td><td>144       </td><td>          </td><td>          </td><td>-200      </td></tr>\n",
       "\t<tr><td>16        </td><td>Weight Lbs</td><td>Phenotypes</td><td>145       </td><td>          </td><td>          </td><td>-154      </td></tr>\n",
       "</tbody>\n",
       "</table>\n"
      ],
      "text/latex": [
       "\\begin{tabular}{r|lllllll}\n",
       " STUDYID & OBS & TYPE & OBSVALUE & CODED\\_CODE & CODE\\_NAME & DAYS\\_VIS\\_INDEX\\\\\n",
       "\\hline\n",
       "\t 16         & Weight Lbs & Phenotypes & 144        &            &            & -392      \\\\\n",
       "\t 16         & Weight Lbs & Phenotypes & 148        &            &            & -382      \\\\\n",
       "\t 16         & Weight Lbs & Phenotypes & 145        &            &            & -266      \\\\\n",
       "\t 16         & Weight Lbs & Phenotypes & 152        &            &            & -245      \\\\\n",
       "\t 16         & Weight Lbs & Phenotypes & 144        &            &            & -200      \\\\\n",
       "\t 16         & Weight Lbs & Phenotypes & 145        &            &            & -154      \\\\\n",
       "\\end{tabular}\n"
      ],
      "text/markdown": [
       "\n",
       "STUDYID | OBS | TYPE | OBSVALUE | CODED_CODE | CODE_NAME | DAYS_VIS_INDEX | \n",
       "|---|---|---|---|---|---|\n",
       "| 16         | Weight Lbs | Phenotypes | 144        |            |            | -392       | \n",
       "| 16         | Weight Lbs | Phenotypes | 148        |            |            | -382       | \n",
       "| 16         | Weight Lbs | Phenotypes | 145        |            |            | -266       | \n",
       "| 16         | Weight Lbs | Phenotypes | 152        |            |            | -245       | \n",
       "| 16         | Weight Lbs | Phenotypes | 144        |            |            | -200       | \n",
       "| 16         | Weight Lbs | Phenotypes | 145        |            |            | -154       | \n",
       "\n",
       "\n"
      ],
      "text/plain": [
       "  STUDYID OBS        TYPE       OBSVALUE CODED_CODE CODE_NAME DAYS_VIS_INDEX\n",
       "1 16      Weight Lbs Phenotypes 144                           -392          \n",
       "2 16      Weight Lbs Phenotypes 148                           -382          \n",
       "3 16      Weight Lbs Phenotypes 145                           -266          \n",
       "4 16      Weight Lbs Phenotypes 152                           -245          \n",
       "5 16      Weight Lbs Phenotypes 144                           -200          \n",
       "6 16      Weight Lbs Phenotypes 145                           -154          "
      ]
     },
     "metadata": {},
     "output_type": "display_data"
    },
    {
     "data": {
      "text/html": [
       "9548"
      ],
      "text/latex": [
       "9548"
      ],
      "text/markdown": [
       "9548"
      ],
      "text/plain": [
       "[1] 9548"
      ]
     },
     "metadata": {},
     "output_type": "display_data"
    }
   ],
   "source": [
    "a <- clinical[clinical$OBS == \"Weight Lbs\",]\n",
    "b <- clinical[clinical$OBS == \"Weight Metric\",]\n",
    "c <- clinical[clinical$OBS == \"Height(In)\",]\n",
    "d <- clinical[clinical$OBS == \"Height Metric\",]\n",
    "e <- clinical[clinical$OBS == \"BMI\",]\n",
    "\n",
    "wt_ht <- rbind(a,b,c,d,e)\n",
    "\n",
    "head(wt_ht)\n",
    "length(unique(wt_ht$STUDYID))\n",
    "rm(a,b,c,d,e) #deleting temporary variables"
   ]
  },
  {
   "cell_type": "markdown",
   "metadata": {
    "collapsed": true
   },
   "source": [
    "### Method 2- Using Regular Expressions (RegEx) \n",
    "The following RegEx (regular expression) code does the same filtering as above examples. It uses  the `grep` function as well as the `subset` function. Here is how the RegEx code translates:\n",
    "`^[wh]+eight+.*(ric$|bs$|\\\\)$)|^bmi$`\n",
    "\n",
    "  all names start with \"w\" or \"h\" followed by \"eight\", after a number of characters (.*), AND <br>\n",
    "  must end with \"ric\" or \"bs\" or \")\"(note that the escape character \"\\\" has to be written twice) <br>\n",
    "OR (|) <br>\n",
    "  names that start and end with \"bmi\" <br>"
   ]
  },
  {
   "cell_type": "code",
   "execution_count": 9,
   "metadata": {
    "collapsed": false,
    "scrolled": true
   },
   "outputs": [
    {
     "data": {
      "text/html": [
       "<table>\n",
       "<thead><tr><th scope=col>STUDYID</th><th scope=col>OBS</th><th scope=col>TYPE</th><th scope=col>OBSVALUE</th><th scope=col>CODED_CODE</th><th scope=col>CODE_NAME</th><th scope=col>DAYS_VIS_INDEX</th></tr></thead>\n",
       "<tbody>\n",
       "\t<tr><td>16        </td><td>Weight Lbs</td><td>Phenotypes</td><td>144       </td><td>          </td><td>          </td><td>-392      </td></tr>\n",
       "\t<tr><td>16        </td><td>Weight Lbs</td><td>Phenotypes</td><td>148       </td><td>          </td><td>          </td><td>-382      </td></tr>\n",
       "\t<tr><td>16        </td><td>Weight Lbs</td><td>Phenotypes</td><td>145       </td><td>          </td><td>          </td><td>-266      </td></tr>\n",
       "\t<tr><td>16        </td><td>Weight Lbs</td><td>Phenotypes</td><td>152       </td><td>          </td><td>          </td><td>-245      </td></tr>\n",
       "\t<tr><td>16        </td><td>Weight Lbs</td><td>Phenotypes</td><td>144       </td><td>          </td><td>          </td><td>-200      </td></tr>\n",
       "\t<tr><td>16        </td><td>Weight Lbs</td><td>Phenotypes</td><td>145       </td><td>          </td><td>          </td><td>-154      </td></tr>\n",
       "</tbody>\n",
       "</table>\n"
      ],
      "text/latex": [
       "\\begin{tabular}{r|lllllll}\n",
       " STUDYID & OBS & TYPE & OBSVALUE & CODED\\_CODE & CODE\\_NAME & DAYS\\_VIS\\_INDEX\\\\\n",
       "\\hline\n",
       "\t 16         & Weight Lbs & Phenotypes & 144        &            &            & -392      \\\\\n",
       "\t 16         & Weight Lbs & Phenotypes & 148        &            &            & -382      \\\\\n",
       "\t 16         & Weight Lbs & Phenotypes & 145        &            &            & -266      \\\\\n",
       "\t 16         & Weight Lbs & Phenotypes & 152        &            &            & -245      \\\\\n",
       "\t 16         & Weight Lbs & Phenotypes & 144        &            &            & -200      \\\\\n",
       "\t 16         & Weight Lbs & Phenotypes & 145        &            &            & -154      \\\\\n",
       "\\end{tabular}\n"
      ],
      "text/markdown": [
       "\n",
       "STUDYID | OBS | TYPE | OBSVALUE | CODED_CODE | CODE_NAME | DAYS_VIS_INDEX | \n",
       "|---|---|---|---|---|---|\n",
       "| 16         | Weight Lbs | Phenotypes | 144        |            |            | -392       | \n",
       "| 16         | Weight Lbs | Phenotypes | 148        |            |            | -382       | \n",
       "| 16         | Weight Lbs | Phenotypes | 145        |            |            | -266       | \n",
       "| 16         | Weight Lbs | Phenotypes | 152        |            |            | -245       | \n",
       "| 16         | Weight Lbs | Phenotypes | 144        |            |            | -200       | \n",
       "| 16         | Weight Lbs | Phenotypes | 145        |            |            | -154       | \n",
       "\n",
       "\n"
      ],
      "text/plain": [
       "  STUDYID OBS        TYPE       OBSVALUE CODED_CODE CODE_NAME DAYS_VIS_INDEX\n",
       "1 16      Weight Lbs Phenotypes 144                           -392          \n",
       "2 16      Weight Lbs Phenotypes 148                           -382          \n",
       "3 16      Weight Lbs Phenotypes 145                           -266          \n",
       "4 16      Weight Lbs Phenotypes 152                           -245          \n",
       "5 16      Weight Lbs Phenotypes 144                           -200          \n",
       "6 16      Weight Lbs Phenotypes 145                           -154          "
      ]
     },
     "metadata": {},
     "output_type": "display_data"
    },
    {
     "data": {
      "text/html": [
       "9548"
      ],
      "text/latex": [
       "9548"
      ],
      "text/markdown": [
       "9548"
      ],
      "text/plain": [
       "[1] 9548"
      ]
     },
     "metadata": {},
     "output_type": "display_data"
    },
    {
     "data": {
      "text/plain": [
       "    STUDYID            OBS                TYPE              OBSVALUE     \n",
       " Min.   :     16   Length:186600      Length:186600      Min.   :   0.0  \n",
       " 1st Qu.:  44423   Class :character   Class :character   1st Qu.:  69.0  \n",
       " Median : 115472   Mode  :character   Mode  :character   Median : 136.0  \n",
       " Mean   : 236677                                         Mean   : 140.5  \n",
       " 3rd Qu.: 313805                                         3rd Qu.: 189.0  \n",
       " Max.   :1255910                                         Max.   :6327.4  \n",
       "  CODED_CODE         CODE_NAME         DAYS_VIS_INDEX   \n",
       " Length:186600      Length:186600      Min.   :-7532.0  \n",
       " Class :character   Class :character   1st Qu.: -485.0  \n",
       " Mode  :character   Mode  :character   Median :  300.0  \n",
       "                                       Mean   :  408.9  \n",
       "                                       3rd Qu.: 1628.0  \n",
       "                                       Max.   : 7619.0  "
      ]
     },
     "metadata": {},
     "output_type": "display_data"
    }
   ],
   "source": [
    "#wt_ht <- subset(clinical, grepl(\"^[wh]+eight+.*(ric$|bs$|\\\\)$)|^bmi$\",OBS,ignore.case = TRUE))\n",
    "\n",
    "head(wt_ht)\n",
    "length(unique(wt_ht$STUDYID)) #number of unique patients\n",
    "summary(wt_ht)"
   ]
  },
  {
   "cell_type": "markdown",
   "metadata": {
    "collapsed": false
   },
   "source": [
    "### Metthods 3- Using the filter function from the Dplyr package (quickest)\n",
    "The code below does the criteria search within one string of code. The pipe operator `%>%` is used to apply `filter`  then a second `select` function to select the columns (which we do later).\n",
    "\n",
    "The `filter`, `select` and `%>%` (piping) functions require dplyr (which is a part of Tidyverse package).\n",
    "\n",
    " "
   ]
  },
  {
   "cell_type": "code",
   "execution_count": 10,
   "metadata": {
    "collapsed": false
   },
   "outputs": [
    {
     "name": "stderr",
     "output_type": "stream",
     "text": [
      "-- Attaching packages --------------------------------------- tidyverse 1.2.1 --\n",
      "<U+221A> ggplot2 3.0.0     <U+221A> readr   1.1.1\n",
      "<U+221A> tibble  1.4.2     <U+221A> purrr   0.2.5\n",
      "<U+221A> tidyr   0.8.1     <U+221A> dplyr   0.7.6\n",
      "<U+221A> ggplot2 3.0.0     <U+221A> forcats 0.3.0\n",
      "-- Conflicts ------------------------------------------ tidyverse_conflicts() --\n",
      "x dplyr::between()   masks data.table::between()\n",
      "x dplyr::filter()    masks stats::filter()\n",
      "x dplyr::first()     masks data.table::first()\n",
      "x dplyr::lag()       masks stats::lag()\n",
      "x dplyr::last()      masks data.table::last()\n",
      "x purrr::transpose() masks data.table::transpose()\n"
     ]
    }
   ],
   "source": [
    "# Install the package if you haven't before. \n",
    "#install.packages(\"tidyverse\")\n",
    "library(tidyverse) \n"
   ]
  },
  {
   "cell_type": "code",
   "execution_count": 11,
   "metadata": {
    "collapsed": false,
    "scrolled": true
   },
   "outputs": [
    {
     "data": {
      "text/html": [
       "<table>\n",
       "<thead><tr><th scope=col>STUDYID</th><th scope=col>OBS</th><th scope=col>OBSVALUE</th><th scope=col>DAYS_VIS_INDEX</th></tr></thead>\n",
       "<tbody>\n",
       "\t<tr><td>16        </td><td>Weight Lbs</td><td>144       </td><td>-392      </td></tr>\n",
       "\t<tr><td>16        </td><td>Weight Lbs</td><td>148       </td><td>-382      </td></tr>\n",
       "\t<tr><td>16        </td><td>Weight Lbs</td><td>145       </td><td>-266      </td></tr>\n",
       "\t<tr><td>16        </td><td>Weight Lbs</td><td>152       </td><td>-245      </td></tr>\n",
       "\t<tr><td>16        </td><td>Weight Lbs</td><td>144       </td><td>-200      </td></tr>\n",
       "\t<tr><td>16        </td><td>Weight Lbs</td><td>145       </td><td>-154      </td></tr>\n",
       "</tbody>\n",
       "</table>\n"
      ],
      "text/latex": [
       "\\begin{tabular}{r|llll}\n",
       " STUDYID & OBS & OBSVALUE & DAYS\\_VIS\\_INDEX\\\\\n",
       "\\hline\n",
       "\t 16         & Weight Lbs & 144        & -392      \\\\\n",
       "\t 16         & Weight Lbs & 148        & -382      \\\\\n",
       "\t 16         & Weight Lbs & 145        & -266      \\\\\n",
       "\t 16         & Weight Lbs & 152        & -245      \\\\\n",
       "\t 16         & Weight Lbs & 144        & -200      \\\\\n",
       "\t 16         & Weight Lbs & 145        & -154      \\\\\n",
       "\\end{tabular}\n"
      ],
      "text/markdown": [
       "\n",
       "STUDYID | OBS | OBSVALUE | DAYS_VIS_INDEX | \n",
       "|---|---|---|---|---|---|\n",
       "| 16         | Weight Lbs | 144        | -392       | \n",
       "| 16         | Weight Lbs | 148        | -382       | \n",
       "| 16         | Weight Lbs | 145        | -266       | \n",
       "| 16         | Weight Lbs | 152        | -245       | \n",
       "| 16         | Weight Lbs | 144        | -200       | \n",
       "| 16         | Weight Lbs | 145        | -154       | \n",
       "\n",
       "\n"
      ],
      "text/plain": [
       "  STUDYID OBS        OBSVALUE DAYS_VIS_INDEX\n",
       "1 16      Weight Lbs 144      -392          \n",
       "2 16      Weight Lbs 148      -382          \n",
       "3 16      Weight Lbs 145      -266          \n",
       "4 16      Weight Lbs 152      -245          \n",
       "5 16      Weight Lbs 144      -200          \n",
       "6 16      Weight Lbs 145      -154          "
      ]
     },
     "metadata": {},
     "output_type": "display_data"
    },
    {
     "data": {
      "text/html": [
       "9548"
      ],
      "text/latex": [
       "9548"
      ],
      "text/markdown": [
       "9548"
      ],
      "text/plain": [
       "[1] 9548"
      ]
     },
     "metadata": {},
     "output_type": "display_data"
    }
   ],
   "source": [
    "#Piping operation \n",
    "wt_ht <- clinical %>% \n",
    "  filter(OBS %in% c(\"Weight Lbs\", \"Weight Metric\", \"Height(In)\", \"Height Metric\", \"BMI\")) %>%\n",
    "  select(c(1,2,4,7))\n",
    "head(wt_ht)\n",
    "length(unique(wt_ht$STUDYID))"
   ]
  },
  {
   "cell_type": "markdown",
   "metadata": {},
   "source": [
    "### Saving the data in RDATA format\n",
    "to load the file we use the following code: <br>\n",
    "load(file = \"wt_ht.RDATA\")"
   ]
  },
  {
   "cell_type": "code",
   "execution_count": 12,
   "metadata": {
    "collapsed": false
   },
   "outputs": [
    {
     "data": {
      "text/html": [
       "<table>\n",
       "<thead><tr><th></th><th scope=col>size</th><th scope=col>isdir</th><th scope=col>mode</th><th scope=col>mtime</th><th scope=col>ctime</th><th scope=col>atime</th><th scope=col>uid</th><th scope=col>gid</th><th scope=col>uname</th><th scope=col>grname</th></tr></thead>\n",
       "<tbody>\n",
       "\t<tr><th scope=row>wt_ht.RDATA</th><td>672195             </td><td>FALSE              </td><td>660                </td><td>2018-10-21 14:13:05</td><td>2018-10-21 14:13:05</td><td>2018-10-21 01:50:49</td><td>498945             </td><td>1297               </td><td>ukirbiyi           </td><td>T15                </td></tr>\n",
       "</tbody>\n",
       "</table>\n"
      ],
      "text/latex": [
       "\\begin{tabular}{r|llllllllll}\n",
       "  & size & isdir & mode & mtime & ctime & atime & uid & gid & uname & grname\\\\\n",
       "\\hline\n",
       "\twt\\_ht.RDATA & 672195              & FALSE               & 660                 & 2018-10-21 14:13:05 & 2018-10-21 14:13:05 & 2018-10-21 01:50:49 & 498945              & 1297                & ukirbiyi            & T15                \\\\\n",
       "\\end{tabular}\n"
      ],
      "text/markdown": [
       "\n",
       "| <!--/--> | size | isdir | mode | mtime | ctime | atime | uid | gid | uname | grname | \n",
       "|---|\n",
       "| wt_ht.RDATA | 672195              | FALSE               | 660                 | 2018-10-21 14:13:05 | 2018-10-21 14:13:05 | 2018-10-21 01:50:49 | 498945              | 1297                | ukirbiyi            | T15                 | \n",
       "\n",
       "\n"
      ],
      "text/plain": [
       "            size   isdir mode mtime               ctime              \n",
       "wt_ht.RDATA 672195 FALSE 660  2018-10-21 14:13:05 2018-10-21 14:13:05\n",
       "            atime               uid    gid  uname    grname\n",
       "wt_ht.RDATA 2018-10-21 01:50:49 498945 1297 ukirbiyi T15   "
      ]
     },
     "metadata": {},
     "output_type": "display_data"
    }
   ],
   "source": [
    "save(wt_ht, file =\"wt_ht.RDATA\")\n",
    "file.info(\"wt_ht.RDATA\")"
   ]
  },
  {
   "cell_type": "markdown",
   "metadata": {},
   "source": [
    "== END of EXERCISE 3.1 =="
   ]
  }
 ],
 "metadata": {
  "kernelspec": {
   "display_name": "R 3.3.1",
   "language": "R",
   "name": "ir"
  },
  "language_info": {
   "codemirror_mode": "r",
   "file_extension": ".r",
   "mimetype": "text/x-r-source",
   "name": "R",
   "pygments_lexer": "r",
   "version": "3.3.1"
  }
 },
 "nbformat": 4,
 "nbformat_minor": 2
}
